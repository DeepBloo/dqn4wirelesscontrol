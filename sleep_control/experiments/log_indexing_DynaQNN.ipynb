{
 "cells": [
  {
   "cell_type": "code",
   "execution_count": 71,
   "metadata": {
    "collapsed": true
   },
   "outputs": [],
   "source": [
    "import regex as re\n",
    "import pandas as pd"
   ]
  },
  {
   "cell_type": "code",
   "execution_count": 112,
   "metadata": {
    "collapsed": true
   },
   "outputs": [],
   "source": [
    "def msg_sim(num_sim):\n",
    "    # RegEx format template for a single simulation round. Group name suffixed by sim_num\n",
    "    msg_single_sim = (\n",
    "    # action: only apply uniform random policy\n",
    "    '    QAgent.act_\\(\\): randomly choose action \\(None state\\).\\n'\n",
    "    # simulated experience\n",
    "    '    DynaMixin.reinforce_\\(\\): simulated experience \\d: [\\w\\(\\)\\.\\-, \\']+\\n'\n",
    "    # QAgent reinforce\n",
    "    '(?:(?:    QAgentNN.reinforce_\\(\\): (?:'\n",
    "            '(?:last_state is None.)|'\n",
    "            '(?:last_reward is None.)|'\n",
    "            '(?:state is None.)|'\n",
    "            '(?:unfull memory.)'\n",
    "    ')\\n)|(?:'\n",
    "    '(?:    QAgentNN.reinforce_\\(\\): update counter (?P<counter_update_sim{suffix}>\\d+), freeze counter (?P<counter_freeze{suffix}>\\d+), rs counter (?P<counter_rs{suffix}>\\d+).\\n)'\n",
    "    '(?:'\n",
    "        '(?:    QAgentNN.reinforce_\\(\\): update loss is (?P<loss{suffix}>[\\w\\.-]+), reward_scaling is (?P<reward_scaling{suffix}>[\\w\\.-]+)\\n)'\n",
    "    # mini-batch distribution: wake and sleep (float or string)\n",
    "        '(?:        QAgentNN.reinforce_\\(\\): batch action distribution: (\\{{'\n",
    "                        '\\(False, \\'serve_all\\'\\): (?P<batch_dist_wake{suffix}>[\\w\\.-]+), '\n",
    "                        '\\(True, None\\): (?P<batch_dist_sleep{suffix}>[\\w\\.-]+)'\n",
    "        '\\}})\\n)'\n",
    "    ')?'\n",
    "    '))'\n",
    "    )\n",
    "    return ''.join([msg_single_sim.format(suffix='_sim_'+str(n)) for n in range(num_sim)])\n",
    "def epoch_msg(num_sim):\n",
    "    return (\n",
    "    # epoch: uint\n",
    "    # time stamp: YYYY-MM-DD HH:MM:SS\n",
    "    'Epoch (?P<epoch>\\d+), (?P<start_ts>\\d{4}-\\d{2}-\\d{2} \\d{2}:\\d{2}:\\d{2}) - (?P<end_ts>\\d{4}-\\d{2}-\\d{2} \\d{2}:\\d{2}:\\d{2})\\n'\n",
    "    # last reward: float or None\n",
    "    'Emulation.step\\(\\): last reward: (?:(?P<last_reward>[-]*[\\d\\.]+)|(?:None))\\n'\n",
    "\n",
    "    # Sessions: uint\n",
    "    '    TrafficEmulator.generate_traffic\\(\\): located (?P<session_in>\\d+), droped (?P<session_out>\\d+), left (?P<session_net>\\d+) sessions.\\n'\n",
    "    # Requests: uint\n",
    "    '        TrafficEmulator.generate_requests_\\(\\): generated (?P<req_generated>\\d+) requests.\\n'\n",
    "\n",
    "    # Observation (uint, uint, uint)\n",
    "    'Emulation.step\\(\\): observation: \\((?P<ob_last_q>\\d+), (?P<ob_last_t>\\d+), (?P<ob_new_q>\\d+)\\)\\n'\n",
    "\n",
    "    # Environment model: unfull tr win warning or stride and eval counters (uint, uint)\n",
    "    # eval score\n",
    "    '    SJTUModel.improve\\(\\): (?:unfull traffic window.|stride counter (?P<counter_model_stride>\\d+), eval counter (?P<counter_model_eval>\\d+))\\n'\n",
    "    '(?:    SJTUModel.improve\\(\\): model score (?P<score_model>[\\w\\.-]+), expected (?P<score_model_exp>[\\w\\.-]+), diff. (?P<score_model_diff>[\\w\\.-]+)\\n)?'\n",
    "    '    DynaMixin.improve_translate_\\(\\): belief state (?:None|\\((?P<belief_last_t>[\\w\\.-]+), \\d+, (?:True|False)\\))\\n'\n",
    "\n",
    "    # agent update msg: 4 strings or loss (float or string) + rs (float or string)\n",
    "    '(?:(?:    QAgentNN.reinforce_\\(\\): (?P<agent_update_msg>'\n",
    "            '(?:last_state is None.)|'\n",
    "            '(?:last_reward is None.)|'\n",
    "            '(?:state is None.)|'\n",
    "            '(?:unfull memory.)'\n",
    "    ')\\n)|(?:'\n",
    "    '(?:    QAgentNN.reinforce_\\(\\): update counter (?P<counter_update>\\d+), freeze counter (?P<counter_freeze>\\d+), rs counter (?P<counter_rs>\\d+).\\n)'\n",
    "    '(?:'\n",
    "        '(?:    QAgentNN.reinforce_\\(\\): update loss is (?P<loss>[\\w\\.-]+), reward_scaling is (?P<reward_scaling>[\\w\\.-]+)\\n)'\n",
    "    # mini-batch distribution: wake and sleep (float or string)\n",
    "        '(?:        QAgentNN.reinforce_\\(\\): batch action distribution: (?P<batch_dist>\\{'\n",
    "                        '\\(False, \\'serve_all\\'\\): (?P<batch_dist_wake>[\\w\\.-]+), '\n",
    "                        '\\(True, None\\): (?P<batch_dist_sleep>[\\w\\.-]+)'\n",
    "        '\\})\\n)'\n",
    "    ')?'\n",
    "    '))'\n",
    "    ) + \\\n",
    "    msg_sim(num_sim) + \\\n",
    "    (\n",
    "    # action msg: random or policy\n",
    "    #   q_values if epsilon greedy\n",
    "    # policy msg\n",
    "    '    QAgent.act_\\(\\): '\n",
    "        '(?P<agent_act_msg>('\n",
    "            '(?:randomly choose action)|'\n",
    "            '(?:choose best q among '\n",
    "                '(?P<q_vals>\\{\\(False, \\'serve_all\\'\\): (?P<q_wake>[\\w\\.-]+), \\(True, None\\): (?P<q_sleep>[\\w\\.-]+)\\}))'\n",
    "        ')'\n",
    "        ' \\((?P<agent_act_basis>[a-zA-Z ]+)\\)'\n",
    "        ').\\n'\n",
    "\n",
    "    # agent action: (True, None) or (False, 'serve_all')\n",
    "    # agent update: [ignore]\n",
    "    'Emulation.step\\(\\): control: (?P<agent_action>\\([a-zA-Z,_ \\']+\\)), agent update: .*\\n'\n",
    "\n",
    "    # Service: \n",
    "    #   req: served, queued, rejected (retried+canceled), unattended [uint]\n",
    "    #   reward: service, wait, fail [int]\n",
    "    #   buffer: pending, waiting, served, failed\n",
    "    '        TrafficEmulator.evaluate_service_\\(\\): '\n",
    "                'served (?P<req_served>\\d+), queued (?P<req_queued>\\d+), '\n",
    "                'rejected (?P<req_rejected>\\d+) \\((?P<req_retried>\\d+), (?P<req_canceled>\\d+)\\), unattended (?P<req_unattended>\\d+), '\n",
    "                'reward ([-]?[\\d\\.]+) \\((?P<tr_reward_serve>[-]?[\\d\\.]+), (?P<tr_reward_wait>[-]?[\\d\\.]+), (?P<tr_reward_fail>[-]?[\\d\\.]+)\\)\\n'\n",
    "    '        TrafficEmulator.evaluate_service_\\(\\): '\n",
    "                'pending (?P<req_pending_all>\\d+), waiting (?P<req_waiting_all>\\d+), '\n",
    "                'served (?P<req_served_all>\\d+), failed (?P<req_failed_all>\\d+)\\n'\n",
    "\n",
    "    # # operation cost: float\n",
    "    # # traffic reward: float\n",
    "    'Emulation.step\\(\\): cost: (?P<op_cost>[-]*[\\d\\.]+), reward: (?P<tr_reward>[-]*[\\d\\.]+)'\n",
    "    # # last line\n",
    "    '\\n{0,1}'\n",
    "    )"
   ]
  },
  {
   "cell_type": "code",
   "execution_count": 113,
   "metadata": {
    "collapsed": true
   },
   "outputs": [],
   "source": [
    "re_epoch_msg = re.compile(epoch_msg(10))"
   ]
  },
  {
   "cell_type": "code",
   "execution_count": 126,
   "metadata": {
    "collapsed": false
   },
   "outputs": [],
   "source": [
    "def index_file(file):\n",
    "    with open('./log/'+file, \"r\") as f_log:\n",
    "        all_log = \"\".join(f_log.readlines()).split('\\n\\n')\n",
    "        extract = [re_epoch_msg.search(piece) for piece in all_log]\n",
    "        for i, ele in enumerate(extract):\n",
    "            if ele is None:\n",
    "                print (i, all_log[i])\n",
    "        df = pd.DataFrame.from_dict([piece.groupdict() for piece in extract if piece is not None])\n",
    "        df.set_index('epoch')\n",
    "        df.index.name = 'epoch'\n",
    "    with open(\"./log/index_\"+file+\".csv\", \"w\") as f_ind:\n",
    "        df.to_csv(f_ind, sep=';', index=True, header=True)\n",
    "    return df.shape"
   ]
  },
  {
   "cell_type": "code",
   "execution_count": 127,
   "metadata": {
    "collapsed": false
   },
   "outputs": [
    {
     "name": "stdout",
     "output_type": "stream",
     "text": [
      "(1800, '')\n"
     ]
    },
    {
     "data": {
      "text/plain": [
       "[(1800, 117)]"
      ]
     },
     "execution_count": 127,
     "metadata": {},
     "output_type": "execute_result"
    }
   ],
   "source": [
    "files =[\n",
    "\"msg_2016-1-17_test.log\",\n",
    "]\n",
    "map(index_file, files)"
   ]
  }
 ],
 "metadata": {
  "kernelspec": {
   "display_name": "Python 2",
   "language": "python",
   "name": "python2"
  },
  "language_info": {
   "codemirror_mode": {
    "name": "ipython",
    "version": 2
   },
   "file_extension": ".py",
   "mimetype": "text/x-python",
   "name": "python",
   "nbconvert_exporter": "python",
   "pygments_lexer": "ipython2",
   "version": "2.7.6"
  }
 },
 "nbformat": 4,
 "nbformat_minor": 0
}
