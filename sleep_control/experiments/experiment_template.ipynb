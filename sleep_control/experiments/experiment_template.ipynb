{
 "cells": [
  {
   "cell_type": "markdown",
   "metadata": {},
   "source": [
    "# Load and setup modules"
   ]
  },
  {
   "cell_type": "code",
   "execution_count": 1,
   "metadata": {
    "collapsed": false,
    "scrolled": true
   },
   "outputs": [
    {
     "name": "stderr",
     "output_type": "stream",
     "text": [
      "Using gpu device 0: GeForce GTX TITAN X (CNMeM is disabled, cuDNN 4007)\n",
      "/usr/local/lib/python2.7/dist-packages/theano/tensor/signal/downsample.py:6: UserWarning: downsample module has been moved to the theano.tensor.signal.pool module.\n",
      "  \"downsample module has been moved to the theano.tensor.signal.pool module.\")\n"
     ]
    },
    {
     "name": "stdout",
     "output_type": "stream",
     "text": [
      "/home/admin-326/Data/ipython-notebook/dqn4wirelesscontrol\n"
     ]
    }
   ],
   "source": [
    "# Go to project home directory\n",
    "%cd ~/ipython-notebook/dqn4wirelesscontrol/\n",
    "\n",
    "# System built-in modules\n",
    "import time\n",
    "import sys\n",
    "sys_stdout = sys.stdout\n",
    "\n",
    "# Project dependency modules\n",
    "import pandas as pd\n",
    "pd.set_option('mode.chained_assignment', None)  # block warnings due to DataFrame value assignment\n",
    "import lasagne\n",
    "\n",
    "# Project modules\n",
    "from sleep_control.traffic_emulator import TrafficEmulator\n",
    "from sleep_control.traffic_server import TrafficServer\n",
    "from sleep_control.controller import QController, DummyController, NController\n",
    "from sleep_control.integration import Emulation\n",
    "from sleep_control.env_models import SJTUModel\n",
    "\n",
    "from rl.qtable import QAgent\n",
    "from rl.qnn_theano import QAgentNN\n",
    "from rl.mixin import PhiMixin, DynaMixin\n",
    "\n",
    "# Composite classes\n",
    "class Phi_QAgentNN(PhiMixin, QAgentNN):\n",
    "    def __init__(self, **kwargs):\n",
    "        super(Phi_QAgentNN, self).__init__(**kwargs)\n",
    "\n",
    "class Dyna_QAgent(DynaMixin, QAgent):\n",
    "    def __init__(self, **kwargs):\n",
    "        super(Dyna_QAgent, self).__init__(**kwargs)\n",
    "        \n",
    "class Dyna_QAgentNN(DynaMixin, QAgentNN):\n",
    "    def __init__(self, **kwargs):\n",
    "        super(Dyna_QAgentNN, self).__init__(**kwargs)"
   ]
  },
  {
   "cell_type": "markdown",
   "metadata": {},
   "source": [
    "---"
   ]
  },
  {
   "cell_type": "markdown",
   "metadata": {},
   "source": [
    "# Load data"
   ]
  },
  {
   "cell_type": "raw",
   "metadata": {
    "collapsed": false
   },
   "source": [
    "# Load from raw data\n",
    "session_df = pd.read_csv(filepath_or_buffer='./sleep_control/data/net_traffic_nonull.dat', \n",
    "                         sep=',', \n",
    "                         names=['uid','location','startTime_unix','duration_ms','domainProviders','domainTypes','domains','bytesByDomain','requestsByDomain'])\n",
    "session_df.index.name = 'sessionID'\n",
    "session_df['endTime_unix'] = session_df['startTime_unix'] + session_df['duration_ms']\n",
    "session_df['startTime_datetime'] = pd.to_datetime(session_df['startTime_unix'], unit='ms')  # convert start time to readible date_time strings\n",
    "session_df['endTime_datetime'] = pd.to_datetime(session_df['endTime_unix'], unit='ms')\n",
    "session_df['totalBytes'] = session_df['bytesByDomain'].apply(lambda x: x.split(';')).map(lambda x: sum(map(float, x)))  # sum bytes across domains\n",
    "session_df['totalRequests'] = session_df['requestsByDomain'].apply(lambda x: x.split(';')).map(lambda x: sum(map(float, x)))  # sum requests across domains\n",
    "session_df.sort(['startTime_datetime'], ascending=True, inplace=True)  # get it sorted\n",
    "session_df['interArrivalDuration_datetime'] = session_df.groupby('location')['startTime_datetime'].diff()  # group-wise diff\n",
    "session_df['interArrivalDuration_ms'] = session_df.groupby('location')['startTime_unix'].diff()  # group-wise diff\n",
    "session_df = session_df[session_df['location']=='第三食堂']"
   ]
  },
  {
   "cell_type": "code",
   "execution_count": 2,
   "metadata": {
    "collapsed": false
   },
   "outputs": [],
   "source": [
    "# load from processed data\n",
    "session_df =pd.read_csv(\n",
    "    filepath_or_buffer='./sleep_control/data/net_traffic_processed_dh3.dat',\n",
    "    parse_dates=['startTime_datetime', 'endTime_datetime', 'interArrivalDuration_datetime']\n",
    ")"
   ]
  },
  {
   "cell_type": "markdown",
   "metadata": {},
   "source": [
    "---"
   ]
  },
  {
   "cell_type": "markdown",
   "metadata": {},
   "source": [
    "# Run experiment"
   ]
  },
  {
   "cell_type": "code",
   "execution_count": 3,
   "metadata": {
    "collapsed": false
   },
   "outputs": [],
   "source": [
    "# Parameters\n",
    "# |- Agent\n",
    "#    |- QAgent\n",
    "actions = [(True, None), (False, 'serve_all')]\n",
    "gamma, alpha = 0.9, 0.9  # TD backup\n",
    "explore_strategy, epsilon = 'epsilon', 0.02  # exploration\n",
    "#    |- QAgentNN\n",
    "#        | - Phi\n",
    "phi_length = 3\n",
    "dim_state = (1, phi_length, 3+2)\n",
    "range_state_slice = [(0, 10), (0, 10), (0, 10), (0, 1), (0, 1)]\n",
    "range_state = [[range_state_slice]*phi_length]\n",
    "#        | - No Phi\n",
    "# phi_length = 0\n",
    "# dim_state = (1, 1, 3)\n",
    "# range_state = ((((0, 10), (0, 10), (0, 10)),),)\n",
    "#        | - Other params\n",
    "momentum, learning_rate = 0.9, 0.01  # SGD\n",
    "num_buffer, memory_size, batch_size, update_period, freeze_period  = 2, 200, 100, 4, 16\n",
    "reward_scaling, reward_scaling_update, rs_period = 1, 'adaptive', 32  # reward scaling\n",
    "#    |- Env model\n",
    "model_type, traffic_window_size = 'IPP', 50\n",
    "stride, n_iter, adjust_offset = 2, 3, 1e-22\n",
    "eval_period, eval_len = 4, 100\n",
    "n_belief_bins, max_queue_len = 5, 20\n",
    "Rs, Rw, Rf, Re = 1.0, -1.0, -10.0, -5.0\n",
    "traffic_params = (model_type, traffic_window_size,\n",
    "                  stride, n_iter, adjust_offset,\n",
    "                  eval_period, eval_len,\n",
    "                  n_belief_bins)\n",
    "queue_params = (max_queue_len,)\n",
    "beta = 0.5  # R = (1-beta)*ServiceReward + beta*Cost\n",
    "reward_params = (Rs, Rw, Rf, Re, beta)\n",
    "#    |- DynaQ\n",
    "num_sim = 10\n",
    "\n",
    "# |- Env\n",
    "#    |- Time\n",
    "start_time = pd.to_datetime(\"2014-10-15 09:40:00\")\n",
    "total_time = pd.Timedelta(hours=1)\n",
    "time_step = pd.Timedelta(seconds=2)\n",
    "backoff_epochs = num_buffer*memory_size+phi_length\n",
    "head_datetime =  start_time - time_step*backoff_epochs\n",
    "tail_datetime = head_datetime + total_time\n",
    "TOTAL_EPOCHS = int(total_time/time_step)\n",
    "#    |- Reward\n",
    "rewarding = {'serve': Rs, 'wait': Rw, 'fail': Rf}"
   ]
  },
  {
   "cell_type": "code",
   "execution_count": 6,
   "metadata": {
    "collapsed": false,
    "scrolled": true
   },
   "outputs": [],
   "source": [
    "te = TrafficEmulator(\n",
    "    session_df=session_df, time_step=time_step,\n",
    "    head_datetime=head_datetime, tail_datetime=tail_datetime,\n",
    "    rewarding=rewarding,\n",
    "    verbose=2)\n",
    "\n",
    "ts = TrafficServer(cost=Re, verbose=2)\n",
    "\n",
    "env_model = SJTUModel(traffic_params, queue_params, reward_params, 2)\n",
    "\n",
    "# agent = Dyna_QAgentNN(\n",
    "#     env_model=env_model, num_sim=num_sim,\n",
    "agent = Phi_QAgentNN(\n",
    "    phi_length=phi_length,\n",
    "    dim_state=dim_state, range_state=range_state,\n",
    "    f_build_net = None,\n",
    "    batch_size=batch_size, learning_rate=learning_rate, momentum=momentum,\n",
    "    reward_scaling=reward_scaling, reward_scaling_update=reward_scaling_update, rs_period=rs_period,\n",
    "    update_period=update_period, freeze_period=freeze_period,\n",
    "    memory_size=memory_size, num_buffer=num_buffer,\n",
    "# Below is QAgent params\n",
    "    actions=actions, alpha=alpha, gamma=gamma,\n",
    "    explore_strategy=explore_strategy, epsilon=epsilon,\n",
    "    verbose=2)\n",
    "\n",
    "c = QController(agent=agent)\n",
    "\n",
    "emu = Emulation(te=te, ts=ts, c=c, beta=beta)"
   ]
  },
  {
   "cell_type": "code",
   "execution_count": 7,
   "metadata": {
    "collapsed": false,
    "scrolled": true
   },
   "outputs": [],
   "source": [
    "t = time.time()\n",
    "sys.stdout = sys_stdout\n",
    "log_file_path = \"./sleep_control/experiments/log/msg_2016-1-18_test.log\"\n",
    "log_file = open(log_file_path,\"w\")\n",
    "print '00%',\n",
    "sys.stdout = log_file\n",
    "while emu.epoch is not None and emu.epoch<TOTAL_EPOCHS:\n",
    "    # log time\n",
    "    print \"Epoch {},\".format(emu.epoch),\n",
    "    left = emu.te.head_datetime + emu.te.epoch*emu.te.time_step\n",
    "    right = left + emu.te.time_step\n",
    "    print \"{} - {}\".format(left.strftime(\"%Y-%m-%d %H:%M:%S\"), right.strftime(\"%Y-%m-%d %H:%M:%S\"))\n",
    "    emu.step()\n",
    "    print\n",
    "    if emu.epoch%(0.1*TOTAL_EPOCHS)==0:\n",
    "        sys.stdout = sys_stdout\n",
    "        print '->{}0%'.format(10*emu.epoch/TOTAL_EPOCHS),\n",
    "        time.sleep(0.1)\n",
    "        sys.stdout = log_file\n",
    "sys.stdout = sys_stdout\n",
    "log_file.close()\n",
    "print\n",
    "print '{:.3f} sec,'.format(time.time()-t),\n",
    "print '{:.3f} min'.format((time.time()-t)/60)"
   ]
  },
  {
   "cell_type": "code",
   "execution_count": null,
   "metadata": {
    "collapsed": true
   },
   "outputs": [],
   "source": []
  }
 ],
 "metadata": {
  "kernelspec": {
   "display_name": "Python 2",
   "language": "python",
   "name": "python2"
  },
  "language_info": {
   "codemirror_mode": {
    "name": "ipython",
    "version": 2
   },
   "file_extension": ".py",
   "mimetype": "text/x-python",
   "name": "python",
   "nbconvert_exporter": "python",
   "pygments_lexer": "ipython2",
   "version": "2.7.6"
  }
 },
 "nbformat": 4,
 "nbformat_minor": 0
}
