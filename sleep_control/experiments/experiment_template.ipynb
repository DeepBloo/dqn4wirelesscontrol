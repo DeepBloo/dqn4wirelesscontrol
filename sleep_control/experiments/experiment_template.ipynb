{
 "cells": [
  {
   "cell_type": "markdown",
   "metadata": {},
   "source": [
    "# Load and setup modules"
   ]
  },
  {
   "cell_type": "code",
   "execution_count": 1,
   "metadata": {
    "collapsed": false
   },
   "outputs": [
    {
     "name": "stdout",
     "output_type": "stream",
     "text": [
      "/home/lewis/Documents/dqn4wirelesscontrol\n"
     ]
    },
    {
     "name": "stderr",
     "output_type": "stream",
     "text": [
      "/usr/local/lib/python2.7/dist-packages/theano/tensor/signal/downsample.py:5: UserWarning: downsample module has been moved to the pool module.\n",
      "  warnings.warn(\"downsample module has been moved to the pool module.\")\n"
     ]
    }
   ],
   "source": [
    "# Go to project home directory\n",
    "%cd ~/Documents/dqn4wirelesscontrol/\n",
    "\n",
    "# System built-in modules\n",
    "import time\n",
    "import sys\n",
    "sys_stdout = sys.stdout\n",
    "\n",
    "# Project dependency modules\n",
    "import pandas as pd\n",
    "pd.set_option('mode.chained_assignment', None)  # block warnings due to DataFrame value assignment\n",
    "import lasagne\n",
    "\n",
    "# Project modules\n",
    "from sleep_control.traffic_emulator import TrafficEmulator\n",
    "from sleep_control.traffic_server import TrafficServer\n",
    "from sleep_control.controller import QController, DummyController, NController\n",
    "from sleep_control.integration import Emulation\n",
    "from sleep_control.env_models import SJTUModel\n",
    "\n",
    "from rl.qtable import QAgent\n",
    "from rl.qnn_theano import QAgentNN\n",
    "from rl.mixin import PhiMixin, DynaMixin\n",
    "\n",
    "# Composite classes\n",
    "class Phi_QAgentNN(PhiMixin, QAgentNN):\n",
    "    def __init__(self, **kwargs):\n",
    "        super(QAgentNNPhi, self).__init__(**kwargs)\n",
    "\n",
    "class Dyna_QAgent(DynaMixin, QAgent):\n",
    "    def __init__(self, **kwargs):\n",
    "        super(Dyna_QAgent, self).__init__(**kwargs)\n",
    "        \n",
    "class Dyna_QAgentNN(DynaMixin, QAgentNN):\n",
    "    def __init__(self, **kwargs):\n",
    "        super(Dyna_QAgentNN, self).__init__(**kwargs)"
   ]
  },
  {
   "cell_type": "markdown",
   "metadata": {},
   "source": [
    "---"
   ]
  },
  {
   "cell_type": "markdown",
   "metadata": {},
   "source": [
    "# Load data"
   ]
  },
  {
   "cell_type": "code",
   "execution_count": null,
   "metadata": {
    "collapsed": false
   },
   "outputs": [],
   "source": [
    "# Load from raw form\n",
    "session_df = pd.read_csv(filepath_or_buffer='./sleep_control/data/net_traffic_nonull.dat', \n",
    "                         sep=',', \n",
    "                         names=['uid','location','startTime_unix','duration_ms','domainProviders','domainTypes','domains','bytesByDomain','requestsByDomain'])\n",
    "session_df.index.name = 'sessionID'\n",
    "session_df['endTime_unix'] = session_df['startTime_unix'] + session_df['duration_ms']\n",
    "session_df['startTime_datetime'] = pd.to_datetime(session_df['startTime_unix'], unit='ms')  # convert start time to readible date_time strings\n",
    "session_df['endTime_datetime'] = pd.to_datetime(session_df['endTime_unix'], unit='ms')\n",
    "session_df['totalBytes'] = session_df['bytesByDomain'].apply(lambda x: x.split(';')).map(lambda x: sum(map(float, x)))  # sum bytes across domains\n",
    "session_df['totalRequests'] = session_df['requestsByDomain'].apply(lambda x: x.split(';')).map(lambda x: sum(map(float, x)))  # sum requests across domains\n",
    "session_df.sort(['startTime_datetime'], ascending=True, inplace=True)  # get it sorted\n",
    "session_df['interArrivalDuration_datetime'] = session_df.groupby('location')['startTime_datetime'].diff()  # group-wise diff\n",
    "session_df['interArrivalDuration_ms'] = session_df.groupby('location')['startTime_unix'].diff()  # group-wise diff\n",
    "session_df = session_df[session_df['location']=='第三食堂']"
   ]
  },
  {
   "cell_type": "markdown",
   "metadata": {},
   "source": [
    "---"
   ]
  },
  {
   "cell_type": "markdown",
   "metadata": {},
   "source": [
    "# Run experiment"
   ]
  },
  {
   "cell_type": "code",
   "execution_count": 9,
   "metadata": {
    "collapsed": false
   },
   "outputs": [],
   "source": [
    "# Agent\n",
    "actions = [(True, None), (False, 'serve_all')]\n",
    "gamma, alpha = 0.9, 0.9  # TD backup\n",
    "explore_strategy, epsilon = 'epsilon', 0.02  # exploration\n",
    "reward_scaling, reward_scaling_update, rs_period = 1, 'adaptive', 32  # reward scaling\n",
    "phi_length = 5\n",
    "dim_state = (1, phi_length, 3+2)\n",
    "range_state_slice = [(0, 10), (0, 10), (0, 10), (0, 1), (0, 1)]\n",
    "range_state = [[range_state_slice]*phi_length]\n",
    "momentum, learning_rate = 0.9, 0.01  # SGD\n",
    "num_buffer, memory_size, batch_size, update_period, freeze_period  = 2, 200, 100, 4, 16\n",
    "\n",
    "# Env\n",
    "log_file_path = \"sleep_control/experiments/log/message_2016-6-16_Trace_N01_b5.log\"\n",
    "log_file = open(log_file_path,\"w\")\n",
    "time_step, n_days = pd.Timedelta(seconds=2), 7  # epoch length, total time length\n",
    "TOTAL_EPOCHS = 3600*24*n_days/2\n",
    "backoff = num_buffer*memory_size+phi_length\n",
    "head_datetime = pd.to_datetime(\"2014-10-15 09:40:00\") - time_step*backoff\n",
    "tail_datetime = head_datetime + pd.Timedelta(days=1)*n_days*5\n",
    "beta = 0.5  # R = (1-beta)*ServiceReward + beta*Cost"
   ]
  },
  {
   "cell_type": "code",
   "execution_count": null,
   "metadata": {
    "collapsed": true
   },
   "outputs": [],
   "source": [
    "te = TrafficEmulator(session_df=session_df, time_step=time_step, head_datetime=head_datetime, tail_datetime=tail_datetime, verbose=2)\n",
    "ts = TrafficServer(cost=5, verbose=2)\n",
    "agent = Phi_QAgentNN(\n",
    "    phi_length=phi_length,\n",
    "    dim_state=dim_state, range_state=range_state,\n",
    "    f_build_net = None,\n",
    "    batch_size=batch_size, learning_rate=learning_rate, momentum=momentum,\n",
    "    reward_scaling=reward_scaling, reward_scaling_update=reward_scaling_update, rs_period=rs_period,\n",
    "    update_period=update_period, freeze_period=freeze_period,\n",
    "    memory_size=memory_size, num_buffer=num_buffer,\n",
    "    actions=actions, alpha=alpha, gamma=gamma,\n",
    "    explore_strategy=explore_strategy, epsilon=epsilon,\n",
    "    verbose=2)\n",
    "c = QController(agent=agent)\n",
    "emu = sleep_control.integration.Emulation(te=te, ts=ts, c=c, beta=beta)"
   ]
  },
  {
   "cell_type": "code",
   "execution_count": null,
   "metadata": {
    "collapsed": false,
    "scrolled": true
   },
   "outputs": [
    {
     "name": "stdout",
     "output_type": "stream",
     "text": [
      "New TrafficEmulator with parameters:\n",
      "  head=2014-10-15 09:26:30\n",
      "  tail=2014-11-19 09:26:30\n",
      "  time_step=0 days 00:00:02\n",
      "  epoch=0\n",
      "  verbose=2\n"
     ]
    },
    {
     "data": {
      "text/plain": [
       "2886.1828379631042"
      ]
     },
     "execution_count": 10,
     "metadata": {},
     "output_type": "execute_result"
    }
   ],
   "source": [
    "t = time.time()\n",
    "sys.stdout = log_file\n",
    "while emu.epoch is not None and emu.epoch<TOTAL_EPOCHS:\n",
    "    # log time\n",
    "    print \"Epoch {}, \".format(emu.epoch),\n",
    "    left = emu.te.head_datetime + emu.te.epoch*emu.te.time_step\n",
    "    right = left + emu.te.time_step\n",
    "    print \"{} - {}\".format(left.strftime(\"%Y-%m-%d %H:%M:%S\"), right.strftime(\"%Y-%m-%d %H:%M:%S\"))\n",
    "    emu.step()\n",
    "    print\n",
    "sys.stdout = std_out\n",
    "log_file.close()\n",
    "time.time()-t"
   ]
  },
  {
   "cell_type": "code",
   "execution_count": 2,
   "metadata": {
    "collapsed": true
   },
   "outputs": [],
   "source": [
    "sys_stdout = std_out"
   ]
  }
 ],
 "metadata": {
  "kernelspec": {
   "display_name": "Python 2",
   "language": "python",
   "name": "python2"
  },
  "language_info": {
   "codemirror_mode": {
    "name": "ipython",
    "version": 2
   },
   "file_extension": ".py",
   "mimetype": "text/x-python",
   "name": "python",
   "nbconvert_exporter": "python",
   "pygments_lexer": "ipython2",
   "version": "2.7.6"
  }
 },
 "nbformat": 4,
 "nbformat_minor": 0
}
