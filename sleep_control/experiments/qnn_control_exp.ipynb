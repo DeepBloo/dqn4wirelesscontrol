{
 "cells": [
  {
   "cell_type": "code",
   "execution_count": 17,
   "metadata": {
    "collapsed": false,
    "scrolled": true
   },
   "outputs": [],
   "source": [
    "%cd ~/ipython-notebook/dqn4wirelesscontrol/\n",
    "import sys\n",
    "import time\n",
    "import pandas as pd\n",
    "pd.set_option('mode.chained_assignment', None)  # block warnings due to DataFrame value assignment\n",
    "# Project modules\n",
    "from sleep_control.integration import Emulation\n",
    "import sleep_control.traffic_emulator\n",
    "import sleep_control.traffic_server\n",
    "from sleep_control.controller import QController, DummyController\n",
    "import qlearning.qtable\n",
    "import qlearning.qnn\n",
    "from qlearning.qtable import QAgent\n",
    "from qlearning.qnn import QAgentNN\n",
    "from qlearning.mixin import PhiMixin"
   ]
  },
  {
   "cell_type": "markdown",
   "metadata": {},
   "source": [
    "Setting-up data"
   ]
  },
  {
   "cell_type": "code",
   "execution_count": null,
   "metadata": {
    "collapsed": false
   },
   "outputs": [],
   "source": [
    "session_df = pd.read_csv(filepath_or_buffer='./sleep_control/data/net_traffic_nonull.dat', \n",
    "                         sep=',', \n",
    "                         names=['uid','location','startTime_unix','duration_ms','domainProviders','domainTypes','domains','bytesByDomain','requestsByDomain'])\n",
    "session_df.index.name = 'sessionID'\n",
    "session_df['endTime_unix'] = session_df['startTime_unix'] + session_df['duration_ms']\n",
    "session_df['startTime_datetime'] = pd.to_datetime(session_df['startTime_unix'], unit='ms')  # convert start time to readible date_time strings\n",
    "session_df['endTime_datetime'] = pd.to_datetime(session_df['endTime_unix'], unit='ms')\n",
    "session_df['totalBytes'] = session_df['bytesByDomain'].apply(lambda x: x.split(';')).map(lambda x: sum(map(float, x)))  # sum bytes across domains\n",
    "session_df['totalRequests'] = session_df['requestsByDomain'].apply(lambda x: x.split(';')).map(lambda x: sum(map(float, x)))  # sum requests across domains\n",
    "session_df.sort(['startTime_datetime'], ascending=True, inplace=True)  # get it sorted\n",
    "session_df['interArrivalDuration_datetime'] = session_df.groupby('location')['startTime_datetime'].diff()  # group-wise diff\n",
    "session_df['interArrivalDuration_ms'] = session_df.groupby('location')['startTime_unix'].diff()  # group-wise diff"
   ]
  },
  {
   "cell_type": "markdown",
   "metadata": {},
   "source": [
    "Setting up emulation"
   ]
  },
  {
   "cell_type": "code",
   "execution_count": null,
   "metadata": {
    "collapsed": true
   },
   "outputs": [],
   "source": [
    "class QAgentNNPhi(PhiMixin, QAgentNN):\n",
    "    def __init__(self, **kwargs):\n",
    "        super(QAgentNNPhi, self).__init__(**kwargs)"
   ]
  },
  {
   "cell_type": "code",
   "execution_count": 21,
   "metadata": {
    "collapsed": false
   },
   "outputs": [],
   "source": [
    "te = sleep_control.traffic_emulator.TrafficEmulator(session_df=session_df, time_step=pd.Timedelta(seconds=2), verbose=2)\n",
    "ts = sleep_control.traffic_server.TrafficServer(cost=5, verbose=2)\n",
    "# actions = [(s, c) for s in [True, False] for c in ['serve_all', 'queue_all', 'random_serve_and_queue']]\n",
    "actions = [(True, None), (False, 'serve_all')]\n",
    "# agent = QAgent(actions=actions, alpha=0.5, gamma=0.5, explore_strategy='epsilon', epsilon=0.1)\n",
    "# agent = QAgentNN(dim_state=(1, 1, 3), range_state=((((0, 10), (0, 10), (0, 10)),),),\n",
    "#                  learning_rate=0.01, reward_scaling=10, batch_size=100, freeze_period=50, memory_size=200, num_buffer=2,\n",
    "#                  actions=actions, alpha=0.5, gamma=0.5, explore_strategy='epsilon', epsilon=0.2,\n",
    "#                  verbose=2\n",
    "#                  )\n",
    "phi_length = 3\n",
    "range_state_slice = [(0, 10), (0, 10), (0, 10)] + zip([0]*len(maze.actions), [1]*len(maze.actions))\n",
    "agent = QAgentNNPhi(\n",
    "        phi_length=phi_length,\n",
    "        dim_state=(1, phi_length, 3),\n",
    "        range_state=[[slice_range]*phi_length],\n",
    "        actions=maze.actions,\n",
    "        learning_rate=0.01, reward_scaling=100, batch_size=100,\n",
    "        freeze_period=100, memory_size=1000,\n",
    "        alpha=0.5, gamma=0.5, explore_strategy='epsilon', epsilon=0.02)\n",
    "c = QController(agent=agent)\n",
    "emu = sleep_control.integration.Emulation(te=te, ts=ts, c=c)"
   ]
  },
  {
   "cell_type": "markdown",
   "metadata": {},
   "source": [
    "Start emulation"
   ]
  },
  {
   "cell_type": "code",
   "execution_count": null,
   "metadata": {
    "collapsed": false,
    "scrolled": true
   },
   "outputs": [],
   "source": [
    "old_stdout = sys.stdout\n",
    "log_file = open(\"message.log\",\"w\")\n",
    "sys.stdout = log_file\n",
    "\n",
    "while emu.epoch is not None:\n",
    "    # log time\n",
    "    print \"Epoch {}, \".format(emu.epoch),\n",
    "    left = emu.te.head_datetime + emu.te.epoch*emu.te.time_step\n",
    "    right = left + emu.te.time_step\n",
    "    print \"{} - {}\".format(left.strftime(\"%Y-%m-%d %H:%M:%S\"), right.strftime(\"%Y-%m-%d %H:%M:%S\"))\n",
    "    emu.step()\n",
    "    print"
   ]
  },
  {
   "cell_type": "code",
   "execution_count": 5,
   "metadata": {
    "collapsed": false
   },
   "outputs": [],
   "source": [
    "sys.stdout = old_stdout\n",
    "log_file.close()"
   ]
  },
  {
   "cell_type": "code",
   "execution_count": 9,
   "metadata": {
    "collapsed": false
   },
   "outputs": [
    {
     "data": {
      "text/plain": [
       "<module 'qlearning.qtable' from 'qlearning/qtable.pyc'>"
      ]
     },
     "execution_count": 9,
     "metadata": {},
     "output_type": "execute_result"
    }
   ],
   "source": [
    "reload(sleep_control.integration)\n",
    "reload(sleep_control.traffic_server)\n",
    "reload(sleep_control.traffic_emulator)\n",
    "import qlearning\n",
    "reload(qlearning.qnn)\n",
    "reload(qlearning.qtable)"
   ]
  }
 ],
 "metadata": {
  "kernelspec": {
   "display_name": "Python 2",
   "language": "python",
   "name": "python2"
  },
  "language_info": {
   "codemirror_mode": {
    "name": "ipython",
    "version": 2
   },
   "file_extension": ".py",
   "mimetype": "text/x-python",
   "name": "python",
   "nbconvert_exporter": "python",
   "pygments_lexer": "ipython2",
   "version": "2.7.6"
  }
 },
 "nbformat": 4,
 "nbformat_minor": 0
}
