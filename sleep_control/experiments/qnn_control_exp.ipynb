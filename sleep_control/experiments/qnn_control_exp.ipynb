{
 "cells": [
  {
   "cell_type": "code",
   "execution_count": 1,
   "metadata": {
    "collapsed": false
   },
   "outputs": [
    {
     "name": "stderr",
     "output_type": "stream",
     "text": [
      "Using gpu device 0: GeForce GTX TITAN X (CNMeM is disabled, CuDNN 4007)\n",
      "/usr/local/lib/python2.7/dist-packages/theano/tensor/signal/downsample.py:5: UserWarning: downsample module has been moved to the pool module.\n",
      "  warnings.warn(\"downsample module has been moved to the pool module.\")\n"
     ]
    },
    {
     "name": "stdout",
     "output_type": "stream",
     "text": [
      "/home/admin-326/Data/ipython-notebook/dqn4wirelesscontrol\n"
     ]
    }
   ],
   "source": [
    "%cd ~/ipython-notebook/dqn4wirelesscontrol/\n",
    "import sys\n",
    "import time\n",
    "import pandas as pd\n",
    "pd.set_option('mode.chained_assignment', None)  # block warnings due to DataFrame value assignment\n",
    "# Project modules\n",
    "from sleep_control.integration import Emulation\n",
    "import sleep_control.traffic_emulator\n",
    "import sleep_control.traffic_server\n",
    "from sleep_control.controller import QController, DummyController\n",
    "import qlearning.qtable\n",
    "import qlearning.qnn\n",
    "from qlearning.qtable import QAgent\n",
    "from qlearning.qnn import QAgentNN\n",
    "from qlearning.mixin import PhiMixin"
   ]
  },
  {
   "cell_type": "markdown",
   "metadata": {},
   "source": [
    "# Setting-up data"
   ]
  },
  {
   "cell_type": "code",
   "execution_count": 8,
   "metadata": {
    "collapsed": true
   },
   "outputs": [],
   "source": [
    "std_out = sys.stdout"
   ]
  },
  {
   "cell_type": "code",
   "execution_count": 2,
   "metadata": {
    "collapsed": false
   },
   "outputs": [
    {
     "name": "stderr",
     "output_type": "stream",
     "text": [
      "/usr/local/lib/python2.7/dist-packages/ipykernel/__main__.py:10: FutureWarning: sort(columns=....) is deprecated, use sort_values(by=.....)\n"
     ]
    }
   ],
   "source": [
    "session_df = pd.read_csv(filepath_or_buffer='./sleep_control/data/net_traffic_nonull.dat', \n",
    "                         sep=',', \n",
    "                         names=['uid','location','startTime_unix','duration_ms','domainProviders','domainTypes','domains','bytesByDomain','requestsByDomain'])\n",
    "session_df.index.name = 'sessionID'\n",
    "session_df['endTime_unix'] = session_df['startTime_unix'] + session_df['duration_ms']\n",
    "session_df['startTime_datetime'] = pd.to_datetime(session_df['startTime_unix'], unit='ms')  # convert start time to readible date_time strings\n",
    "session_df['endTime_datetime'] = pd.to_datetime(session_df['endTime_unix'], unit='ms')\n",
    "session_df['totalBytes'] = session_df['bytesByDomain'].apply(lambda x: x.split(';')).map(lambda x: sum(map(float, x)))  # sum bytes across domains\n",
    "session_df['totalRequests'] = session_df['requestsByDomain'].apply(lambda x: x.split(';')).map(lambda x: sum(map(float, x)))  # sum requests across domains\n",
    "session_df.sort(['startTime_datetime'], ascending=True, inplace=True)  # get it sorted\n",
    "session_df['interArrivalDuration_datetime'] = session_df.groupby('location')['startTime_datetime'].diff()  # group-wise diff\n",
    "session_df['interArrivalDuration_ms'] = session_df.groupby('location')['startTime_unix'].diff()  # group-wise diff"
   ]
  },
  {
   "cell_type": "code",
   "execution_count": 3,
   "metadata": {
    "collapsed": false
   },
   "outputs": [],
   "source": [
    "class QAgentNNPhi(PhiMixin, QAgentNN):\n",
    "    def __init__(self, **kwargs):\n",
    "        super(QAgentNNPhi, self).__init__(**kwargs)"
   ]
  },
  {
   "cell_type": "markdown",
   "metadata": {},
   "source": [
    "# Experiment 1 phhi=1"
   ]
  },
  {
   "cell_type": "code",
   "execution_count": 10,
   "metadata": {
    "collapsed": false
   },
   "outputs": [],
   "source": [
    "session_df_loc = session_df[session_df['location']=='第三食堂']"
   ]
  },
  {
   "cell_type": "code",
   "execution_count": 20,
   "metadata": {
    "collapsed": false
   },
   "outputs": [
    {
     "name": "stdout",
     "output_type": "stream",
     "text": [
      "New TrafficEmulator with parameters:\n",
      "  head=2014-09-25 09:20:31.474000\n",
      "  tail=2015-01-31 15:36:36.279000\n",
      "  time_step=0 days 00:00:02\n",
      "  epoch=0\n",
      "  verbose=2\n"
     ]
    }
   ],
   "source": [
    "te = sleep_control.traffic_emulator.TrafficEmulator(session_df=session_df_loc, time_step=pd.Timedelta(seconds=2), verbose=2)\n",
    "ts = sleep_control.traffic_server.TrafficServer(cost=5, verbose=2)\n",
    "actions = [(True, None), (False, 'serve_all')]\n",
    "phi_length = 1\n",
    "range_state_slice = [(0, 10), (0, 10), (0, 10), (0, 1), (0, 1)]\n",
    "agent = QAgentNNPhi(\n",
    "        phi_length=phi_length,\n",
    "        dim_state=(1, phi_length, 3+2),\n",
    "        range_state=[[range_state_slice]*phi_length],\n",
    "        actions=actions,\n",
    "        learning_rate=0.01, reward_scaling=10, reward_scaling_update='fixed', batch_size=100,\n",
    "        freeze_period=50, memory_size=200, num_buffer=2,\n",
    "        alpha=0.5, gamma=0.5, explore_strategy='epsilon', epsilon=0.02,\n",
    "        verbose=2)\n",
    "c = QController(agent=agent)\n",
    "emu = sleep_control.integration.Emulation(te=te, ts=ts, c=c)"
   ]
  },
  {
   "cell_type": "code",
   "execution_count": 21,
   "metadata": {
    "collapsed": false
   },
   "outputs": [
    {
     "name": "stdout",
     "output_type": "stream",
     "text": [
      "2577.39277101\n"
     ]
    }
   ],
   "source": [
    "# %%prun -T prun_log_9.txt -D prun_log_9.stat  # for code profiling\n",
    "t = time.time()\n",
    "log_file = open(\"sleep_control/experiments/log/message_2016-6-2_2254.log\",\"w\")\n",
    "sys.stdout = log_file\n",
    "TOTAL_EPOCHS = 3600*24*7/2  # 7 days\n",
    "while emu.epoch is not None and emu.epoch<TOTAL_EPOCHS:\n",
    "    # log time\n",
    "    print \"Epoch {}, \".format(emu.epoch),\n",
    "    left = emu.te.head_datetime + emu.te.epoch*emu.te.time_step\n",
    "    right = left + emu.te.time_step\n",
    "    print \"{} - {}\".format(left.strftime(\"%Y-%m-%d %H:%M:%S\"), right.strftime(\"%Y-%m-%d %H:%M:%S\"))\n",
    "    emu.step()\n",
    "    print\n",
    "sys.stdout = std_out\n",
    "print time.time()-t"
   ]
  },
  {
   "cell_type": "markdown",
   "metadata": {},
   "source": [
    "# Experiment 2 phi=10"
   ]
  },
  {
   "cell_type": "code",
   "execution_count": 22,
   "metadata": {
    "collapsed": false
   },
   "outputs": [
    {
     "name": "stdout",
     "output_type": "stream",
     "text": [
      "New TrafficEmulator with parameters:\n",
      "  head=2014-09-25 09:20:31.474000\n",
      "  tail=2015-01-31 15:36:36.279000\n",
      "  time_step=0 days 00:00:02\n",
      "  epoch=0\n",
      "  verbose=2\n"
     ]
    }
   ],
   "source": [
    "te = sleep_control.traffic_emulator.TrafficEmulator(session_df=session_df_loc, time_step=pd.Timedelta(seconds=2), verbose=2)\n",
    "ts = sleep_control.traffic_server.TrafficServer(cost=5, verbose=2)\n",
    "actions = [(True, None), (False, 'serve_all')]\n",
    "phi_length = 10\n",
    "range_state_slice = [(0, 10), (0, 10), (0, 10), (0, 1), (0, 1)]\n",
    "agent = QAgentNNPhi(\n",
    "        phi_length=phi_length,\n",
    "        dim_state=(1, phi_length, 3+2),\n",
    "        range_state=[[range_state_slice]*phi_length],\n",
    "        actions=actions,\n",
    "        learning_rate=0.01, reward_scaling=10, reward_scaling_update='fixed', batch_size=100,\n",
    "        freeze_period=50, memory_size=200, num_buffer=2,\n",
    "        alpha=0.5, gamma=0.5, explore_strategy='epsilon', epsilon=0.02,\n",
    "        verbose=2)\n",
    "c = QController(agent=agent)\n",
    "emu = sleep_control.integration.Emulation(te=te, ts=ts, c=c)"
   ]
  },
  {
   "cell_type": "code",
   "execution_count": 23,
   "metadata": {
    "collapsed": false
   },
   "outputs": [
    {
     "name": "stdout",
     "output_type": "stream",
     "text": [
      "2580.11469007\n"
     ]
    }
   ],
   "source": [
    "t = time.time()\n",
    "log_file = open(\"sleep_control/experiments/log/message_2016-6-2_2340.log\",\"w\")\n",
    "sys.stdout = log_file\n",
    "TOTAL_EPOCHS = 3600*24*7/2  # 7 days\n",
    "while emu.epoch is not None and emu.epoch<TOTAL_EPOCHS:\n",
    "    # log time\n",
    "    print \"Epoch {}, \".format(emu.epoch),\n",
    "    left = emu.te.head_datetime + emu.te.epoch*emu.te.time_step\n",
    "    right = left + emu.te.time_step\n",
    "    print \"{} - {}\".format(left.strftime(\"%Y-%m-%d %H:%M:%S\"), right.strftime(\"%Y-%m-%d %H:%M:%S\"))\n",
    "    emu.step()\n",
    "    print\n",
    "sys.stdout = std_out\n",
    "print time.time()-t"
   ]
  },
  {
   "cell_type": "markdown",
   "metadata": {},
   "source": [
    "# Experiment 3 phi=100"
   ]
  },
  {
   "cell_type": "code",
   "execution_count": 24,
   "metadata": {
    "collapsed": false
   },
   "outputs": [
    {
     "name": "stdout",
     "output_type": "stream",
     "text": [
      "New TrafficEmulator with parameters:\n",
      "  head=2014-09-25 09:20:31.474000\n",
      "  tail=2015-01-31 15:36:36.279000\n",
      "  time_step=0 days 00:00:02\n",
      "  epoch=0\n",
      "  verbose=2\n"
     ]
    }
   ],
   "source": [
    "te = sleep_control.traffic_emulator.TrafficEmulator(session_df=session_df_loc, time_step=pd.Timedelta(seconds=2), verbose=2)\n",
    "ts = sleep_control.traffic_server.TrafficServer(cost=5, verbose=2)\n",
    "actions = [(True, None), (False, 'serve_all')]\n",
    "phi_length = 100\n",
    "range_state_slice = [(0, 10), (0, 10), (0, 10), (0, 1), (0, 1)]\n",
    "agent = QAgentNNPhi(\n",
    "        phi_length=phi_length,\n",
    "        dim_state=(1, phi_length, 3+2),\n",
    "        range_state=[[range_state_slice]*phi_length],\n",
    "        actions=actions,\n",
    "        learning_rate=0.01, reward_scaling=10, reward_scaling_update='fixed', batch_size=100,\n",
    "        freeze_period=50, memory_size=200, num_buffer=2,\n",
    "        alpha=0.5, gamma=0.5, explore_strategy='epsilon', epsilon=0.02,\n",
    "        verbose=2)\n",
    "c = QController(agent=agent)\n",
    "emu = sleep_control.integration.Emulation(te=te, ts=ts, c=c)"
   ]
  },
  {
   "cell_type": "code",
   "execution_count": 25,
   "metadata": {
    "collapsed": false
   },
   "outputs": [
    {
     "name": "stdout",
     "output_type": "stream",
     "text": [
      "2627.48975396\n"
     ]
    }
   ],
   "source": [
    "t = time.time()\n",
    "log_file = open(\"sleep_control/experiments/log/message_2016-6-3_0020.log\",\"w\")\n",
    "sys.stdout = log_file\n",
    "TOTAL_EPOCHS = 3600*24*7/2  # 7 days\n",
    "while emu.epoch is not None and emu.epoch<TOTAL_EPOCHS:\n",
    "    # log time\n",
    "    print \"Epoch {}, \".format(emu.epoch),\n",
    "    left = emu.te.head_datetime + emu.te.epoch*emu.te.time_step\n",
    "    right = left + emu.te.time_step\n",
    "    print \"{} - {}\".format(left.strftime(\"%Y-%m-%d %H:%M:%S\"), right.strftime(\"%Y-%m-%d %H:%M:%S\"))\n",
    "    emu.step()\n",
    "    print\n",
    "sys.stdout = std_out\n",
    "print time.time()-t"
   ]
  },
  {
   "cell_type": "markdown",
   "metadata": {},
   "source": [
    "# Experiment 4 phi=5"
   ]
  },
  {
   "cell_type": "code",
   "execution_count": 26,
   "metadata": {
    "collapsed": false
   },
   "outputs": [
    {
     "name": "stdout",
     "output_type": "stream",
     "text": [
      "New TrafficEmulator with parameters:\n",
      "  head=2014-09-25 09:20:31.474000\n",
      "  tail=2015-01-31 15:36:36.279000\n",
      "  time_step=0 days 00:00:02\n",
      "  epoch=0\n",
      "  verbose=2\n"
     ]
    }
   ],
   "source": [
    "te = sleep_control.traffic_emulator.TrafficEmulator(session_df=session_df_loc, time_step=pd.Timedelta(seconds=2), verbose=2)\n",
    "ts = sleep_control.traffic_server.TrafficServer(cost=5, verbose=2)\n",
    "actions = [(True, None), (False, 'serve_all')]\n",
    "phi_length = 5\n",
    "range_state_slice = [(0, 10), (0, 10), (0, 10), (0, 1), (0, 1)]\n",
    "agent = QAgentNNPhi(\n",
    "        phi_length=phi_length,\n",
    "        dim_state=(1, phi_length, 3+2),\n",
    "        range_state=[[range_state_slice]*phi_length],\n",
    "        actions=actions,\n",
    "        learning_rate=0.01, reward_scaling=10, reward_scaling_update='fixed', batch_size=100,\n",
    "        freeze_period=50, memory_size=200, num_buffer=2,\n",
    "        alpha=0.5, gamma=0.5, explore_strategy='epsilon', epsilon=0.02,\n",
    "        verbose=2)\n",
    "c = QController(agent=agent)\n",
    "emu = sleep_control.integration.Emulation(te=te, ts=ts, c=c)"
   ]
  },
  {
   "cell_type": "code",
   "execution_count": 27,
   "metadata": {
    "collapsed": false
   },
   "outputs": [
    {
     "name": "stdout",
     "output_type": "stream",
     "text": [
      "2566.45933318\n"
     ]
    }
   ],
   "source": [
    "t = time.time()\n",
    "log_file = open(\"sleep_control/experiments/log/message_2016-6-3_0100.log\",\"w\")\n",
    "sys.stdout = log_file\n",
    "TOTAL_EPOCHS = 3600*24*7/2  # 7 days\n",
    "while emu.epoch is not None and emu.epoch<TOTAL_EPOCHS:\n",
    "    # log time\n",
    "    print \"Epoch {}, \".format(emu.epoch),\n",
    "    left = emu.te.head_datetime + emu.te.epoch*emu.te.time_step\n",
    "    right = left + emu.te.time_step\n",
    "    print \"{} - {}\".format(left.strftime(\"%Y-%m-%d %H:%M:%S\"), right.strftime(\"%Y-%m-%d %H:%M:%S\"))\n",
    "    emu.step()\n",
    "    print\n",
    "sys.stdout = std_out\n",
    "print time.time()-t"
   ]
  },
  {
   "cell_type": "markdown",
   "metadata": {},
   "source": [
    "# Experiment 5 phi=5"
   ]
  },
  {
   "cell_type": "code",
   "execution_count": 28,
   "metadata": {
    "collapsed": false
   },
   "outputs": [
    {
     "name": "stdout",
     "output_type": "stream",
     "text": [
      "New TrafficEmulator with parameters:\n",
      "  head=2014-09-25 09:20:31.474000\n",
      "  tail=2015-01-31 15:36:36.279000\n",
      "  time_step=0 days 00:00:02\n",
      "  epoch=0\n",
      "  verbose=2\n"
     ]
    }
   ],
   "source": [
    "te = sleep_control.traffic_emulator.TrafficEmulator(session_df=session_df_loc, time_step=pd.Timedelta(seconds=2), verbose=2)\n",
    "ts = sleep_control.traffic_server.TrafficServer(cost=5, verbose=2)\n",
    "actions = [(True, None), (False, 'serve_all')]\n",
    "phi_length = 5\n",
    "range_state_slice = [(0, 10), (0, 10), (0, 10), (0, 1), (0, 1)]\n",
    "agent = QAgentNNPhi(\n",
    "        phi_length=phi_length,\n",
    "        dim_state=(1, phi_length, 3+2),\n",
    "        range_state=[[range_state_slice]*phi_length],\n",
    "        actions=actions,\n",
    "        learning_rate=0.01, reward_scaling=10, reward_scaling_update='fixed', batch_size=100,\n",
    "        freeze_period=50, memory_size=200, num_buffer=2,\n",
    "        alpha=0.5, gamma=0.5, explore_strategy='epsilon', epsilon=0.02,\n",
    "        verbose=2)\n",
    "c = QController(agent=agent)\n",
    "emu = sleep_control.integration.Emulation(te=te, ts=ts, c=c)"
   ]
  },
  {
   "cell_type": "code",
   "execution_count": 29,
   "metadata": {
    "collapsed": false
   },
   "outputs": [
    {
     "name": "stdout",
     "output_type": "stream",
     "text": [
      "2576.59158397\n"
     ]
    }
   ],
   "source": [
    "t = time.time()\n",
    "log_file = open(\"sleep_control/experiments/log/message_2016-6-3_0140.log\",\"w\")\n",
    "sys.stdout = log_file\n",
    "TOTAL_EPOCHS = 3600*24*7/2  # 7 days\n",
    "while emu.epoch is not None and emu.epoch<TOTAL_EPOCHS:\n",
    "    # log time\n",
    "    print \"Epoch {}, \".format(emu.epoch),\n",
    "    left = emu.te.head_datetime + emu.te.epoch*emu.te.time_step\n",
    "    right = left + emu.te.time_step\n",
    "    print \"{} - {}\".format(left.strftime(\"%Y-%m-%d %H:%M:%S\"), right.strftime(\"%Y-%m-%d %H:%M:%S\"))\n",
    "    emu.step()\n",
    "    print\n",
    "sys.stdout = std_out\n",
    "print time.time()-t"
   ]
  },
  {
   "cell_type": "markdown",
   "metadata": {},
   "source": [
    "# Experiment 6 phi=5"
   ]
  },
  {
   "cell_type": "code",
   "execution_count": 30,
   "metadata": {
    "collapsed": false
   },
   "outputs": [
    {
     "name": "stdout",
     "output_type": "stream",
     "text": [
      "New TrafficEmulator with parameters:\n",
      "  head=2014-09-25 09:20:31.474000\n",
      "  tail=2015-01-31 15:36:36.279000\n",
      "  time_step=0 days 00:00:02\n",
      "  epoch=0\n",
      "  verbose=2\n"
     ]
    }
   ],
   "source": [
    "te = sleep_control.traffic_emulator.TrafficEmulator(session_df=session_df_loc, time_step=pd.Timedelta(seconds=2), verbose=2)\n",
    "ts = sleep_control.traffic_server.TrafficServer(cost=5, verbose=2)\n",
    "actions = [(True, None), (False, 'serve_all')]\n",
    "phi_length = 5\n",
    "range_state_slice = [(0, 10), (0, 10), (0, 10), (0, 1), (0, 1)]\n",
    "agent = QAgentNNPhi(\n",
    "        phi_length=phi_length,\n",
    "        dim_state=(1, phi_length, 3+2),\n",
    "        range_state=[[range_state_slice]*phi_length],\n",
    "        actions=actions,\n",
    "        learning_rate=0.01, reward_scaling=10, reward_scaling_update='fixed', batch_size=100,\n",
    "        freeze_period=50, memory_size=200, num_buffer=2,\n",
    "        alpha=0.5, gamma=0.5, explore_strategy='epsilon', epsilon=0.02,\n",
    "        verbose=2)\n",
    "c = QController(agent=agent)\n",
    "emu = sleep_control.integration.Emulation(te=te, ts=ts, c=c)"
   ]
  },
  {
   "cell_type": "code",
   "execution_count": 31,
   "metadata": {
    "collapsed": false
   },
   "outputs": [
    {
     "name": "stdout",
     "output_type": "stream",
     "text": [
      "2573.10563207\n"
     ]
    }
   ],
   "source": [
    "t = time.time()\n",
    "log_file = open(\"sleep_control/experiments/log/message_2016-6-3_0220.log\",\"w\")\n",
    "sys.stdout = log_file\n",
    "TOTAL_EPOCHS = 3600*24*7/2  # 7 days\n",
    "while emu.epoch is not None and emu.epoch<TOTAL_EPOCHS:\n",
    "    # log time\n",
    "    print \"Epoch {}, \".format(emu.epoch),\n",
    "    left = emu.te.head_datetime + emu.te.epoch*emu.te.time_step\n",
    "    right = left + emu.te.time_step\n",
    "    print \"{} - {}\".format(left.strftime(\"%Y-%m-%d %H:%M:%S\"), right.strftime(\"%Y-%m-%d %H:%M:%S\"))\n",
    "    emu.step()\n",
    "    print\n",
    "sys.stdout = std_out\n",
    "print time.time()-t"
   ]
  },
  {
   "cell_type": "markdown",
   "metadata": {},
   "source": [
    "# Experiment 7 phi=50"
   ]
  },
  {
   "cell_type": "code",
   "execution_count": 32,
   "metadata": {
    "collapsed": false
   },
   "outputs": [
    {
     "name": "stdout",
     "output_type": "stream",
     "text": [
      "New TrafficEmulator with parameters:\n",
      "  head=2014-09-25 09:20:31.474000\n",
      "  tail=2015-01-31 15:36:36.279000\n",
      "  time_step=0 days 00:00:02\n",
      "  epoch=0\n",
      "  verbose=2\n"
     ]
    }
   ],
   "source": [
    "te = sleep_control.traffic_emulator.TrafficEmulator(session_df=session_df_loc, time_step=pd.Timedelta(seconds=2), verbose=2)\n",
    "ts = sleep_control.traffic_server.TrafficServer(cost=5, verbose=2)\n",
    "actions = [(True, None), (False, 'serve_all')]\n",
    "phi_length = 50\n",
    "range_state_slice = [(0, 10), (0, 10), (0, 10), (0, 1), (0, 1)]\n",
    "agent = QAgentNNPhi(\n",
    "        phi_length=phi_length,\n",
    "        dim_state=(1, phi_length, 3+2),\n",
    "        range_state=[[range_state_slice]*phi_length],\n",
    "        actions=actions,\n",
    "        learning_rate=0.01, reward_scaling=10, reward_scaling_update='fixed', batch_size=100,\n",
    "        freeze_period=50, memory_size=200, num_buffer=2,\n",
    "        alpha=0.5, gamma=0.5, explore_strategy='epsilon', epsilon=0.02,\n",
    "        verbose=2)\n",
    "c = QController(agent=agent)\n",
    "emu = sleep_control.integration.Emulation(te=te, ts=ts, c=c)"
   ]
  },
  {
   "cell_type": "code",
   "execution_count": 33,
   "metadata": {
    "collapsed": false
   },
   "outputs": [
    {
     "name": "stdout",
     "output_type": "stream",
     "text": [
      "2598.19625807\n"
     ]
    }
   ],
   "source": [
    "t = time.time()\n",
    "log_file = open(\"sleep_control/experiments/log/message_2016-6-3_0300.log\",\"w\")\n",
    "sys.stdout = log_file\n",
    "TOTAL_EPOCHS = 3600*24*7/2  # 7 days\n",
    "while emu.epoch is not None and emu.epoch<TOTAL_EPOCHS:\n",
    "    # log time\n",
    "    print \"Epoch {}, \".format(emu.epoch),\n",
    "    left = emu.te.head_datetime + emu.te.epoch*emu.te.time_step\n",
    "    right = left + emu.te.time_step\n",
    "    print \"{} - {}\".format(left.strftime(\"%Y-%m-%d %H:%M:%S\"), right.strftime(\"%Y-%m-%d %H:%M:%S\"))\n",
    "    emu.step()\n",
    "    print\n",
    "sys.stdout = std_out\n",
    "print time.time()-t"
   ]
  },
  {
   "cell_type": "markdown",
   "metadata": {},
   "source": [
    "# Experiment 8 phi=50"
   ]
  },
  {
   "cell_type": "code",
   "execution_count": 34,
   "metadata": {
    "collapsed": false
   },
   "outputs": [
    {
     "name": "stdout",
     "output_type": "stream",
     "text": [
      "New TrafficEmulator with parameters:\n",
      "  head=2014-09-25 09:20:31.474000\n",
      "  tail=2015-01-31 15:36:36.279000\n",
      "  time_step=0 days 00:00:02\n",
      "  epoch=0\n",
      "  verbose=2\n"
     ]
    }
   ],
   "source": [
    "te = sleep_control.traffic_emulator.TrafficEmulator(session_df=session_df_loc, time_step=pd.Timedelta(seconds=2), verbose=2)\n",
    "ts = sleep_control.traffic_server.TrafficServer(cost=5, verbose=2)\n",
    "actions = [(True, None), (False, 'serve_all')]\n",
    "phi_length = 50\n",
    "range_state_slice = [(0, 10), (0, 10), (0, 10), (0, 1), (0, 1)]\n",
    "agent = QAgentNNPhi(\n",
    "        phi_length=phi_length,\n",
    "        dim_state=(1, phi_length, 3+2),\n",
    "        range_state=[[range_state_slice]*phi_length],\n",
    "        actions=actions,\n",
    "        learning_rate=0.01, reward_scaling=10, reward_scaling_update='fixed', batch_size=100,\n",
    "        freeze_period=50, memory_size=200, num_buffer=2,\n",
    "        alpha=0.5, gamma=0.5, explore_strategy='epsilon', epsilon=0.02,\n",
    "        verbose=2)\n",
    "c = QController(agent=agent)\n",
    "emu = sleep_control.integration.Emulation(te=te, ts=ts, c=c)"
   ]
  },
  {
   "cell_type": "code",
   "execution_count": 35,
   "metadata": {
    "collapsed": false
   },
   "outputs": [
    {
     "name": "stdout",
     "output_type": "stream",
     "text": [
      "2596.56152797\n"
     ]
    }
   ],
   "source": [
    "t = time.time()\n",
    "log_file = open(\"sleep_control/experiments/log/message_2016-6-3_0340.log\",\"w\")\n",
    "sys.stdout = log_file\n",
    "TOTAL_EPOCHS = 3600*24*7/2  # 7 days\n",
    "while emu.epoch is not None and emu.epoch<TOTAL_EPOCHS:\n",
    "    # log time\n",
    "    print \"Epoch {}, \".format(emu.epoch),\n",
    "    left = emu.te.head_datetime + emu.te.epoch*emu.te.time_step\n",
    "    right = left + emu.te.time_step\n",
    "    print \"{} - {}\".format(left.strftime(\"%Y-%m-%d %H:%M:%S\"), right.strftime(\"%Y-%m-%d %H:%M:%S\"))\n",
    "    emu.step()\n",
    "    print\n",
    "sys.stdout = std_out\n",
    "print time.time()-t"
   ]
  },
  {
   "cell_type": "markdown",
   "metadata": {},
   "source": [
    "# Experiment 9 phi=50"
   ]
  },
  {
   "cell_type": "code",
   "execution_count": 36,
   "metadata": {
    "collapsed": false
   },
   "outputs": [
    {
     "name": "stdout",
     "output_type": "stream",
     "text": [
      "New TrafficEmulator with parameters:\n",
      "  head=2014-09-25 09:20:31.474000\n",
      "  tail=2015-01-31 15:36:36.279000\n",
      "  time_step=0 days 00:00:02\n",
      "  epoch=0\n",
      "  verbose=2\n"
     ]
    }
   ],
   "source": [
    "te = sleep_control.traffic_emulator.TrafficEmulator(session_df=session_df_loc, time_step=pd.Timedelta(seconds=2), verbose=2)\n",
    "ts = sleep_control.traffic_server.TrafficServer(cost=5, verbose=2)\n",
    "actions = [(True, None), (False, 'serve_all')]\n",
    "phi_length = 50\n",
    "range_state_slice = [(0, 10), (0, 10), (0, 10), (0, 1), (0, 1)]\n",
    "agent = QAgentNNPhi(\n",
    "        phi_length=phi_length,\n",
    "        dim_state=(1, phi_length, 3+2),\n",
    "        range_state=[[range_state_slice]*phi_length],\n",
    "        actions=actions,\n",
    "        learning_rate=0.01, reward_scaling=10, reward_scaling_update='fixed', batch_size=100,\n",
    "        freeze_period=50, memory_size=200, num_buffer=2,\n",
    "        alpha=0.5, gamma=0.5, explore_strategy='epsilon', epsilon=0.02,\n",
    "        verbose=2)\n",
    "c = QController(agent=agent)\n",
    "emu = sleep_control.integration.Emulation(te=te, ts=ts, c=c)"
   ]
  },
  {
   "cell_type": "code",
   "execution_count": 37,
   "metadata": {
    "collapsed": false
   },
   "outputs": [
    {
     "name": "stdout",
     "output_type": "stream",
     "text": [
      "2635.18577003\n"
     ]
    }
   ],
   "source": [
    "t = time.time()\n",
    "log_file = open(\"sleep_control/experiments/log/message_2016-6-3_0420.log\",\"w\")\n",
    "sys.stdout = log_file\n",
    "TOTAL_EPOCHS = 3600*24*7/2  # 7 days\n",
    "while emu.epoch is not None and emu.epoch<TOTAL_EPOCHS:\n",
    "    # log time\n",
    "    print \"Epoch {}, \".format(emu.epoch),\n",
    "    left = emu.te.head_datetime + emu.te.epoch*emu.te.time_step\n",
    "    right = left + emu.te.time_step\n",
    "    print \"{} - {}\".format(left.strftime(\"%Y-%m-%d %H:%M:%S\"), right.strftime(\"%Y-%m-%d %H:%M:%S\"))\n",
    "    emu.step()\n",
    "    print\n",
    "sys.stdout = std_out\n",
    "print time.time()-t"
   ]
  },
  {
   "cell_type": "markdown",
   "metadata": {},
   "source": [
    "# Experiment 10 adaptive"
   ]
  },
  {
   "cell_type": "code",
   "execution_count": 40,
   "metadata": {
    "collapsed": false
   },
   "outputs": [
    {
     "name": "stdout",
     "output_type": "stream",
     "text": [
      "New TrafficEmulator with parameters:\n",
      "  head=2014-09-25 09:20:31.474000\n",
      "  tail=2015-01-31 15:36:36.279000\n",
      "  time_step=0 days 00:00:02\n",
      "  epoch=0\n",
      "  verbose=2\n"
     ]
    }
   ],
   "source": [
    "te = sleep_control.traffic_emulator.TrafficEmulator(session_df=session_df_loc, time_step=pd.Timedelta(seconds=2), verbose=2)\n",
    "ts = sleep_control.traffic_server.TrafficServer(cost=5, verbose=2)\n",
    "actions = [(True, None), (False, 'serve_all')]\n",
    "phi_length = 10\n",
    "range_state_slice = [(0, 10), (0, 10), (0, 10), (0, 1), (0, 1)]\n",
    "agent = QAgentNNPhi(\n",
    "        phi_length=phi_length,\n",
    "        dim_state=(1, phi_length, 3+2),\n",
    "        range_state=[[range_state_slice]*phi_length],\n",
    "        actions=actions,\n",
    "        learning_rate=0.01, reward_scaling=10, reward_scaling_update='adaptive', batch_size=100,\n",
    "        freeze_period=50, memory_size=200, num_buffer=2,\n",
    "        alpha=0.5, gamma=0.5, explore_strategy='epsilon', epsilon=0.02,\n",
    "        verbose=2)\n",
    "c = QController(agent=agent)\n",
    "emu = sleep_control.integration.Emulation(te=te, ts=ts, c=c)"
   ]
  },
  {
   "cell_type": "code",
   "execution_count": 41,
   "metadata": {
    "collapsed": false
   },
   "outputs": [
    {
     "name": "stdout",
     "output_type": "stream",
     "text": [
      "2588.32669091\n"
     ]
    }
   ],
   "source": [
    "t = time.time()\n",
    "log_file = open(\"sleep_control/experiments/log/message_2016-6-3_0500.log\",\"w\")\n",
    "sys.stdout = log_file\n",
    "TOTAL_EPOCHS = 3600*24*7/2  # 7 days\n",
    "while emu.epoch is not None and emu.epoch<TOTAL_EPOCHS:\n",
    "    # log time\n",
    "    print \"Epoch {}, \".format(emu.epoch),\n",
    "    left = emu.te.head_datetime + emu.te.epoch*emu.te.time_step\n",
    "    right = left + emu.te.time_step\n",
    "    print \"{} - {}\".format(left.strftime(\"%Y-%m-%d %H:%M:%S\"), right.strftime(\"%Y-%m-%d %H:%M:%S\"))\n",
    "    emu.step()\n",
    "    print\n",
    "sys.stdout = std_out\n",
    "print time.time()-t"
   ]
  },
  {
   "cell_type": "markdown",
   "metadata": {},
   "source": [
    "# Experiment 11 adaptive"
   ]
  },
  {
   "cell_type": "code",
   "execution_count": 42,
   "metadata": {
    "collapsed": false
   },
   "outputs": [
    {
     "name": "stdout",
     "output_type": "stream",
     "text": [
      "New TrafficEmulator with parameters:\n",
      "  head=2014-09-25 09:20:31.474000\n",
      "  tail=2015-01-31 15:36:36.279000\n",
      "  time_step=0 days 00:00:02\n",
      "  epoch=0\n",
      "  verbose=2\n"
     ]
    }
   ],
   "source": [
    "te = sleep_control.traffic_emulator.TrafficEmulator(session_df=session_df_loc, time_step=pd.Timedelta(seconds=2), verbose=2)\n",
    "ts = sleep_control.traffic_server.TrafficServer(cost=5, verbose=2)\n",
    "actions = [(True, None), (False, 'serve_all')]\n",
    "phi_length = 10\n",
    "range_state_slice = [(0, 10), (0, 10), (0, 10), (0, 1), (0, 1)]\n",
    "agent = QAgentNNPhi(\n",
    "        phi_length=phi_length,\n",
    "        dim_state=(1, phi_length, 3+2),\n",
    "        range_state=[[range_state_slice]*phi_length],\n",
    "        actions=actions,\n",
    "        learning_rate=0.01, reward_scaling=10, reward_scaling_update='adaptive', batch_size=100,\n",
    "        freeze_period=50, memory_size=200, num_buffer=2,\n",
    "        alpha=0.5, gamma=0.5, explore_strategy='epsilon', epsilon=0.02,\n",
    "        verbose=2)\n",
    "c = QController(agent=agent)\n",
    "emu = sleep_control.integration.Emulation(te=te, ts=ts, c=c)"
   ]
  },
  {
   "cell_type": "code",
   "execution_count": 43,
   "metadata": {
    "collapsed": false
   },
   "outputs": [
    {
     "name": "stdout",
     "output_type": "stream",
     "text": [
      "2586.32308507\n"
     ]
    }
   ],
   "source": [
    "t = time.time()\n",
    "log_file = open(\"sleep_control/experiments/log/message_2016-6-3_0540.log\",\"w\")\n",
    "sys.stdout = log_file\n",
    "TOTAL_EPOCHS = 3600*24*7/2  # 7 days\n",
    "while emu.epoch is not None and emu.epoch<TOTAL_EPOCHS:\n",
    "    # log time\n",
    "    print \"Epoch {}, \".format(emu.epoch),\n",
    "    left = emu.te.head_datetime + emu.te.epoch*emu.te.time_step\n",
    "    right = left + emu.te.time_step\n",
    "    print \"{} - {}\".format(left.strftime(\"%Y-%m-%d %H:%M:%S\"), right.strftime(\"%Y-%m-%d %H:%M:%S\"))\n",
    "    emu.step()\n",
    "    print\n",
    "sys.stdout = std_out\n",
    "print time.time()-t"
   ]
  },
  {
   "cell_type": "markdown",
   "metadata": {},
   "source": [
    "# Experiment 12 adaptive"
   ]
  },
  {
   "cell_type": "code",
   "execution_count": 44,
   "metadata": {
    "collapsed": false
   },
   "outputs": [
    {
     "name": "stdout",
     "output_type": "stream",
     "text": [
      "New TrafficEmulator with parameters:\n",
      "  head=2014-09-25 09:20:31.474000\n",
      "  tail=2015-01-31 15:36:36.279000\n",
      "  time_step=0 days 00:00:02\n",
      "  epoch=0\n",
      "  verbose=2\n"
     ]
    }
   ],
   "source": [
    "te = sleep_control.traffic_emulator.TrafficEmulator(session_df=session_df_loc, time_step=pd.Timedelta(seconds=2), verbose=2)\n",
    "ts = sleep_control.traffic_server.TrafficServer(cost=5, verbose=2)\n",
    "actions = [(True, None), (False, 'serve_all')]\n",
    "phi_length = 10\n",
    "range_state_slice = [(0, 10), (0, 10), (0, 10), (0, 1), (0, 1)]\n",
    "agent = QAgentNNPhi(\n",
    "        phi_length=phi_length,\n",
    "        dim_state=(1, phi_length, 3+2),\n",
    "        range_state=[[range_state_slice]*phi_length],\n",
    "        actions=actions,\n",
    "        learning_rate=0.01, reward_scaling=10, reward_scaling_update='adaptive', batch_size=100,\n",
    "        freeze_period=50, memory_size=200, num_buffer=2,\n",
    "        alpha=0.5, gamma=0.5, explore_strategy='epsilon', epsilon=0.02,\n",
    "        verbose=2)\n",
    "c = QController(agent=agent)\n",
    "emu = sleep_control.integration.Emulation(te=te, ts=ts, c=c)"
   ]
  },
  {
   "cell_type": "code",
   "execution_count": 45,
   "metadata": {
    "collapsed": false
   },
   "outputs": [
    {
     "name": "stdout",
     "output_type": "stream",
     "text": [
      "2587.63884783\n"
     ]
    }
   ],
   "source": [
    "t = time.time()\n",
    "log_file = open(\"sleep_control/experiments/log/message_2016-6-3_0620.log\",\"w\")\n",
    "sys.stdout = log_file\n",
    "TOTAL_EPOCHS = 3600*24*7/2  # 7 days\n",
    "while emu.epoch is not None and emu.epoch<TOTAL_EPOCHS:\n",
    "    # log time\n",
    "    print \"Epoch {}, \".format(emu.epoch),\n",
    "    left = emu.te.head_datetime + emu.te.epoch*emu.te.time_step\n",
    "    right = left + emu.te.time_step\n",
    "    print \"{} - {}\".format(left.strftime(\"%Y-%m-%d %H:%M:%S\"), right.strftime(\"%Y-%m-%d %H:%M:%S\"))\n",
    "    emu.step()\n",
    "    print\n",
    "sys.stdout = std_out\n",
    "print time.time()-t"
   ]
  },
  {
   "cell_type": "markdown",
   "metadata": {},
   "source": [
    "# Experiment 13 1buffer"
   ]
  },
  {
   "cell_type": "code",
   "execution_count": 46,
   "metadata": {
    "collapsed": false
   },
   "outputs": [
    {
     "name": "stdout",
     "output_type": "stream",
     "text": [
      "New TrafficEmulator with parameters:\n",
      "  head=2014-09-25 09:20:31.474000\n",
      "  tail=2015-01-31 15:36:36.279000\n",
      "  time_step=0 days 00:00:02\n",
      "  epoch=0\n",
      "  verbose=2\n"
     ]
    }
   ],
   "source": [
    "te = sleep_control.traffic_emulator.TrafficEmulator(session_df=session_df_loc, time_step=pd.Timedelta(seconds=2), verbose=2)\n",
    "ts = sleep_control.traffic_server.TrafficServer(cost=5, verbose=2)\n",
    "actions = [(True, None), (False, 'serve_all')]\n",
    "phi_length = 10\n",
    "range_state_slice = [(0, 10), (0, 10), (0, 10), (0, 1), (0, 1)]\n",
    "agent = QAgentNNPhi(\n",
    "        phi_length=phi_length,\n",
    "        dim_state=(1, phi_length, 3+2),\n",
    "        range_state=[[range_state_slice]*phi_length],\n",
    "        actions=actions,\n",
    "        learning_rate=0.01, reward_scaling=10, reward_scaling_update='fixed', batch_size=100,\n",
    "        freeze_period=50, memory_size=200, num_buffer=1,\n",
    "        alpha=0.5, gamma=0.5, explore_strategy='epsilon', epsilon=0.02,\n",
    "        verbose=2)\n",
    "c = QController(agent=agent)\n",
    "emu = sleep_control.integration.Emulation(te=te, ts=ts, c=c)"
   ]
  },
  {
   "cell_type": "code",
   "execution_count": 47,
   "metadata": {
    "collapsed": false
   },
   "outputs": [
    {
     "name": "stdout",
     "output_type": "stream",
     "text": [
      "2625.46522808\n"
     ]
    }
   ],
   "source": [
    "t = time.time()\n",
    "log_file = open(\"sleep_control/experiments/log/message_2016-6-3_0700.log\",\"w\")\n",
    "sys.stdout = log_file\n",
    "TOTAL_EPOCHS = 3600*24*7/2  # 7 days\n",
    "while emu.epoch is not None and emu.epoch<TOTAL_EPOCHS:\n",
    "    # log time\n",
    "    print \"Epoch {}, \".format(emu.epoch),\n",
    "    left = emu.te.head_datetime + emu.te.epoch*emu.te.time_step\n",
    "    right = left + emu.te.time_step\n",
    "    print \"{} - {}\".format(left.strftime(\"%Y-%m-%d %H:%M:%S\"), right.strftime(\"%Y-%m-%d %H:%M:%S\"))\n",
    "    emu.step()\n",
    "    print\n",
    "sys.stdout = std_out\n",
    "print time.time()-t"
   ]
  },
  {
   "cell_type": "markdown",
   "metadata": {},
   "source": [
    "# Experiment 14 1buffer"
   ]
  },
  {
   "cell_type": "code",
   "execution_count": 48,
   "metadata": {
    "collapsed": false
   },
   "outputs": [
    {
     "name": "stdout",
     "output_type": "stream",
     "text": [
      "New TrafficEmulator with parameters:\n",
      "  head=2014-09-25 09:20:31.474000\n",
      "  tail=2015-01-31 15:36:36.279000\n",
      "  time_step=0 days 00:00:02\n",
      "  epoch=0\n",
      "  verbose=2\n"
     ]
    }
   ],
   "source": [
    "te = sleep_control.traffic_emulator.TrafficEmulator(session_df=session_df_loc, time_step=pd.Timedelta(seconds=2), verbose=2)\n",
    "ts = sleep_control.traffic_server.TrafficServer(cost=5, verbose=2)\n",
    "actions = [(True, None), (False, 'serve_all')]\n",
    "phi_length = 10\n",
    "range_state_slice = [(0, 10), (0, 10), (0, 10), (0, 1), (0, 1)]\n",
    "agent = QAgentNNPhi(\n",
    "        phi_length=phi_length,\n",
    "        dim_state=(1, phi_length, 3+2),\n",
    "        range_state=[[range_state_slice]*phi_length],\n",
    "        actions=actions,\n",
    "        learning_rate=0.01, reward_scaling=10, reward_scaling_update='fixed', batch_size=100,\n",
    "        freeze_period=50, memory_size=200, num_buffer=1,\n",
    "        alpha=0.5, gamma=0.5, explore_strategy='epsilon', epsilon=0.02,\n",
    "        verbose=2)\n",
    "c = QController(agent=agent)\n",
    "emu = sleep_control.integration.Emulation(te=te, ts=ts, c=c)"
   ]
  },
  {
   "cell_type": "code",
   "execution_count": 49,
   "metadata": {
    "collapsed": false
   },
   "outputs": [
    {
     "name": "stdout",
     "output_type": "stream",
     "text": [
      "2589.81189013\n"
     ]
    }
   ],
   "source": [
    "t = time.time()\n",
    "log_file = open(\"sleep_control/experiments/log/message_2016-6-3_0740.log\",\"w\")\n",
    "sys.stdout = log_file\n",
    "TOTAL_EPOCHS = 3600*24*7/2  # 7 days\n",
    "while emu.epoch is not None and emu.epoch<TOTAL_EPOCHS:\n",
    "    # log time\n",
    "    print \"Epoch {}, \".format(emu.epoch),\n",
    "    left = emu.te.head_datetime + emu.te.epoch*emu.te.time_step\n",
    "    right = left + emu.te.time_step\n",
    "    print \"{} - {}\".format(left.strftime(\"%Y-%m-%d %H:%M:%S\"), right.strftime(\"%Y-%m-%d %H:%M:%S\"))\n",
    "    emu.step()\n",
    "    print\n",
    "sys.stdout = std_out\n",
    "print time.time()-t"
   ]
  },
  {
   "cell_type": "markdown",
   "metadata": {},
   "source": [
    "# Experiment 15 1 buffer"
   ]
  },
  {
   "cell_type": "code",
   "execution_count": 50,
   "metadata": {
    "collapsed": false
   },
   "outputs": [
    {
     "name": "stdout",
     "output_type": "stream",
     "text": [
      "New TrafficEmulator with parameters:\n",
      "  head=2014-09-25 09:20:31.474000\n",
      "  tail=2015-01-31 15:36:36.279000\n",
      "  time_step=0 days 00:00:02\n",
      "  epoch=0\n",
      "  verbose=2\n"
     ]
    }
   ],
   "source": [
    "te = sleep_control.traffic_emulator.TrafficEmulator(session_df=session_df_loc, time_step=pd.Timedelta(seconds=2), verbose=2)\n",
    "ts = sleep_control.traffic_server.TrafficServer(cost=5, verbose=2)\n",
    "actions = [(True, None), (False, 'serve_all')]\n",
    "phi_length = 10\n",
    "range_state_slice = [(0, 10), (0, 10), (0, 10), (0, 1), (0, 1)]\n",
    "agent = QAgentNNPhi(\n",
    "        phi_length=phi_length,\n",
    "        dim_state=(1, phi_length, 3+2),\n",
    "        range_state=[[range_state_slice]*phi_length],\n",
    "        actions=actions,\n",
    "        learning_rate=0.01, reward_scaling=10, reward_scaling_update='fixed', batch_size=100,\n",
    "        freeze_period=50, memory_size=200, num_buffer=1,\n",
    "        alpha=0.5, gamma=0.5, explore_strategy='epsilon', epsilon=0.02,\n",
    "        verbose=2)\n",
    "c = QController(agent=agent)\n",
    "emu = sleep_control.integration.Emulation(te=te, ts=ts, c=c)"
   ]
  },
  {
   "cell_type": "code",
   "execution_count": 51,
   "metadata": {
    "collapsed": false
   },
   "outputs": [
    {
     "name": "stdout",
     "output_type": "stream",
     "text": [
      "2586.55686307\n"
     ]
    }
   ],
   "source": [
    "t = time.time()\n",
    "log_file = open(\"sleep_control/experiments/log/message_2016-6-3_0800.log\",\"w\")\n",
    "sys.stdout = log_file\n",
    "TOTAL_EPOCHS = 3600*24*7/2  # 7 days\n",
    "while emu.epoch is not None and emu.epoch<TOTAL_EPOCHS:\n",
    "    # log time\n",
    "    print \"Epoch {}, \".format(emu.epoch),\n",
    "    left = emu.te.head_datetime + emu.te.epoch*emu.te.time_step\n",
    "    right = left + emu.te.time_step\n",
    "    print \"{} - {}\".format(left.strftime(\"%Y-%m-%d %H:%M:%S\"), right.strftime(\"%Y-%m-%d %H:%M:%S\"))\n",
    "    emu.step()\n",
    "    print\n",
    "sys.stdout = std_out\n",
    "print time.time()-t"
   ]
  },
  {
   "cell_type": "markdown",
   "metadata": {},
   "source": [
    "# Experiment 16 epsilon"
   ]
  },
  {
   "cell_type": "code",
   "execution_count": 52,
   "metadata": {
    "collapsed": false
   },
   "outputs": [
    {
     "name": "stdout",
     "output_type": "stream",
     "text": [
      "New TrafficEmulator with parameters:\n",
      "  head=2014-09-25 09:20:31.474000\n",
      "  tail=2015-01-31 15:36:36.279000\n",
      "  time_step=0 days 00:00:02\n",
      "  epoch=0\n",
      "  verbose=2\n"
     ]
    }
   ],
   "source": [
    "te = sleep_control.traffic_emulator.TrafficEmulator(session_df=session_df_loc, time_step=pd.Timedelta(seconds=2), verbose=2)\n",
    "ts = sleep_control.traffic_server.TrafficServer(cost=5, verbose=2)\n",
    "actions = [(True, None), (False, 'serve_all')]\n",
    "phi_length = 10\n",
    "range_state_slice = [(0, 10), (0, 10), (0, 10), (0, 1), (0, 1)]\n",
    "agent = QAgentNNPhi(\n",
    "        phi_length=phi_length,\n",
    "        dim_state=(1, phi_length, 3+2),\n",
    "        range_state=[[range_state_slice]*phi_length],\n",
    "        actions=actions,\n",
    "        learning_rate=0.01, reward_scaling=10, reward_scaling_update='fixed', batch_size=100,\n",
    "        freeze_period=50, memory_size=200, num_buffer=2,\n",
    "        alpha=0.5, gamma=0.5, explore_strategy='epsilon', epsilon=0.2,\n",
    "        verbose=2)\n",
    "c = QController(agent=agent)\n",
    "emu = sleep_control.integration.Emulation(te=te, ts=ts, c=c)"
   ]
  },
  {
   "cell_type": "code",
   "execution_count": 53,
   "metadata": {
    "collapsed": false
   },
   "outputs": [
    {
     "name": "stdout",
     "output_type": "stream",
     "text": [
      "2567.92436004\n"
     ]
    }
   ],
   "source": [
    "t = time.time()\n",
    "log_file = open(\"sleep_control/experiments/log/message_2016-6-3_0840.log\",\"w\")\n",
    "sys.stdout = log_file\n",
    "TOTAL_EPOCHS = 3600*24*7/2  # 7 days\n",
    "while emu.epoch is not None and emu.epoch<TOTAL_EPOCHS:\n",
    "    # log time\n",
    "    print \"Epoch {}, \".format(emu.epoch),\n",
    "    left = emu.te.head_datetime + emu.te.epoch*emu.te.time_step\n",
    "    right = left + emu.te.time_step\n",
    "    print \"{} - {}\".format(left.strftime(\"%Y-%m-%d %H:%M:%S\"), right.strftime(\"%Y-%m-%d %H:%M:%S\"))\n",
    "    emu.step()\n",
    "    print\n",
    "sys.stdout = std_out\n",
    "print time.time()-t"
   ]
  },
  {
   "cell_type": "markdown",
   "metadata": {},
   "source": [
    "# Reloading"
   ]
  },
  {
   "cell_type": "code",
   "execution_count": 7,
   "metadata": {
    "collapsed": false
   },
   "outputs": [
    {
     "data": {
      "text/plain": [
       "<module 'qlearning.qtable' from 'qlearning/qtable.pyc'>"
      ]
     },
     "execution_count": 7,
     "metadata": {},
     "output_type": "execute_result"
    }
   ],
   "source": [
    "reload(sleep_control.integration)\n",
    "reload(sleep_control.traffic_server)\n",
    "reload(sleep_control.traffic_emulator)\n",
    "import qlearning\n",
    "reload(qlearning.qnn)\n",
    "reload(qlearning.qtable)"
   ]
  }
 ],
 "metadata": {
  "kernelspec": {
   "display_name": "Python 2",
   "language": "python",
   "name": "python2"
  },
  "language_info": {
   "codemirror_mode": {
    "name": "ipython",
    "version": 2
   },
   "file_extension": ".py",
   "mimetype": "text/x-python",
   "name": "python",
   "nbconvert_exporter": "python",
   "pygments_lexer": "ipython2",
   "version": "2.7.6"
  }
 },
 "nbformat": 4,
 "nbformat_minor": 0
}
