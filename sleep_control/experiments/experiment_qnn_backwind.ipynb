{
 "cells": [
  {
   "cell_type": "code",
   "execution_count": 11,
   "metadata": {
    "collapsed": false
   },
   "outputs": [
    {
     "name": "stdout",
     "output_type": "stream",
     "text": [
      "/home/admin-326/Data/ipython-notebook/dqn4wirelesscontrol\n"
     ]
    }
   ],
   "source": [
    "%cd ~/ipython-notebook/dqn4wirelesscontrol/\n",
    "import sys\n",
    "import time\n",
    "import pandas as pd\n",
    "import lasagne\n",
    "pd.set_option('mode.chained_assignment', None)  # block warnings due to DataFrame value assignment\n",
    "# Project modules\n",
    "from sleep_control.integration import Emulation\n",
    "import sleep_control.traffic_emulator\n",
    "import sleep_control.traffic_server\n",
    "from sleep_control.controller import QController, DummyController\n",
    "import qlearning.qtable\n",
    "import qlearning.qnn\n",
    "from qlearning.qtable import QAgent\n",
    "from qlearning.qnn import QAgentNN\n",
    "from qlearning.mixin import PhiMixin"
   ]
  },
  {
   "cell_type": "markdown",
   "metadata": {},
   "source": [
    "# Setting-up data"
   ]
  },
  {
   "cell_type": "code",
   "execution_count": 12,
   "metadata": {
    "collapsed": true
   },
   "outputs": [],
   "source": [
    "std_out = sys.stdout"
   ]
  },
  {
   "cell_type": "code",
   "execution_count": 13,
   "metadata": {
    "collapsed": false
   },
   "outputs": [
    {
     "name": "stderr",
     "output_type": "stream",
     "text": [
      "/usr/local/lib/python2.7/dist-packages/ipykernel/__main__.py:10: FutureWarning: sort(columns=....) is deprecated, use sort_values(by=.....)\n"
     ]
    }
   ],
   "source": [
    "session_df = pd.read_csv(filepath_or_buffer='./sleep_control/data/net_traffic_nonull.dat', \n",
    "                         sep=',', \n",
    "                         names=['uid','location','startTime_unix','duration_ms','domainProviders','domainTypes','domains','bytesByDomain','requestsByDomain'])\n",
    "session_df.index.name = 'sessionID'\n",
    "session_df['endTime_unix'] = session_df['startTime_unix'] + session_df['duration_ms']\n",
    "session_df['startTime_datetime'] = pd.to_datetime(session_df['startTime_unix'], unit='ms')  # convert start time to readible date_time strings\n",
    "session_df['endTime_datetime'] = pd.to_datetime(session_df['endTime_unix'], unit='ms')\n",
    "session_df['totalBytes'] = session_df['bytesByDomain'].apply(lambda x: x.split(';')).map(lambda x: sum(map(float, x)))  # sum bytes across domains\n",
    "session_df['totalRequests'] = session_df['requestsByDomain'].apply(lambda x: x.split(';')).map(lambda x: sum(map(float, x)))  # sum requests across domains\n",
    "session_df.sort(['startTime_datetime'], ascending=True, inplace=True)  # get it sorted\n",
    "session_df['interArrivalDuration_datetime'] = session_df.groupby('location')['startTime_datetime'].diff()  # group-wise diff\n",
    "session_df['interArrivalDuration_ms'] = session_df.groupby('location')['startTime_unix'].diff()  # group-wise diff"
   ]
  },
  {
   "cell_type": "code",
   "execution_count": 14,
   "metadata": {
    "collapsed": false
   },
   "outputs": [],
   "source": [
    "class QAgentNNPhi(PhiMixin, QAgentNN):\n",
    "    def __init__(self, **kwargs):\n",
    "        super(QAgentNNPhi, self).__init__(**kwargs)"
   ]
  },
  {
   "cell_type": "markdown",
   "metadata": {},
   "source": [
    "---"
   ]
  },
  {
   "cell_type": "code",
   "execution_count": 17,
   "metadata": {
    "collapsed": false
   },
   "outputs": [],
   "source": [
    "session_df_loc = session_df[session_df['location']=='第三食堂']\n",
    "gamma, alpha=0.5, 0.9\n",
    "explore_strategy, epsilon = 'epsilon', 0.02\n",
    "reward_scaling, reward_scaling_update = 20, 'fixed'\n",
    "phi_length = 5\n",
    "range_state_slice = [(0, 10), (0, 10), (0, 10), (0, 1), (0, 1)]\n",
    "momentum, learning_rate, update_period = 0.9, 0.01, 16\n",
    "num_buffer, memory_size, batch_size, freeze_period  = 2, 200, 100, 4\n",
    "log_file = \"sleep_control/experiments/log/message_2016-6-7_2330_BW_M200.log\"\n",
    "time_step, n_days = pd.Timedelta(seconds=2), 7\n",
    "head_datetime = pd.to_datetime(\"2014-11-01 0:00:00\")\n",
    "tail_datetime = head_datetime + pd.Timedelta(days=1)*n_days*5\n",
    "head_datetime = head_datetime - time_step*(num_buffer*memory_size+phi_length)"
   ]
  },
  {
   "cell_type": "code",
   "execution_count": 18,
   "metadata": {
    "collapsed": false
   },
   "outputs": [
    {
     "name": "stdout",
     "output_type": "stream",
     "text": [
      "New TrafficEmulator with parameters:\n",
      "  head=2014-10-31 23:46:30\n",
      "  tail=2014-12-06 00:00:00\n",
      "  time_step=0 days 00:00:02\n",
      "  epoch=0\n",
      "  verbose=2\n"
     ]
    },
    {
     "data": {
      "text/plain": [
       "3286.747209787369"
      ]
     },
     "execution_count": 18,
     "metadata": {},
     "output_type": "execute_result"
    }
   ],
   "source": [
    "log_file = open(log_file,\"w\")\n",
    "dim_state = (1, phi_length, 3+2)\n",
    "actions = [(True, None), (False, 'serve_all')]\n",
    "te = sleep_control.traffic_emulator.TrafficEmulator(session_df=session_df_loc, head_datetime=head_datetime, tail_datetime=tail_datetime, time_step=time_step, verbose=2)\n",
    "ts = sleep_control.traffic_server.TrafficServer(cost=5, verbose=2)\n",
    "agent = QAgentNNPhi(phi_length=phi_length, dim_state=dim_state, range_state=[[range_state_slice]*phi_length], actions=actions,\n",
    "        alpha=alpha, learning_rate=learning_rate, momentum=momentum, update_period=update_period,\n",
    "        reward_scaling=reward_scaling, reward_scaling_update=reward_scaling_update,\n",
    "        memory_size=memory_size, num_buffer=num_buffer, freeze_period=freeze_period, batch_size=batch_size,\n",
    "        gamma=gamma, explore_strategy=explore_strategy, epsilon=epsilon,\n",
    "        verbose=2)\n",
    "c = QController(agent=agent)\n",
    "emu = sleep_control.integration.Emulation(te=te, ts=ts, c=c)\n",
    "t = time.time()\n",
    "sys.stdout = log_file\n",
    "TOTAL_EPOCHS = 3600*24*n_days/step_sec\n",
    "while emu.epoch is not None and emu.epoch<TOTAL_EPOCHS:\n",
    "    # log time\n",
    "    print \"Epoch {}, \".format(emu.epoch),\n",
    "    left = emu.te.head_datetime + emu.te.epoch*emu.te.time_step\n",
    "    right = left + emu.te.time_step\n",
    "    print \"{} - {}\".format(left.strftime(\"%Y-%m-%d %H:%M:%S\"), right.strftime(\"%Y-%m-%d %H:%M:%S\"))\n",
    "    emu.step()\n",
    "    print\n",
    "sys.stdout = std_out\n",
    "log_file.close()\n",
    "time.time()-t"
   ]
  },
  {
   "cell_type": "markdown",
   "metadata": {},
   "source": [
    "---"
   ]
  },
  {
   "cell_type": "code",
   "execution_count": 19,
   "metadata": {
    "collapsed": false
   },
   "outputs": [],
   "source": [
    "session_df_loc = session_df[session_df['location']=='第三食堂']\n",
    "gamma, alpha=0.5, 0.9\n",
    "explore_strategy, epsilon = 'epsilon', 0.02\n",
    "reward_scaling, reward_scaling_update = 20, 'fixed'\n",
    "phi_length = 5\n",
    "range_state_slice = [(0, 10), (0, 10), (0, 10), (0, 1), (0, 1)]\n",
    "momentum, learning_rate, update_period = 0.9, 0.01, 16\n",
    "num_buffer, memory_size, batch_size, freeze_period  = 2, 400, 100, 4\n",
    "log_file = \"sleep_control/experiments/log/message_2016-6-7_2330_BW_M400.log\"\n",
    "time_step, n_days = pd.Timedelta(seconds=2), 7\n",
    "head_datetime = pd.to_datetime(\"2014-11-01 0:00:00\")\n",
    "tail_datetime = head_datetime + pd.Timedelta(days=1)*n_days*5\n",
    "head_datetime = head_datetime - time_step*(num_buffer*memory_size+phi_length)"
   ]
  },
  {
   "cell_type": "code",
   "execution_count": 20,
   "metadata": {
    "collapsed": false
   },
   "outputs": [
    {
     "name": "stdout",
     "output_type": "stream",
     "text": [
      "New TrafficEmulator with parameters:\n",
      "  head=2014-10-31 23:33:10\n",
      "  tail=2014-12-06 00:00:00\n",
      "  time_step=0 days 00:00:02\n",
      "  epoch=0\n",
      "  verbose=2\n"
     ]
    },
    {
     "data": {
      "text/plain": [
       "3252.5205240249634"
      ]
     },
     "execution_count": 20,
     "metadata": {},
     "output_type": "execute_result"
    }
   ],
   "source": [
    "log_file = open(log_file,\"w\")\n",
    "dim_state = (1, phi_length, 3+2)\n",
    "actions = [(True, None), (False, 'serve_all')]\n",
    "te = sleep_control.traffic_emulator.TrafficEmulator(session_df=session_df_loc, head_datetime=head_datetime, tail_datetime=tail_datetime, time_step=time_step, verbose=2)\n",
    "ts = sleep_control.traffic_server.TrafficServer(cost=5, verbose=2)\n",
    "agent = QAgentNNPhi(phi_length=phi_length, dim_state=dim_state, range_state=[[range_state_slice]*phi_length], actions=actions,\n",
    "        alpha=alpha, learning_rate=learning_rate, momentum=momentum, update_period=update_period,\n",
    "        reward_scaling=reward_scaling, reward_scaling_update=reward_scaling_update,\n",
    "        memory_size=memory_size, num_buffer=num_buffer, freeze_period=freeze_period, batch_size=batch_size,\n",
    "        gamma=gamma, explore_strategy=explore_strategy, epsilon=epsilon,\n",
    "        verbose=2)\n",
    "c = QController(agent=agent)\n",
    "emu = sleep_control.integration.Emulation(te=te, ts=ts, c=c)\n",
    "t = time.time()\n",
    "sys.stdout = log_file\n",
    "TOTAL_EPOCHS = 3600*24*n_days/step_sec\n",
    "while emu.epoch is not None and emu.epoch<TOTAL_EPOCHS:\n",
    "    # log time\n",
    "    print \"Epoch {}, \".format(emu.epoch),\n",
    "    left = emu.te.head_datetime + emu.te.epoch*emu.te.time_step\n",
    "    right = left + emu.te.time_step\n",
    "    print \"{} - {}\".format(left.strftime(\"%Y-%m-%d %H:%M:%S\"), right.strftime(\"%Y-%m-%d %H:%M:%S\"))\n",
    "    emu.step()\n",
    "    print\n",
    "sys.stdout = std_out\n",
    "log_file.close()\n",
    "time.time()-t"
   ]
  },
  {
   "cell_type": "markdown",
   "metadata": {},
   "source": [
    "---"
   ]
  },
  {
   "cell_type": "code",
   "execution_count": 21,
   "metadata": {
    "collapsed": false
   },
   "outputs": [],
   "source": [
    "session_df_loc = session_df[session_df['location']=='第三食堂']\n",
    "gamma, alpha=0.5, 0.9\n",
    "explore_strategy, epsilon = 'epsilon', 0.02\n",
    "reward_scaling, reward_scaling_update = 20, 'fixed'\n",
    "phi_length = 5\n",
    "range_state_slice = [(0, 10), (0, 10), (0, 10), (0, 1), (0, 1)]\n",
    "momentum, learning_rate, update_period = 0.9, 0.01, 16\n",
    "num_buffer, memory_size, batch_size, freeze_period  = 2, 800, 100, 4\n",
    "log_file = \"sleep_control/experiments/log/message_2016-6-7_2330_BW_M800.log\"\n",
    "time_step, n_days = pd.Timedelta(seconds=2), 7\n",
    "head_datetime = pd.to_datetime(\"2014-11-01 0:00:00\")\n",
    "tail_datetime = head_datetime + pd.Timedelta(days=1)*n_days*5\n",
    "head_datetime = head_datetime - time_step*(num_buffer*memory_size+phi_length)"
   ]
  },
  {
   "cell_type": "code",
   "execution_count": 22,
   "metadata": {
    "collapsed": false
   },
   "outputs": [
    {
     "name": "stdout",
     "output_type": "stream",
     "text": [
      "New TrafficEmulator with parameters:\n",
      "  head=2014-10-31 23:06:30\n",
      "  tail=2014-12-06 00:00:00\n",
      "  time_step=0 days 00:00:02\n",
      "  epoch=0\n",
      "  verbose=2\n"
     ]
    },
    {
     "data": {
      "text/plain": [
       "3292.680137872696"
      ]
     },
     "execution_count": 22,
     "metadata": {},
     "output_type": "execute_result"
    }
   ],
   "source": [
    "log_file = open(log_file,\"w\")\n",
    "dim_state = (1, phi_length, 3+2)\n",
    "actions = [(True, None), (False, 'serve_all')]\n",
    "te = sleep_control.traffic_emulator.TrafficEmulator(session_df=session_df_loc, head_datetime=head_datetime, tail_datetime=tail_datetime, time_step=time_step, verbose=2)\n",
    "ts = sleep_control.traffic_server.TrafficServer(cost=5, verbose=2)\n",
    "agent = QAgentNNPhi(phi_length=phi_length, dim_state=dim_state, range_state=[[range_state_slice]*phi_length], actions=actions,\n",
    "        alpha=alpha, learning_rate=learning_rate, momentum=momentum, update_period=update_period,\n",
    "        reward_scaling=reward_scaling, reward_scaling_update=reward_scaling_update,\n",
    "        memory_size=memory_size, num_buffer=num_buffer, freeze_period=freeze_period, batch_size=batch_size,\n",
    "        gamma=gamma, explore_strategy=explore_strategy, epsilon=epsilon,\n",
    "        verbose=2)\n",
    "c = QController(agent=agent)\n",
    "emu = sleep_control.integration.Emulation(te=te, ts=ts, c=c)\n",
    "t = time.time()\n",
    "sys.stdout = log_file\n",
    "TOTAL_EPOCHS = 3600*24*n_days/step_sec\n",
    "while emu.epoch is not None and emu.epoch<TOTAL_EPOCHS:\n",
    "    # log time\n",
    "    print \"Epoch {}, \".format(emu.epoch),\n",
    "    left = emu.te.head_datetime + emu.te.epoch*emu.te.time_step\n",
    "    right = left + emu.te.time_step\n",
    "    print \"{} - {}\".format(left.strftime(\"%Y-%m-%d %H:%M:%S\"), right.strftime(\"%Y-%m-%d %H:%M:%S\"))\n",
    "    emu.step()\n",
    "    print\n",
    "sys.stdout = std_out\n",
    "log_file.close()\n",
    "time.time()-t"
   ]
  },
  {
   "cell_type": "markdown",
   "metadata": {},
   "source": [
    "---"
   ]
  },
  {
   "cell_type": "code",
   "execution_count": 23,
   "metadata": {
    "collapsed": false
   },
   "outputs": [],
   "source": [
    "session_df_loc = session_df[session_df['location']=='第三食堂']\n",
    "gamma, alpha=0.5, 0.9\n",
    "explore_strategy, epsilon = 'epsilon', 0.02\n",
    "reward_scaling, reward_scaling_update = 20, 'fixed'\n",
    "phi_length = 5\n",
    "range_state_slice = [(0, 10), (0, 10), (0, 10), (0, 1), (0, 1)]\n",
    "momentum, learning_rate, update_period = 0.9, 0.01, 16\n",
    "num_buffer, memory_size, batch_size, freeze_period  = 2, 1600, 100, 4\n",
    "log_file = \"sleep_control/experiments/log/message_2016-6-7_2330_BW_M1600.log\"\n",
    "time_step, n_days = pd.Timedelta(seconds=2), 7\n",
    "head_datetime = pd.to_datetime(\"2014-11-01 0:00:00\")\n",
    "tail_datetime = head_datetime + pd.Timedelta(days=1)*n_days*5\n",
    "head_datetime = head_datetime - time_step*(num_buffer*memory_size+phi_length)"
   ]
  },
  {
   "cell_type": "code",
   "execution_count": 24,
   "metadata": {
    "collapsed": false
   },
   "outputs": [
    {
     "name": "stdout",
     "output_type": "stream",
     "text": [
      "New TrafficEmulator with parameters:\n",
      "  head=2014-10-31 22:13:10\n",
      "  tail=2014-12-06 00:00:00\n",
      "  time_step=0 days 00:00:02\n",
      "  epoch=0\n",
      "  verbose=2\n"
     ]
    },
    {
     "data": {
      "text/plain": [
       "3319.8053851127625"
      ]
     },
     "execution_count": 24,
     "metadata": {},
     "output_type": "execute_result"
    }
   ],
   "source": [
    "log_file = open(log_file,\"w\")\n",
    "dim_state = (1, phi_length, 3+2)\n",
    "actions = [(True, None), (False, 'serve_all')]\n",
    "te = sleep_control.traffic_emulator.TrafficEmulator(session_df=session_df_loc, head_datetime=head_datetime, tail_datetime=tail_datetime, time_step=time_step, verbose=2)\n",
    "ts = sleep_control.traffic_server.TrafficServer(cost=5, verbose=2)\n",
    "agent = QAgentNNPhi(phi_length=phi_length, dim_state=dim_state, range_state=[[range_state_slice]*phi_length], actions=actions,\n",
    "        alpha=alpha, learning_rate=learning_rate, momentum=momentum, update_period=update_period,\n",
    "        reward_scaling=reward_scaling, reward_scaling_update=reward_scaling_update,\n",
    "        memory_size=memory_size, num_buffer=num_buffer, freeze_period=freeze_period, batch_size=batch_size,\n",
    "        gamma=gamma, explore_strategy=explore_strategy, epsilon=epsilon,\n",
    "        verbose=2)\n",
    "c = QController(agent=agent)\n",
    "emu = sleep_control.integration.Emulation(te=te, ts=ts, c=c)\n",
    "t = time.time()\n",
    "sys.stdout = log_file\n",
    "TOTAL_EPOCHS = 3600*24*n_days/step_sec\n",
    "while emu.epoch is not None and emu.epoch<TOTAL_EPOCHS:\n",
    "    # log time\n",
    "    print \"Epoch {}, \".format(emu.epoch),\n",
    "    left = emu.te.head_datetime + emu.te.epoch*emu.te.time_step\n",
    "    right = left + emu.te.time_step\n",
    "    print \"{} - {}\".format(left.strftime(\"%Y-%m-%d %H:%M:%S\"), right.strftime(\"%Y-%m-%d %H:%M:%S\"))\n",
    "    emu.step()\n",
    "    print\n",
    "sys.stdout = std_out\n",
    "log_file.close()\n",
    "time.time()-t"
   ]
  },
  {
   "cell_type": "markdown",
   "metadata": {},
   "source": [
    "---"
   ]
  },
  {
   "cell_type": "code",
   "execution_count": 25,
   "metadata": {
    "collapsed": false
   },
   "outputs": [],
   "source": [
    "session_df_loc = session_df[session_df['location']=='第三食堂']\n",
    "gamma, alpha=0.5, 0.9\n",
    "explore_strategy, epsilon = 'epsilon', 0.02\n",
    "reward_scaling, reward_scaling_update = 20, 'fixed'\n",
    "phi_length = 1\n",
    "range_state_slice = [(0, 10), (0, 10), (0, 10), (0, 1), (0, 1)]\n",
    "momentum, learning_rate, update_period = 0.9, 0.01, 16\n",
    "num_buffer, memory_size, batch_size, freeze_period  = 2, 200, 100, 4\n",
    "log_file = \"sleep_control/experiments/log/message_2016-6-7_2330_BW_P1.log\"\n",
    "time_step, n_days = pd.Timedelta(seconds=2), 7\n",
    "head_datetime = pd.to_datetime(\"2014-11-01 0:00:00\")\n",
    "tail_datetime = head_datetime + pd.Timedelta(days=1)*n_days*5\n",
    "head_datetime = head_datetime - time_step*(num_buffer*memory_size+phi_length)"
   ]
  },
  {
   "cell_type": "code",
   "execution_count": 26,
   "metadata": {
    "collapsed": false
   },
   "outputs": [
    {
     "name": "stdout",
     "output_type": "stream",
     "text": [
      "New TrafficEmulator with parameters:\n",
      "  head=2014-10-31 23:46:38\n",
      "  tail=2014-12-06 00:00:00\n",
      "  time_step=0 days 00:00:02\n",
      "  epoch=0\n",
      "  verbose=2\n"
     ]
    },
    {
     "data": {
      "text/plain": [
       "3283.5739748477936"
      ]
     },
     "execution_count": 26,
     "metadata": {},
     "output_type": "execute_result"
    }
   ],
   "source": [
    "log_file = open(log_file,\"w\")\n",
    "dim_state = (1, phi_length, 3+2)\n",
    "actions = [(True, None), (False, 'serve_all')]\n",
    "te = sleep_control.traffic_emulator.TrafficEmulator(session_df=session_df_loc, head_datetime=head_datetime, tail_datetime=tail_datetime, time_step=time_step, verbose=2)\n",
    "ts = sleep_control.traffic_server.TrafficServer(cost=5, verbose=2)\n",
    "agent = QAgentNNPhi(phi_length=phi_length, dim_state=dim_state, range_state=[[range_state_slice]*phi_length], actions=actions,\n",
    "        alpha=alpha, learning_rate=learning_rate, momentum=momentum, update_period=update_period,\n",
    "        reward_scaling=reward_scaling, reward_scaling_update=reward_scaling_update,\n",
    "        memory_size=memory_size, num_buffer=num_buffer, freeze_period=freeze_period, batch_size=batch_size,\n",
    "        gamma=gamma, explore_strategy=explore_strategy, epsilon=epsilon,\n",
    "        verbose=2)\n",
    "c = QController(agent=agent)\n",
    "emu = sleep_control.integration.Emulation(te=te, ts=ts, c=c)\n",
    "t = time.time()\n",
    "sys.stdout = log_file\n",
    "TOTAL_EPOCHS = 3600*24*n_days/step_sec\n",
    "while emu.epoch is not None and emu.epoch<TOTAL_EPOCHS:\n",
    "    # log time\n",
    "    print \"Epoch {}, \".format(emu.epoch),\n",
    "    left = emu.te.head_datetime + emu.te.epoch*emu.te.time_step\n",
    "    right = left + emu.te.time_step\n",
    "    print \"{} - {}\".format(left.strftime(\"%Y-%m-%d %H:%M:%S\"), right.strftime(\"%Y-%m-%d %H:%M:%S\"))\n",
    "    emu.step()\n",
    "    print\n",
    "sys.stdout = std_out\n",
    "log_file.close()\n",
    "time.time()-t"
   ]
  },
  {
   "cell_type": "markdown",
   "metadata": {},
   "source": [
    "---"
   ]
  },
  {
   "cell_type": "code",
   "execution_count": 27,
   "metadata": {
    "collapsed": false
   },
   "outputs": [],
   "source": [
    "session_df_loc = session_df[session_df['location']=='第三食堂']\n",
    "gamma, alpha=0.5, 0.9\n",
    "explore_strategy, epsilon = 'epsilon', 0.02\n",
    "reward_scaling, reward_scaling_update = 20, 'fixed'\n",
    "phi_length = 5\n",
    "range_state_slice = [(0, 10), (0, 10), (0, 10), (0, 1), (0, 1)]\n",
    "momentum, learning_rate, update_period = 0.9, 0.01, 16\n",
    "num_buffer, memory_size, batch_size, freeze_period  = 2, 200, 100, 4\n",
    "log_file = \"sleep_control/experiments/log/message_2016-6-7_2330_BW_P5.log\"\n",
    "time_step, n_days = pd.Timedelta(seconds=2), 7\n",
    "head_datetime = pd.to_datetime(\"2014-11-01 0:00:00\")\n",
    "tail_datetime = head_datetime + pd.Timedelta(days=1)*n_days*5\n",
    "head_datetime = head_datetime - time_step*(num_buffer*memory_size+phi_length)"
   ]
  },
  {
   "cell_type": "code",
   "execution_count": 28,
   "metadata": {
    "collapsed": false
   },
   "outputs": [
    {
     "name": "stdout",
     "output_type": "stream",
     "text": [
      "New TrafficEmulator with parameters:\n",
      "  head=2014-10-31 23:46:30\n",
      "  tail=2014-12-06 00:00:00\n",
      "  time_step=0 days 00:00:02\n",
      "  epoch=0\n",
      "  verbose=2\n"
     ]
    },
    {
     "data": {
      "text/plain": [
       "3293.329514026642"
      ]
     },
     "execution_count": 28,
     "metadata": {},
     "output_type": "execute_result"
    }
   ],
   "source": [
    "log_file = open(log_file,\"w\")\n",
    "dim_state = (1, phi_length, 3+2)\n",
    "actions = [(True, None), (False, 'serve_all')]\n",
    "te = sleep_control.traffic_emulator.TrafficEmulator(session_df=session_df_loc, head_datetime=head_datetime, tail_datetime=tail_datetime, time_step=time_step, verbose=2)\n",
    "ts = sleep_control.traffic_server.TrafficServer(cost=5, verbose=2)\n",
    "agent = QAgentNNPhi(phi_length=phi_length, dim_state=dim_state, range_state=[[range_state_slice]*phi_length], actions=actions,\n",
    "        alpha=alpha, learning_rate=learning_rate, momentum=momentum, update_period=update_period,\n",
    "        reward_scaling=reward_scaling, reward_scaling_update=reward_scaling_update,\n",
    "        memory_size=memory_size, num_buffer=num_buffer, freeze_period=freeze_period, batch_size=batch_size,\n",
    "        gamma=gamma, explore_strategy=explore_strategy, epsilon=epsilon,\n",
    "        verbose=2)\n",
    "c = QController(agent=agent)\n",
    "emu = sleep_control.integration.Emulation(te=te, ts=ts, c=c)\n",
    "t = time.time()\n",
    "sys.stdout = log_file\n",
    "TOTAL_EPOCHS = 3600*24*n_days/step_sec\n",
    "while emu.epoch is not None and emu.epoch<TOTAL_EPOCHS:\n",
    "    # log time\n",
    "    print \"Epoch {}, \".format(emu.epoch),\n",
    "    left = emu.te.head_datetime + emu.te.epoch*emu.te.time_step\n",
    "    right = left + emu.te.time_step\n",
    "    print \"{} - {}\".format(left.strftime(\"%Y-%m-%d %H:%M:%S\"), right.strftime(\"%Y-%m-%d %H:%M:%S\"))\n",
    "    emu.step()\n",
    "    print\n",
    "sys.stdout = std_out\n",
    "log_file.close()\n",
    "time.time()-t"
   ]
  },
  {
   "cell_type": "markdown",
   "metadata": {},
   "source": [
    "---"
   ]
  },
  {
   "cell_type": "code",
   "execution_count": 29,
   "metadata": {
    "collapsed": false
   },
   "outputs": [],
   "source": [
    "session_df_loc = session_df[session_df['location']=='第三食堂']\n",
    "gamma, alpha=0.5, 0.9\n",
    "explore_strategy, epsilon = 'epsilon', 0.02\n",
    "reward_scaling, reward_scaling_update = 20, 'fixed'\n",
    "phi_length = 25\n",
    "range_state_slice = [(0, 10), (0, 10), (0, 10), (0, 1), (0, 1)]\n",
    "momentum, learning_rate, update_period = 0.9, 0.01, 16\n",
    "num_buffer, memory_size, batch_size, freeze_period  = 2, 200, 100, 4\n",
    "log_file = \"sleep_control/experiments/log/message_2016-6-7_2330_BW_P25.log\"\n",
    "time_step, n_days = pd.Timedelta(seconds=2), 7\n",
    "head_datetime = pd.to_datetime(\"2014-11-01 0:00:00\")\n",
    "tail_datetime = head_datetime + pd.Timedelta(days=1)*n_days*5\n",
    "head_datetime = head_datetime - time_step*(num_buffer*memory_size+phi_length)"
   ]
  },
  {
   "cell_type": "code",
   "execution_count": 30,
   "metadata": {
    "collapsed": false
   },
   "outputs": [
    {
     "name": "stdout",
     "output_type": "stream",
     "text": [
      "New TrafficEmulator with parameters:\n",
      "  head=2014-10-31 23:45:50\n",
      "  tail=2014-12-06 00:00:00\n",
      "  time_step=0 days 00:00:02\n",
      "  epoch=0\n",
      "  verbose=2\n"
     ]
    },
    {
     "data": {
      "text/plain": [
       "3339.572259902954"
      ]
     },
     "execution_count": 30,
     "metadata": {},
     "output_type": "execute_result"
    }
   ],
   "source": [
    "log_file = open(log_file,\"w\")\n",
    "dim_state = (1, phi_length, 3+2)\n",
    "actions = [(True, None), (False, 'serve_all')]\n",
    "te = sleep_control.traffic_emulator.TrafficEmulator(session_df=session_df_loc, head_datetime=head_datetime, tail_datetime=tail_datetime, time_step=time_step, verbose=2)\n",
    "ts = sleep_control.traffic_server.TrafficServer(cost=5, verbose=2)\n",
    "agent = QAgentNNPhi(phi_length=phi_length, dim_state=dim_state, range_state=[[range_state_slice]*phi_length], actions=actions,\n",
    "        alpha=alpha, learning_rate=learning_rate, momentum=momentum, update_period=update_period,\n",
    "        reward_scaling=reward_scaling, reward_scaling_update=reward_scaling_update,\n",
    "        memory_size=memory_size, num_buffer=num_buffer, freeze_period=freeze_period, batch_size=batch_size,\n",
    "        gamma=gamma, explore_strategy=explore_strategy, epsilon=epsilon,\n",
    "        verbose=2)\n",
    "c = QController(agent=agent)\n",
    "emu = sleep_control.integration.Emulation(te=te, ts=ts, c=c)\n",
    "t = time.time()\n",
    "sys.stdout = log_file\n",
    "TOTAL_EPOCHS = 3600*24*n_days/step_sec\n",
    "while emu.epoch is not None and emu.epoch<TOTAL_EPOCHS:\n",
    "    # log time\n",
    "    print \"Epoch {}, \".format(emu.epoch),\n",
    "    left = emu.te.head_datetime + emu.te.epoch*emu.te.time_step\n",
    "    right = left + emu.te.time_step\n",
    "    print \"{} - {}\".format(left.strftime(\"%Y-%m-%d %H:%M:%S\"), right.strftime(\"%Y-%m-%d %H:%M:%S\"))\n",
    "    emu.step()\n",
    "    print\n",
    "sys.stdout = std_out\n",
    "log_file.close()\n",
    "time.time()-t"
   ]
  },
  {
   "cell_type": "markdown",
   "metadata": {},
   "source": [
    "---"
   ]
  },
  {
   "cell_type": "code",
   "execution_count": 31,
   "metadata": {
    "collapsed": false
   },
   "outputs": [],
   "source": [
    "session_df_loc = session_df[session_df['location']=='第三食堂']\n",
    "gamma, alpha=0.5, 0.9\n",
    "explore_strategy, epsilon = 'epsilon', 0.02\n",
    "reward_scaling, reward_scaling_update = 20, 'fixed'\n",
    "phi_length = 125\n",
    "range_state_slice = [(0, 10), (0, 10), (0, 10), (0, 1), (0, 1)]\n",
    "momentum, learning_rate, update_period = 0.9, 0.01, 16\n",
    "num_buffer, memory_size, batch_size, freeze_period  = 2, 200, 100, 4\n",
    "log_file = \"sleep_control/experiments/log/message_2016-6-7_2330_BW_P125.log\"\n",
    "time_step, n_days = pd.Timedelta(seconds=2), 7\n",
    "head_datetime = pd.to_datetime(\"2014-11-01 0:00:00\")\n",
    "tail_datetime = head_datetime + pd.Timedelta(days=1)*n_days*5\n",
    "head_datetime = head_datetime - time_step*(num_buffer*memory_size+phi_length)"
   ]
  },
  {
   "cell_type": "code",
   "execution_count": 32,
   "metadata": {
    "collapsed": false
   },
   "outputs": [
    {
     "name": "stdout",
     "output_type": "stream",
     "text": [
      "New TrafficEmulator with parameters:\n",
      "  head=2014-10-31 23:42:30\n",
      "  tail=2014-12-06 00:00:00\n",
      "  time_step=0 days 00:00:02\n",
      "  epoch=0\n",
      "  verbose=2\n"
     ]
    },
    {
     "data": {
      "text/plain": [
       "3542.331981897354"
      ]
     },
     "execution_count": 32,
     "metadata": {},
     "output_type": "execute_result"
    }
   ],
   "source": [
    "log_file = open(log_file,\"w\")\n",
    "dim_state = (1, phi_length, 3+2)\n",
    "actions = [(True, None), (False, 'serve_all')]\n",
    "te = sleep_control.traffic_emulator.TrafficEmulator(session_df=session_df_loc, head_datetime=head_datetime, tail_datetime=tail_datetime, time_step=time_step, verbose=2)\n",
    "ts = sleep_control.traffic_server.TrafficServer(cost=5, verbose=2)\n",
    "agent = QAgentNNPhi(phi_length=phi_length, dim_state=dim_state, range_state=[[range_state_slice]*phi_length], actions=actions,\n",
    "        alpha=alpha, learning_rate=learning_rate, momentum=momentum, update_period=update_period,\n",
    "        reward_scaling=reward_scaling, reward_scaling_update=reward_scaling_update,\n",
    "        memory_size=memory_size, num_buffer=num_buffer, freeze_period=freeze_period, batch_size=batch_size,\n",
    "        gamma=gamma, explore_strategy=explore_strategy, epsilon=epsilon,\n",
    "        verbose=2)\n",
    "c = QController(agent=agent)\n",
    "emu = sleep_control.integration.Emulation(te=te, ts=ts, c=c)\n",
    "t = time.time()\n",
    "sys.stdout = log_file\n",
    "TOTAL_EPOCHS = 3600*24*n_days/step_sec\n",
    "while emu.epoch is not None and emu.epoch<TOTAL_EPOCHS:\n",
    "    # log time\n",
    "    print \"Epoch {}, \".format(emu.epoch),\n",
    "    left = emu.te.head_datetime + emu.te.epoch*emu.te.time_step\n",
    "    right = left + emu.te.time_step\n",
    "    print \"{} - {}\".format(left.strftime(\"%Y-%m-%d %H:%M:%S\"), right.strftime(\"%Y-%m-%d %H:%M:%S\"))\n",
    "    emu.step()\n",
    "    print\n",
    "sys.stdout = std_out\n",
    "log_file.close()\n",
    "time.time()-t"
   ]
  },
  {
   "cell_type": "markdown",
   "metadata": {},
   "source": [
    "---"
   ]
  },
  {
   "cell_type": "code",
   "execution_count": 37,
   "metadata": {
    "collapsed": false
   },
   "outputs": [],
   "source": [
    "session_df_loc = session_df[session_df['location']=='第三食堂']\n",
    "gamma, alpha=0.5, 0.9\n",
    "explore_strategy, epsilon = 'epsilon', 0.02\n",
    "reward_scaling, reward_scaling_update = 120, 'adaptive'\n",
    "phi_length = 5\n",
    "range_state_slice = [(0, 10), (0, 10), (0, 10), (0, 1), (0, 1)]\n",
    "momentum, learning_rate, update_period = 0.9, 0.01, 16\n",
    "num_buffer, memory_size, batch_size, freeze_period  = 2, 2000, 100, 4\n",
    "log_file = \"sleep_control/experiments/log/message_2016-6-7_2335_TQ_AR1_3.log\"\n",
    "step_sec, n_days = 2, 7"
   ]
  },
  {
   "cell_type": "code",
   "execution_count": 38,
   "metadata": {
    "collapsed": false
   },
   "outputs": [
    {
     "name": "stdout",
     "output_type": "stream",
     "text": [
      "New TrafficEmulator with parameters:\n",
      "  head=2014-09-25 09:20:31.474000\n",
      "  tail=2015-01-31 15:36:36.279000\n",
      "  time_step=0 days 00:00:02\n",
      "  epoch=0\n",
      "  verbose=2\n"
     ]
    },
    {
     "data": {
      "text/plain": [
       "2895.3313660621643"
      ]
     },
     "execution_count": 38,
     "metadata": {},
     "output_type": "execute_result"
    }
   ],
   "source": [
    "log_file = open(log_file,\"w\")\n",
    "dim_state = (1, phi_length, 3+2)\n",
    "actions = [(True, None), (False, 'serve_all')]\n",
    "te = sleep_control.traffic_emulator.TrafficEmulator(session_df=session_df_loc, time_step=pd.Timedelta(seconds=step_sec), verbose=2)\n",
    "ts = sleep_control.traffic_server.TrafficServer(cost=5, verbose=2)\n",
    "agent = QAgentNNPhi(phi_length=phi_length, dim_state=dim_state, range_state=[[range_state_slice]*phi_length], actions=actions,\n",
    "        alpha=alpha, learning_rate=learning_rate, momentum=momentum, update_period=update_period,\n",
    "        reward_scaling=reward_scaling, reward_scaling_update=reward_scaling_update,\n",
    "        memory_size=memory_size, num_buffer=num_buffer, freeze_period=freeze_period, batch_size=batch_size,\n",
    "        gamma=gamma, explore_strategy=explore_strategy, epsilon=epsilon,\n",
    "        verbose=2)\n",
    "c = QController(agent=agent)\n",
    "emu = sleep_control.integration.Emulation(te=te, ts=ts, c=c)\n",
    "t = time.time()\n",
    "sys.stdout = log_file\n",
    "TOTAL_EPOCHS = 3600*24*n_days/step_sec\n",
    "while emu.epoch is not None and emu.epoch<TOTAL_EPOCHS:\n",
    "    # log time\n",
    "    print \"Epoch {}, \".format(emu.epoch),\n",
    "    left = emu.te.head_datetime + emu.te.epoch*emu.te.time_step\n",
    "    right = left + emu.te.time_step\n",
    "    print \"{} - {}\".format(left.strftime(\"%Y-%m-%d %H:%M:%S\"), right.strftime(\"%Y-%m-%d %H:%M:%S\"))\n",
    "    emu.step()\n",
    "    print\n",
    "sys.stdout = std_out\n",
    "log_file.close()\n",
    "time.time()-t"
   ]
  },
  {
   "cell_type": "markdown",
   "metadata": {},
   "source": [
    "---"
   ]
  },
  {
   "cell_type": "code",
   "execution_count": 39,
   "metadata": {
    "collapsed": false
   },
   "outputs": [],
   "source": [
    "session_df_loc = session_df[session_df['location']=='第三食堂']\n",
    "gamma, alpha=0.5, 0.9\n",
    "explore_strategy, epsilon = 'epsilon', 0.02\n",
    "reward_scaling, reward_scaling_update = 5, 'adaptive'\n",
    "phi_length = 5\n",
    "range_state_slice = [(0, 10), (0, 10), (0, 10), (0, 1), (0, 1)]\n",
    "momentum, learning_rate, update_period = 0.9, 0.01, 16\n",
    "num_buffer, memory_size, batch_size, freeze_period  = 2, 2000, 100, 4\n",
    "log_file = \"sleep_control/experiments/log/message_2016-6-7_2335_TQ_AR5_2.log\"\n",
    "step_sec, n_days = 2, 7"
   ]
  },
  {
   "cell_type": "code",
   "execution_count": 40,
   "metadata": {
    "collapsed": false
   },
   "outputs": [
    {
     "name": "stdout",
     "output_type": "stream",
     "text": [
      "New TrafficEmulator with parameters:\n",
      "  head=2014-09-25 09:20:31.474000\n",
      "  tail=2015-01-31 15:36:36.279000\n",
      "  time_step=0 days 00:00:02\n",
      "  epoch=0\n",
      "  verbose=2\n"
     ]
    },
    {
     "data": {
      "text/plain": [
       "2891.97047495842"
      ]
     },
     "execution_count": 40,
     "metadata": {},
     "output_type": "execute_result"
    }
   ],
   "source": [
    "log_file = open(log_file,\"w\")\n",
    "dim_state = (1, phi_length, 3+2)\n",
    "actions = [(True, None), (False, 'serve_all')]\n",
    "te = sleep_control.traffic_emulator.TrafficEmulator(session_df=session_df_loc, time_step=pd.Timedelta(seconds=step_sec), verbose=2)\n",
    "ts = sleep_control.traffic_server.TrafficServer(cost=5, verbose=2)\n",
    "agent = QAgentNNPhi(phi_length=phi_length, dim_state=dim_state, range_state=[[range_state_slice]*phi_length], actions=actions,\n",
    "        alpha=alpha, learning_rate=learning_rate, momentum=momentum, update_period=update_period,\n",
    "        reward_scaling=reward_scaling, reward_scaling_update=reward_scaling_update,\n",
    "        memory_size=memory_size, num_buffer=num_buffer, freeze_period=freeze_period, batch_size=batch_size,\n",
    "        gamma=gamma, explore_strategy=explore_strategy, epsilon=epsilon,\n",
    "        verbose=2)\n",
    "c = QController(agent=agent)\n",
    "emu = sleep_control.integration.Emulation(te=te, ts=ts, c=c)\n",
    "t = time.time()\n",
    "sys.stdout = log_file\n",
    "TOTAL_EPOCHS = 3600*24*n_days/step_sec\n",
    "while emu.epoch is not None and emu.epoch<TOTAL_EPOCHS:\n",
    "    # log time\n",
    "    print \"Epoch {}, \".format(emu.epoch),\n",
    "    left = emu.te.head_datetime + emu.te.epoch*emu.te.time_step\n",
    "    right = left + emu.te.time_step\n",
    "    print \"{} - {}\".format(left.strftime(\"%Y-%m-%d %H:%M:%S\"), right.strftime(\"%Y-%m-%d %H:%M:%S\"))\n",
    "    emu.step()\n",
    "    print\n",
    "sys.stdout = std_out\n",
    "log_file.close()\n",
    "time.time()-t"
   ]
  }
 ],
 "metadata": {
  "kernelspec": {
   "display_name": "Python 2",
   "language": "python",
   "name": "python2"
  },
  "language_info": {
   "codemirror_mode": {
    "name": "ipython",
    "version": 2
   },
   "file_extension": ".py",
   "mimetype": "text/x-python",
   "name": "python",
   "nbconvert_exporter": "python",
   "pygments_lexer": "ipython2",
   "version": "2.7.6"
  }
 },
 "nbformat": 4,
 "nbformat_minor": 0
}
