{
 "cells": [
  {
   "cell_type": "code",
   "execution_count": 1,
   "metadata": {
    "collapsed": false
   },
   "outputs": [
    {
     "name": "stdout",
     "output_type": "stream",
     "text": [
      "/home/admin-326/Data/ipython-notebook/dqn4wirelesscontrol\n"
     ]
    }
   ],
   "source": [
    "%cd ~/ipython-notebook/dqn4wirelesscontrol/\n",
    "import sys\n",
    "import time\n",
    "import pandas as pd\n",
    "pd.set_option('mode.chained_assignment', None)  # block warnings due to DataFrame value assignment\n",
    "# Project modules\n",
    "from sleep_control.integration import Emulation\n",
    "import sleep_control.traffic_emulator\n",
    "import sleep_control.traffic_server\n",
    "from sleep_control.controller import NController"
   ]
  },
  {
   "cell_type": "markdown",
   "metadata": {},
   "source": [
    "Setting-up data"
   ]
  },
  {
   "cell_type": "code",
   "execution_count": 2,
   "metadata": {
    "collapsed": true
   },
   "outputs": [],
   "source": [
    "std_out = sys.stdout"
   ]
  },
  {
   "cell_type": "code",
   "execution_count": 3,
   "metadata": {
    "collapsed": false
   },
   "outputs": [
    {
     "name": "stderr",
     "output_type": "stream",
     "text": [
      "/usr/local/lib/python2.7/dist-packages/ipykernel/__main__.py:10: FutureWarning: sort(columns=....) is deprecated, use sort_values(by=.....)\n"
     ]
    }
   ],
   "source": [
    "session_df = pd.read_csv(filepath_or_buffer='./sleep_control/data/net_traffic_nonull.dat', \n",
    "                         sep=',', \n",
    "                         names=['uid','location','startTime_unix','duration_ms','domainProviders','domainTypes','domains','bytesByDomain','requestsByDomain'])\n",
    "session_df.index.name = 'sessionID'\n",
    "session_df['endTime_unix'] = session_df['startTime_unix'] + session_df['duration_ms']\n",
    "session_df['startTime_datetime'] = pd.to_datetime(session_df['startTime_unix'], unit='ms')  # convert start time to readible date_time strings\n",
    "session_df['endTime_datetime'] = pd.to_datetime(session_df['endTime_unix'], unit='ms')\n",
    "session_df['totalBytes'] = session_df['bytesByDomain'].apply(lambda x: x.split(';')).map(lambda x: sum(map(float, x)))  # sum bytes across domains\n",
    "session_df['totalRequests'] = session_df['requestsByDomain'].apply(lambda x: x.split(';')).map(lambda x: sum(map(float, x)))  # sum requests across domains\n",
    "session_df.sort(['startTime_datetime'], ascending=True, inplace=True)  # get it sorted\n",
    "session_df['interArrivalDuration_datetime'] = session_df.groupby('location')['startTime_datetime'].diff()  # group-wise diff\n",
    "session_df['interArrivalDuration_ms'] = session_df.groupby('location')['startTime_unix'].diff()  # group-wise diff"
   ]
  },
  {
   "cell_type": "markdown",
   "metadata": {},
   "source": [
    "# EXP1 N=1"
   ]
  },
  {
   "cell_type": "code",
   "execution_count": 4,
   "metadata": {
    "collapsed": false
   },
   "outputs": [],
   "source": [
    "session_df_loc = session_df[session_df['location']=='第三食堂']\n",
    "N_off, N_on = 0, 1\n",
    "n_days = 7\n",
    "log_file = open(\"sleep_control/experiments/log/message_2016-6-5_1501_N.log\",\"w\")"
   ]
  },
  {
   "cell_type": "code",
   "execution_count": 5,
   "metadata": {
    "collapsed": false
   },
   "outputs": [
    {
     "data": {
      "text/plain": [
       "4002.3538870811462"
      ]
     },
     "execution_count": 5,
     "metadata": {},
     "output_type": "execute_result"
    }
   ],
   "source": [
    "te = sleep_control.traffic_emulator.TrafficEmulator(session_df=session_df_loc, time_step=pd.Timedelta(seconds=2), verbose=2)\n",
    "ts = sleep_control.traffic_server.TrafficServer(cost=5, verbose=2)\n",
    "c = NController(N_off=N_off, N_on=N_on)\n",
    "emu = sleep_control.integration.Emulation(te=te, ts=ts, c=c)\n",
    "t = time.time()\n",
    "sys.stdout = log_file\n",
    "TOTAL_EPOCHS = 3600*24*n_days/2\n",
    "while emu.te.epoch is not None and emu.epoch<TOTAL_EPOCHS:\n",
    "    # log time\n",
    "    print \"Epoch {}, \".format(emu.epoch),\n",
    "    left = emu.te.head_datetime + emu.te.epoch*emu.te.time_step\n",
    "    right = left + emu.te.time_step\n",
    "    print \"{} - {}\".format(left.strftime(\"%Y-%m-%d %H:%M:%S\"), right.strftime(\"%Y-%m-%d %H:%M:%S\"))\n",
    "    emu.step()\n",
    "    print\n",
    "sys.stdoutd = std_out\n",
    "time.time()-t"
   ]
  },
  {
   "cell_type": "markdown",
   "metadata": {},
   "source": [
    "# EXP2 N=2"
   ]
  },
  {
   "cell_type": "code",
   "execution_count": 6,
   "metadata": {
    "collapsed": false
   },
   "outputs": [],
   "source": [
    "session_df_loc = session_df[session_df['location']=='第三食堂']\n",
    "N_off, N_on = 0, 2\n",
    "n_days = 7\n",
    "log_file = open(\"sleep_control/experiments/log/message_2016-6-5_1541_N.log\",\"w\")"
   ]
  },
  {
   "cell_type": "code",
   "execution_count": 7,
   "metadata": {
    "collapsed": false
   },
   "outputs": [
    {
     "data": {
      "text/plain": [
       "3658.508616924286"
      ]
     },
     "execution_count": 7,
     "metadata": {},
     "output_type": "execute_result"
    }
   ],
   "source": [
    "te = sleep_control.traffic_emulator.TrafficEmulator(session_df=session_df_loc, time_step=pd.Timedelta(seconds=2), verbose=2)\n",
    "ts = sleep_control.traffic_server.TrafficServer(cost=5, verbose=2)\n",
    "c = NController(N_off=N_off, N_on=N_on)\n",
    "emu = sleep_control.integration.Emulation(te=te, ts=ts, c=c)\n",
    "t = time.time()\n",
    "sys.stdout = log_file\n",
    "TOTAL_EPOCHS = 3600*24*n_days/2\n",
    "while emu.te.epoch is not None and emu.epoch<TOTAL_EPOCHS:\n",
    "    # log time\n",
    "    print \"Epoch {}, \".format(emu.epoch),\n",
    "    left = emu.te.head_datetime + emu.te.epoch*emu.te.time_step\n",
    "    right = left + emu.te.time_step\n",
    "    print \"{} - {}\".format(left.strftime(\"%Y-%m-%d %H:%M:%S\"), right.strftime(\"%Y-%m-%d %H:%M:%S\"))\n",
    "    emu.step()\n",
    "    print\n",
    "sys.stdoutd = std_out\n",
    "time.time()-t"
   ]
  },
  {
   "cell_type": "markdown",
   "metadata": {},
   "source": [
    "# EXP3 N=3"
   ]
  },
  {
   "cell_type": "code",
   "execution_count": 8,
   "metadata": {
    "collapsed": false
   },
   "outputs": [],
   "source": [
    "session_df_loc = session_df[session_df['location']=='第三食堂']\n",
    "N_off, N_on = 0, 3\n",
    "n_days = 7\n",
    "log_file = open(\"sleep_control/experiments/log/message_2016-6-5_1621_N.log\",\"w\")"
   ]
  },
  {
   "cell_type": "code",
   "execution_count": 9,
   "metadata": {
    "collapsed": false
   },
   "outputs": [
    {
     "data": {
      "text/plain": [
       "3711.0615758895874"
      ]
     },
     "execution_count": 9,
     "metadata": {},
     "output_type": "execute_result"
    }
   ],
   "source": [
    "te = sleep_control.traffic_emulator.TrafficEmulator(session_df=session_df_loc, time_step=pd.Timedelta(seconds=2), verbose=2)\n",
    "ts = sleep_control.traffic_server.TrafficServer(cost=5, verbose=2)\n",
    "c = NController(N_off=N_off, N_on=N_on)\n",
    "emu = sleep_control.integration.Emulation(te=te, ts=ts, c=c)\n",
    "t = time.time()\n",
    "sys.stdout = log_file\n",
    "TOTAL_EPOCHS = 3600*24*n_days/2\n",
    "while emu.te.epoch is not None and emu.epoch<TOTAL_EPOCHS:\n",
    "    # log time\n",
    "    print \"Epoch {}, \".format(emu.epoch),\n",
    "    left = emu.te.head_datetime + emu.te.epoch*emu.te.time_step\n",
    "    right = left + emu.te.time_step\n",
    "    print \"{} - {}\".format(left.strftime(\"%Y-%m-%d %H:%M:%S\"), right.strftime(\"%Y-%m-%d %H:%M:%S\"))\n",
    "    emu.step()\n",
    "    print\n",
    "sys.stdoutd = std_out\n",
    "time.time()-t"
   ]
  }
 ],
 "metadata": {
  "kernelspec": {
   "display_name": "Python 2",
   "language": "python",
   "name": "python2"
  },
  "language_info": {
   "codemirror_mode": {
    "name": "ipython",
    "version": 2
   },
   "file_extension": ".py",
   "mimetype": "text/x-python",
   "name": "python",
   "nbconvert_exporter": "python",
   "pygments_lexer": "ipython2",
   "version": "2.7.6"
  }
 },
 "nbformat": 4,
 "nbformat_minor": 0
}
