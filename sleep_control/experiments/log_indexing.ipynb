{
 "cells": [
  {
   "cell_type": "code",
   "execution_count": 11,
   "metadata": {
    "collapsed": true
   },
   "outputs": [],
   "source": [
    "import re\n",
    "import pandas as pd"
   ]
  },
  {
   "cell_type": "code",
   "execution_count": 12,
   "metadata": {
    "collapsed": false
   },
   "outputs": [],
   "source": [
    "re_epoch_msg = re.compile(\n",
    "'Epoch (?P<epoch>[\\d\\.]+),  (?P<start_ts>\\d{4}-\\d{2}-\\d{2} \\d{2}:\\d{2}:\\d{2}) - (?P<end_ts>\\d{4}-\\d{2}-\\d{2} \\d{2}:\\d{2}:\\d{2})\\n'  # epoch & time stamp\n",
    "'Last reward: ((?P<last_reward>[-]*[\\d\\.]+)|(None))\\n'  # reward\n",
    "'  TrafficEmulator.generate_traffic\\(\\): located (?P<session_in>\\d+), droped (?P<session_out>\\d+), left (?P<session_net>\\d+) sessions in epoch \\d+.\\n'  # session dynamics\n",
    "'  TrafficEmulator.generate_requests_\\(\\): generated (?P<req_generated>\\d+) requests at epoch \\d+.\\n'  # how many requests generated?\n",
    "'Observation: \\((?P<ob_last_q>\\d+), (?P<ob_last_t>\\d+), (?P<ob_new_q>\\d+)\\)\\n'  # current observation slice\n",
    "'(  QAgentNN:  update counter (?P<counter_update>[-\\d]+), freeze counter (?P<counter_freeze>[-\\d]+), rs counter (?P<counter_rs>[-\\d]+).\\n){0,1}'\n",
    "'(  QAgentNN:  '\n",
    "    '(?P<agent_update_msg>(last_reward is None, agent not updated.)|'\n",
    "    '(state is None, agent not updated.)|'\n",
    "    '(unfull memory.)|'\n",
    "    '(update loss is (?P<loss>[a-zA-Z\\d\\.-]+), reward_scaling is (?P<reward_scaling>[a-zA-Z\\d\\.-]+))'\n",
    "    ')\\n){0,1}'  # agent update message: reason, counter, & loss\n",
    "'(    QAgentNN:  batch action distribution: (?P<batch_dist>\\{\\(False, \\'serve_all\\'\\): (?P<batch_dist_wake>[a-zA-Z\\d\\.-]+), \\(True, None\\): (?P<batch_dist_sleep>[a-zA-Z\\d\\.-]+)\\})\\n){0,1}'  # batch distribution\n",
    "'  QAgent:  (?P<agent_act_msg>'\n",
    "             '((randomly choose action( \\([a-zA-Z,_ \\']+\\)){0,1})|(choose best q among (?P<q_vals>\\{\\(False, \\'serve_all\\'\\): (?P<q_wake>[a-zA-Z\\d\\.-]+), \\(True, None\\): (?P<q_sleep>[a-zA-Z\\d\\.-]+)\\})))'\n",
    "             ' \\((?P<agent_act_basis>[a-zA-Z ]+)\\).)\\n'\n",
    "'Control: (?P<agent_action>\\([a-zA-Z,_ \\']+\\)), Agent update: [a-zA-Z\\d\\.-]+\\n'\n",
    "'(  TrafficServer: Serving all \\d+ requests in queue.\\n    TrafficServer: Dropped \\d+ q entries to deduplicate\\n  TrafficServer:  \\(False, \\'serve_all\\'\\)\\n){0,1}'\n",
    "'  TrafficEmulator.evaluate_service_\\(\\): '\n",
    "    'served (?P<req_served>\\d+), queued (?P<req_queued>\\d+), '\n",
    "    'rejected (?P<req_rejected>\\d+) \\((?P<req_retried>\\d+), (?P<req_canceled>\\d+)\\), unattended (?P<req_unattended>\\d+) at epoch \\d+, '\n",
    "    'reward [-]*\\d+ \\((?P<tr_reward_serve>[-]*\\d+), (?P<tr_reward_wait>[-]*\\d+), (?P<tr_reward_fail>[-]*\\d+)\\)\\n'\n",
    "'  TrafficEmulator.evaluate_service_\\(\\): buffer info: pending (?P<req_pending_all>\\d+), waiting (?P<req_waiting_all>\\d+), served (?P<req_served_all>\\d+), failed (?P<req_failed_all>\\d+)\\n'\n",
    "'Cost: (?P<op_cost>[-]*\\d+), Reward: (?P<tr_reward>[-]*\\d+)\\n{0,1}'\n",
    ")"
   ]
  },
  {
   "cell_type": "code",
   "execution_count": 13,
   "metadata": {
    "collapsed": false
   },
   "outputs": [],
   "source": [
    "def index_file(file):\n",
    "    with open('./log/'+file, \"r\") as f_log:\n",
    "        all_log = \"\".join(f_log.readlines()).split('\\n\\n')\n",
    "        extract = [re_epoch_msg.search(piece) for piece in all_log]\n",
    "        df = pd.DataFrame.from_dict([piece.groupdict() for piece in extract if piece is not None])\n",
    "        df.set_index('epoch')\n",
    "        df.index.name = 'epoch'\n",
    "    with open(\"./log/index_\"+file+\".csv\", \"w\") as f_ind:\n",
    "        df.to_csv(f_ind, sep=';', index=True, header=True)"
   ]
  },
  {
   "cell_type": "code",
   "execution_count": 10,
   "metadata": {
    "collapsed": false
   },
   "outputs": [
    {
     "data": {
      "text/plain": [
       "[]"
      ]
     },
     "execution_count": 10,
     "metadata": {},
     "output_type": "execute_result"
    }
   ],
   "source": [
    "files =[\n",
    "# \"message_2016-6-8_2130_P100_1.log\",\n",
    "# \"message_2016-6-8_2130_P100_2.log\",\n",
    "# \"message_2016-6-8_2130_P100_3.log\",\n",
    "# \"message_2016-6-8_2130_P10_1.log\",\n",
    "# \"message_2016-6-8_2130_P10_3.log\",\n",
    "# \"message_2016-6-8_2130_P1_2.log\",\n",
    "# \"message_2016-6-8_2130_P1_3.log\",\n",
    "# \"message_2016-6-8_2130_P1.log\",\n",
    "# \"message_2016-6-8_2130_P200_1.log\",\n",
    "# \"message_2016-6-8_2130_P200_2.log\",\n",
    "# \"message_2016-6-8_2130_P200_3.log\",\n",
    "#   \"message_2016-6-8_XXX.log\",\n",
    "#     \"message_2016-6-11_1230_FR1000_G5.log\",\n",
    "#     \"message_2016-6-11_1230_FR20_G5.log\",\n",
    "#     \"message_2016-6-11_1230_FR1_G5.log\",\n",
    "]\n",
    "map(index_file, files)"
   ]
  },
  {
   "cell_type": "code",
   "execution_count": 5,
   "metadata": {
    "collapsed": false
   },
   "outputs": [
    {
     "data": {
      "text/plain": [
       "[None,\n",
       " None,\n",
       " None,\n",
       " None,\n",
       " None,\n",
       " None,\n",
       " None,\n",
       " None,\n",
       " None,\n",
       " None,\n",
       " None,\n",
       " None,\n",
       " None,\n",
       " None,\n",
       " None]"
      ]
     },
     "execution_count": 5,
     "metadata": {},
     "output_type": "execute_result"
    }
   ],
   "source": [
    "# Buffer, RS\n",
    "files =[\n",
    "# \"message_2016-6-11_BUF1_G5_AR1.log\",\n",
    "# \"message_2016-6-11_BUF1_G5.log\",\n",
    "# \"message_2016-6-11_BUF2_G5_AR1_b1.log\",\n",
    "# \"message_2016-6-11_BUF2_G5_AR1_b3.log\",\n",
    "# \"message_2016-6-11_BUF2_G5_AR1_b5.log\",\n",
    "# \"message_2016-6-11_BUF2_G5_AR1_b7.log\",\n",
    "# \"message_2016-6-11_BUF2_G5_AR1_b9.log\",\n",
    "# \"message_2016-6-11_BUF2_G5_AR1.log\",\n",
    "# \"message_2016-6-11_BUF2_G5_FR1000.log\",\n",
    "# \"message_2016-6-11_BUF2_G5_FR100.log\",\n",
    "# \"message_2016-6-11_BUF2_G5_FR1.log\",\n",
    "# \"message_2016-6-11_BUF2_G5.log\",\n",
    "#     \"message_2016-6-12_G5_BUF2_AR1.log\",\n",
    "#     \"message_2016-6-12_G5_BUF1_FR20.log\",\n",
    "\n",
    "#     \"message_2016-6-12_G9_BUF2_AR1.log\",\n",
    "#     \"message_2016-6-12_G9_BUF2_FR1.log\",\n",
    "#     \"message_2016-6-12_G9_BUF2_FR20.log\",\n",
    "#     \"message_2016-6-12_G9_BUF2_FR100.log\",\n",
    "    \"message_2016-6-13_G5_BUF1_AR1_1_1.log\",\n",
    "    \"message_2016-6-13_G5_BUF1_AR1_1_2.log\",\n",
    "    \"message_2016-6-13_G5_BUF1_AR1_1.log\",\n",
    "    \"message_2016-6-13_G5_BUF1_FR20_1_1.log\",\n",
    "    \"message_2016-6-13_G5_BUF1_FR20_1_2.log\",\n",
    "    \"message_2016-6-13_G5_BUF1_FR20_1.log\",\n",
    "    \"message_2016-6-13_G5_BUF1_FR20.log\",\n",
    "    \"message_2016-6-13_G5_BUF2_AR1_1_1.log\",\n",
    "    \"message_2016-6-13_G5_BUF2_AR1_1_2.log\",\n",
    "    \"message_2016-6-13_G5_BUF2_AR1_1.log\",\n",
    "    \"message_2016-6-13_G5_BUF2_AR1.log\",\n",
    "    \"message_2016-6-13_G5_BUF2_AR1_T1.log\",\n",
    "    \"message_2016-6-13_G5_BUF2_FR20_1_1.log\",\n",
    "    \"message_2016-6-13_G5_BUF2_FR20_1_2.log\",\n",
    "    \"message_2016-6-13_G5_BUF2_FR20_1.log\",\n",
    "\n",
    "]\n",
    "map(index_file, files)"
   ]
  },
  {
   "cell_type": "code",
   "execution_count": 14,
   "metadata": {
    "collapsed": false
   },
   "outputs": [
    {
     "data": {
      "text/plain": [
       "[None, None]"
      ]
     },
     "execution_count": 14,
     "metadata": {},
     "output_type": "execute_result"
    }
   ],
   "source": [
    "# Tradeoff-curves\n",
    "files =[\n",
    "# \"message_2016-6-12_G5_BUF2_AR1_b10.log\",\n",
    "# \"message_2016-6-12_G5_BUF2_AR1_b15.log\",\n",
    "# \"message_2016-6-12_G5_BUF2_AR1_b1.log\",\n",
    "# \"message_2016-6-12_G5_BUF2_AR1_b25.log\",\n",
    "# \"message_2016-6-12_G5_BUF2_AR1_b2.log\",\n",
    "# \"message_2016-6-12_G5_BUF2_AR1_b35.log\",\n",
    "# \"message_2016-6-12_G5_BUF2_AR1_b3.log\",\n",
    "# \"message_2016-6-12_G5_BUF2_AR1_b45.log\",\n",
    "# \"message_2016-6-12_G5_BUF2_AR1_b4.log\",\n",
    "# \"message_2016-6-12_G5_BUF2_AR1_b55.log\",\n",
    "# \"message_2016-6-12_G5_BUF2_AR1_b5.log\",\n",
    "# \"message_2016-6-12_G5_BUF2_AR1_b65.log\",\n",
    "# \"message_2016-6-12_G5_BUF2_AR1_b6.log\",\n",
    "# \"message_2016-6-12_G5_BUF2_AR1_b75.log\",\n",
    "# \"message_2016-6-12_G5_BUF2_AR1_b7.log\",\n",
    "# \"message_2016-6-12_G5_BUF2_AR1_b85.log\",\n",
    "# \"message_2016-6-12_G5_BUF2_AR1_b8.log\",\n",
    "# \"message_2016-6-12_G5_BUF2_AR1_b9.log\",\n",
    "]\n",
    "map(index_file, files)"
   ]
  },
  {
   "cell_type": "code",
   "execution_count": 8,
   "metadata": {
    "collapsed": false
   },
   "outputs": [
    {
     "data": {
      "text/plain": [
       "[None]"
      ]
     },
     "execution_count": 8,
     "metadata": {},
     "output_type": "execute_result"
    }
   ],
   "source": [
    "files =[\n",
    "#     \"message_2016-6-16_G5_BUF2_AR1_b5_1.log\",\n",
    "#     \"message_2016-6-16_G5_BUF2_AR1_b5_2.log\",\n",
    "#     \"message_2016-6-16_G5_BUF2_AR1_b5_3.log\",\n",
    "    \"message_2016-6-16_G5_BUF2_AR1_b5_1015_1.log\",\n",
    "]\n",
    "map(index_file, files)"
   ]
  },
  {
   "cell_type": "code",
   "execution_count": 17,
   "metadata": {
    "collapsed": false
   },
   "outputs": [
    {
     "data": {
      "text/plain": [
       "[None]"
      ]
     },
     "execution_count": 17,
     "metadata": {},
     "output_type": "execute_result"
    }
   ],
   "source": [
    "files =[\n",
    "\"message_2016-6-17_Poisson1_G5_BUF2_AR1_1.log\",\n",
    "]\n",
    "map(index_file, files)"
   ]
  }
 ],
 "metadata": {
  "kernelspec": {
   "display_name": "Python 2",
   "language": "python",
   "name": "python2"
  },
  "language_info": {
   "codemirror_mode": {
    "name": "ipython",
    "version": 2
   },
   "file_extension": ".py",
   "mimetype": "text/x-python",
   "name": "python",
   "nbconvert_exporter": "python",
   "pygments_lexer": "ipython2",
   "version": "2.7.6"
  }
 },
 "nbformat": 4,
 "nbformat_minor": 0
}
