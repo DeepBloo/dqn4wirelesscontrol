{
 "cells": [
  {
   "cell_type": "code",
   "execution_count": 1,
   "metadata": {
    "collapsed": true
   },
   "outputs": [],
   "source": [
    "import re\n",
    "import pandas as pd"
   ]
  },
  {
   "cell_type": "markdown",
   "metadata": {},
   "source": [
    "RegEx for Phi_QAgentNN"
   ]
  },
  {
   "cell_type": "code",
   "execution_count": 12,
   "metadata": {
    "collapsed": false
   },
   "outputs": [],
   "source": [
    "re_epoch_msg = re.compile(\n",
    "# epoch: uint\n",
    "# time stamp: YYYY-MM-DD HH:MM:SS\n",
    "'Epoch (?P<epoch>\\d+), (?P<start_ts>\\d{4}-\\d{2}-\\d{2} \\d{2}:\\d{2}:\\d{2}) - (?P<end_ts>\\d{4}-\\d{2}-\\d{2} \\d{2}:\\d{2}:\\d{2})\\n'\n",
    "# last reward: float or None\n",
    "'Emulation.step\\(\\): last reward: ((?P<last_reward>[-]*[\\d\\.]+)|(None))\\n'\n",
    "# Sessions: uint\n",
    "'    TrafficEmulator.generate_traffic\\(\\): located (?P<session_in>\\d+), droped (?P<session_out>\\d+), left (?P<session_net>\\d+) sessions.\\n'\n",
    "# Requests: uint\n",
    "'        TrafficEmulator.generate_requests_\\(\\): generated (?P<req_generated>\\d+) requests.\\n'\n",
    "# Observation (uint, uint, uint)\n",
    "'Emulation.step\\(\\): observation: \\((?P<ob_last_q>\\d+), (?P<ob_last_t>\\d+), (?P<ob_new_q>\\d+)\\)\\n'\n",
    "# agent update msg: 4 strings or loss (float or string) + rs (float or string)\n",
    "'((    QAgentNN.reinforce_\\(\\): (?P<agent_update_msg>'\n",
    "        '(last_state is None.)|'\n",
    "        '(last_reward is None.)|'\n",
    "        '(state is None.)|'\n",
    "        '(unfull memory.)'\n",
    "')\\n)|('\n",
    "'(    QAgentNN.reinforce_\\(\\): update counter (?P<counter_update>\\d+), freeze counter (?P<counter_freeze>\\d+), rs counter (?P<counter_rs>\\d+).\\n)'\n",
    "'(    QAgentNN.reinforce_\\(\\): update loss is (?P<loss>[a-zA-Z\\d\\.-]+), reward_scaling is (?P<reward_scaling>[a-zA-Z\\d\\.-]+)\\n)?'\n",
    "'))'\n",
    "    \n",
    "# mini-batch distribution: wake and sleep (float or string)\n",
    "'(        QAgentNN.reinforce_\\(\\): batch action distribution: (?P<batch_dist>\\{'\n",
    "                '\\(False, \\'serve_all\\'\\): (?P<batch_dist_wake>[a-zA-Z\\d\\.-]+), '\n",
    "                '\\(True, None\\): (?P<batch_dist_sleep>[a-zA-Z\\d\\.-]+)'\n",
    "    '\\})\\n)?'\n",
    "# action msg: random or policy\n",
    "#   q_values if epsilon greedy\n",
    "# policy msg\n",
    "'    QAgent.act_\\(\\): '\n",
    "    '(?P<agent_act_msg>('\n",
    "        '(randomly choose action)|'\n",
    "        '(choose best q among '\n",
    "            '(?P<q_vals>\\{\\(False, \\'serve_all\\'\\): (?P<q_wake>[a-zA-Z\\d\\.-]+), \\(True, None\\): (?P<q_sleep>[a-zA-Z\\d\\.-]+)\\}))'\n",
    "    ')'\n",
    "    ' \\((?P<agent_act_basis>[a-zA-Z ]+)\\)'\n",
    "    ').\\n'\n",
    "# agent action: (True, None) or (False, 'serve_all')\n",
    "# agent update: [ignore]\n",
    "'Emulation.step\\(\\): control: (?P<agent_action>\\([a-zA-Z,_ \\']+\\)), agent update: [a-zA-Z\\d\\.-]+\\n'\n",
    "# Service: \n",
    "#   req: served, queued, rejected (retried+canceled), unattended [uint]\n",
    "#   reward: service, wait, fail [int]\n",
    "#   buffer: pending, waiting, served, failed\n",
    "'        TrafficEmulator.evaluate_service_\\(\\): '\n",
    "            'served (?P<req_served>\\d+), queued (?P<req_queued>\\d+), '\n",
    "            'rejected (?P<req_rejected>\\d+) \\((?P<req_retried>\\d+), (?P<req_canceled>\\d+)\\), unattended (?P<req_unattended>\\d+), '\n",
    "            'reward ([-]?[\\d\\.]+) \\((?P<tr_reward_serve>[-]?[\\d\\.]+), (?P<tr_reward_wait>[-]?[\\d\\.]+), (?P<tr_reward_fail>[-]?[\\d\\.]+)\\)\\n'\n",
    "'        TrafficEmulator.evaluate_service_\\(\\): '\n",
    "            'pending (?P<req_pending_all>\\d+), waiting (?P<req_waiting_all>\\d+), '\n",
    "            'served (?P<req_served_all>\\d+), failed (?P<req_failed_all>\\d+)\\n'\n",
    "# # operation cost: float\n",
    "# # traffic reward: float\n",
    "'Emulation.step\\(\\): cost: (?P<op_cost>[-]*[\\d\\.]+), reward: (?P<tr_reward>[-]*[\\d\\.]+)'\n",
    "# # last line\n",
    "'\\n{0,1}'\n",
    ")"
   ]
  },
  {
   "cell_type": "markdown",
   "metadata": {},
   "source": [
    "RegEx for Dyna_QAgentNN"
   ]
  },
  {
   "cell_type": "code",
   "execution_count": 14,
   "metadata": {
    "collapsed": false
   },
   "outputs": [],
   "source": [
    "re_epoch_msg = re.compile(\n",
    "# epoch: uint\n",
    "# time stamp: YYYY-MM-DD HH:MM:SS\n",
    "'Epoch (?P<epoch>\\d+), (?P<start_ts>\\d{4}-\\d{2}-\\d{2} \\d{2}:\\d{2}:\\d{2}) - (?P<end_ts>\\d{4}-\\d{2}-\\d{2} \\d{2}:\\d{2}:\\d{2})\\n'\n",
    "# last reward: float or None\n",
    "'Emulation.step\\(\\): last reward: ((?P<last_reward>[-]*[\\d\\.]+)|(None))\\n'\n",
    "# Sessions: uint\n",
    "'    TrafficEmulator.generate_traffic\\(\\): located (?P<session_in>\\d+), droped (?P<session_out>\\d+), left (?P<session_net>\\d+) sessions.\\n'\n",
    "# Requests: uint\n",
    "'        TrafficEmulator.generate_requests_\\(\\): generated (?P<req_generated>\\d+) requests.\\n'\n",
    "# Observation (uint, uint, uint)\n",
    "'Emulation.step\\(\\): observation: \\((?P<ob_last_q>\\d+), (?P<ob_last_t>\\d+), (?P<ob_new_q>\\d+)\\)\\n'\n",
    "# agent update msg: 4 strings or loss (float or string) + rs (float or string)\n",
    "'((    QAgentNN.reinforce_\\(\\): (?P<agent_update_msg>'\n",
    "        '(last_state is None.)|'\n",
    "        '(last_reward is None.)|'\n",
    "        '(state is None.)|'\n",
    "        '(unfull memory.)'\n",
    "')\\n)|('\n",
    "'(    QAgentNN.reinforce_\\(\\): update counter (?P<counter_update>\\d+), freeze counter (?P<counter_freeze>\\d+), rs counter (?P<counter_rs>\\d+).\\n)'\n",
    "'(    QAgentNN.reinforce_\\(\\): update loss is (?P<loss>[a-zA-Z\\d\\.-]+), reward_scaling is (?P<reward_scaling>[a-zA-Z\\d\\.-]+)\\n)?'\n",
    "'))'\n",
    "# mini-batch distribution: wake and sleep (float or string)\n",
    "'(        QAgentNN.reinforce_\\(\\): batch action distribution: (?P<batch_dist>\\{'\n",
    "                '\\(False, \\'serve_all\\'\\): (?P<batch_dist_wake>[a-zA-Z\\d\\.-]+), '\n",
    "                '\\(True, None\\): (?P<batch_dist_sleep>[a-zA-Z\\d\\.-]+)'\n",
    "    '\\})\\n)?'\n",
    "# action msg: random or policy\n",
    "#   q_values if epsilon greedy\n",
    "# policy msg\n",
    "'    QAgent.act_\\(\\): '\n",
    "    '(?P<agent_act_msg>('\n",
    "        '(randomly choose action)|'\n",
    "        '(choose best q among '\n",
    "            '(?P<q_vals>\\{\\(False, \\'serve_all\\'\\): (?P<q_wake>[a-zA-Z\\d\\.-]+), \\(True, None\\): (?P<q_sleep>[a-zA-Z\\d\\.-]+)\\}))'\n",
    "    ')'\n",
    "    ' \\((?P<agent_act_basis>[a-zA-Z ]+)\\)'\n",
    "    ').\\n'\n",
    "# agent action: (True, None) or (False, 'serve_all')\n",
    "# agent update: [ignore]\n",
    "'Emulation.step\\(\\): control: (?P<agent_action>\\([a-zA-Z,_ \\']+\\)), agent update: [a-zA-Z\\d\\.-]+\\n'\n",
    "# Service: \n",
    "#   req: served, queued, rejected (retried+canceled), unattended [uint]\n",
    "#   reward: service, wait, fail [int]\n",
    "#   buffer: pending, waiting, served, failed\n",
    "'        TrafficEmulator.evaluate_service_\\(\\): '\n",
    "            'served (?P<req_served>\\d+), queued (?P<req_queued>\\d+), '\n",
    "            'rejected (?P<req_rejected>\\d+) \\((?P<req_retried>\\d+), (?P<req_canceled>\\d+)\\), unattended (?P<req_unattended>\\d+), '\n",
    "            'reward ([-]?[\\d\\.]+) \\((?P<tr_reward_serve>[-]?[\\d\\.]+), (?P<tr_reward_wait>[-]?[\\d\\.]+), (?P<tr_reward_fail>[-]?[\\d\\.]+)\\)\\n'\n",
    "'        TrafficEmulator.evaluate_service_\\(\\): '\n",
    "            'pending (?P<req_pending_all>\\d+), waiting (?P<req_waiting_all>\\d+), '\n",
    "            'served (?P<req_served_all>\\d+), failed (?P<req_failed_all>\\d+)\\n'\n",
    "# # operation cost: float\n",
    "# # traffic reward: float\n",
    "'Emulation.step\\(\\): cost: (?P<op_cost>[-]*[\\d\\.]+), reward: (?P<tr_reward>[-]*[\\d\\.]+)'\n",
    "# # last line\n",
    "'\\n{0,1}'\n",
    ")"
   ]
  },
  {
   "cell_type": "code",
   "execution_count": 5,
   "metadata": {
    "collapsed": false
   },
   "outputs": [],
   "source": [
    "f_log = open('./log/'+\"msg_2016-1-1_test.log\", \"r\")\n",
    "all_log = \"\".join(f_log.readlines()).split('\\n\\n')"
   ]
  },
  {
   "cell_type": "code",
   "execution_count": 11,
   "metadata": {
    "collapsed": false
   },
   "outputs": [
    {
     "name": "stdout",
     "output_type": "stream",
     "text": [
      "Epoch 426, 2014-10-15 09:40:42 - 2014-10-15 09:40:44\n",
      "Emulation.step(): last reward: -5.5\n",
      "    TrafficEmulator.generate_traffic(): located 1, droped 1, left 64 sessions.\n",
      "        TrafficEmulator.generate_requests_(): generated 10 requests.\n",
      "Emulation.step(): observation: (0, 11, 11)\n",
      "    QAgentNN.reinforce_(): update counter 3, freeze counter 15, rs counter 31.\n",
      "    QAgent.act_(): choose best q among {(False, 'serve_all'): 0.4562395215034485, (True, None): -0.5381913781166077} (Epsilon).\n",
      "Emulation.step(): control: (False, 'serve_all'), agent update: None\n",
      "        TrafficEmulator.evaluate_service_(): served 21, queued 0, rejected 0 (0, 0), unattended 0, reward 21.0 (21.0, 0.0, 0.0)\n",
      "        TrafficEmulator.evaluate_service_(): pending 1658, waiting 0, served 1344, failed 0\n",
      "Emulation.step(): cost: -5.0, reward: 21.0\n"
     ]
    }
   ],
   "source": [
    "print all_log[426]"
   ]
  },
  {
   "cell_type": "code",
   "execution_count": 171,
   "metadata": {
    "collapsed": false
   },
   "outputs": [],
   "source": [
    "def index_file(file):\n",
    "    with open('./log/'+file, \"r\") as f_log:\n",
    "        all_log = \"\".join(f_log.readlines()).split('\\n\\n')\n",
    "        extract = [re_epoch_msg.search(piece) for piece in all_log]\n",
    "        df = pd.DataFrame.from_dict([piece.groupdict() for piece in extract if piece is not None])\n",
    "        df.set_index('epoch')\n",
    "        df.index.name = 'epoch'\n",
    "    with open(\"./log/index_\"+file+\".csv\", \"w\") as f_ind:\n",
    "        df.to_csv(f_ind, sep=';', index=True, header=True)\n",
    "    return df.shape"
   ]
  },
  {
   "cell_type": "code",
   "execution_count": 172,
   "metadata": {
    "collapsed": false
   },
   "outputs": [
    {
     "ename": "KeyError",
     "evalue": "'epoch'",
     "output_type": "error",
     "traceback": [
      "\u001b[1;31m---------------------------------------------------------------------------\u001b[0m",
      "\u001b[1;31mKeyError\u001b[0m                                  Traceback (most recent call last)",
      "\u001b[1;32m<ipython-input-172-16d86f4172e8>\u001b[0m in \u001b[0;36m<module>\u001b[1;34m()\u001b[0m\n\u001b[0;32m      2\u001b[0m \u001b[1;34m\"msg_2016-1-12_test.log\"\u001b[0m\u001b[1;33m,\u001b[0m\u001b[1;33m\u001b[0m\u001b[0m\n\u001b[0;32m      3\u001b[0m ]\n\u001b[1;32m----> 4\u001b[1;33m \u001b[0mmap\u001b[0m\u001b[1;33m(\u001b[0m\u001b[0mindex_file\u001b[0m\u001b[1;33m,\u001b[0m \u001b[0mfiles\u001b[0m\u001b[1;33m)\u001b[0m\u001b[1;33m\u001b[0m\u001b[0m\n\u001b[0m",
      "\u001b[1;32m<ipython-input-171-671e8d635c09>\u001b[0m in \u001b[0;36mindex_file\u001b[1;34m(file)\u001b[0m\n\u001b[0;32m      4\u001b[0m         \u001b[0mextract\u001b[0m \u001b[1;33m=\u001b[0m \u001b[1;33m[\u001b[0m\u001b[0mre_epoch_msg\u001b[0m\u001b[1;33m.\u001b[0m\u001b[0msearch\u001b[0m\u001b[1;33m(\u001b[0m\u001b[0mpiece\u001b[0m\u001b[1;33m)\u001b[0m \u001b[1;32mfor\u001b[0m \u001b[0mpiece\u001b[0m \u001b[1;32min\u001b[0m \u001b[0mall_log\u001b[0m\u001b[1;33m]\u001b[0m\u001b[1;33m\u001b[0m\u001b[0m\n\u001b[0;32m      5\u001b[0m         \u001b[0mdf\u001b[0m \u001b[1;33m=\u001b[0m \u001b[0mpd\u001b[0m\u001b[1;33m.\u001b[0m\u001b[0mDataFrame\u001b[0m\u001b[1;33m.\u001b[0m\u001b[0mfrom_dict\u001b[0m\u001b[1;33m(\u001b[0m\u001b[1;33m[\u001b[0m\u001b[0mpiece\u001b[0m\u001b[1;33m.\u001b[0m\u001b[0mgroupdict\u001b[0m\u001b[1;33m(\u001b[0m\u001b[1;33m)\u001b[0m \u001b[1;32mfor\u001b[0m \u001b[0mpiece\u001b[0m \u001b[1;32min\u001b[0m \u001b[0mextract\u001b[0m \u001b[1;32mif\u001b[0m \u001b[0mpiece\u001b[0m \u001b[1;32mis\u001b[0m \u001b[1;32mnot\u001b[0m \u001b[0mNone\u001b[0m\u001b[1;33m]\u001b[0m\u001b[1;33m)\u001b[0m\u001b[1;33m\u001b[0m\u001b[0m\n\u001b[1;32m----> 6\u001b[1;33m         \u001b[0mdf\u001b[0m\u001b[1;33m.\u001b[0m\u001b[0mset_index\u001b[0m\u001b[1;33m(\u001b[0m\u001b[1;34m'epoch'\u001b[0m\u001b[1;33m)\u001b[0m\u001b[1;33m\u001b[0m\u001b[0m\n\u001b[0m\u001b[0;32m      7\u001b[0m         \u001b[0mdf\u001b[0m\u001b[1;33m.\u001b[0m\u001b[0mindex\u001b[0m\u001b[1;33m.\u001b[0m\u001b[0mname\u001b[0m \u001b[1;33m=\u001b[0m \u001b[1;34m'epoch'\u001b[0m\u001b[1;33m\u001b[0m\u001b[0m\n\u001b[0;32m      8\u001b[0m     \u001b[1;32mwith\u001b[0m \u001b[0mopen\u001b[0m\u001b[1;33m(\u001b[0m\u001b[1;34m\"./log/index_\"\u001b[0m\u001b[1;33m+\u001b[0m\u001b[0mfile\u001b[0m\u001b[1;33m+\u001b[0m\u001b[1;34m\".csv\"\u001b[0m\u001b[1;33m,\u001b[0m \u001b[1;34m\"w\"\u001b[0m\u001b[1;33m)\u001b[0m \u001b[1;32mas\u001b[0m \u001b[0mf_ind\u001b[0m\u001b[1;33m:\u001b[0m\u001b[1;33m\u001b[0m\u001b[0m\n",
      "\u001b[1;32m/usr/local/lib/python2.7/dist-packages/pandas/core/frame.pyc\u001b[0m in \u001b[0;36mset_index\u001b[1;34m(self, keys, drop, append, inplace, verify_integrity)\u001b[0m\n\u001b[0;32m   2778\u001b[0m                 \u001b[0mnames\u001b[0m\u001b[1;33m.\u001b[0m\u001b[0mappend\u001b[0m\u001b[1;33m(\u001b[0m\u001b[0mNone\u001b[0m\u001b[1;33m)\u001b[0m\u001b[1;33m\u001b[0m\u001b[0m\n\u001b[0;32m   2779\u001b[0m             \u001b[1;32melse\u001b[0m\u001b[1;33m:\u001b[0m\u001b[1;33m\u001b[0m\u001b[0m\n\u001b[1;32m-> 2780\u001b[1;33m                 \u001b[0mlevel\u001b[0m \u001b[1;33m=\u001b[0m \u001b[0mframe\u001b[0m\u001b[1;33m[\u001b[0m\u001b[0mcol\u001b[0m\u001b[1;33m]\u001b[0m\u001b[1;33m.\u001b[0m\u001b[0m_values\u001b[0m\u001b[1;33m\u001b[0m\u001b[0m\n\u001b[0m\u001b[0;32m   2781\u001b[0m                 \u001b[0mnames\u001b[0m\u001b[1;33m.\u001b[0m\u001b[0mappend\u001b[0m\u001b[1;33m(\u001b[0m\u001b[0mcol\u001b[0m\u001b[1;33m)\u001b[0m\u001b[1;33m\u001b[0m\u001b[0m\n\u001b[0;32m   2782\u001b[0m                 \u001b[1;32mif\u001b[0m \u001b[0mdrop\u001b[0m\u001b[1;33m:\u001b[0m\u001b[1;33m\u001b[0m\u001b[0m\n",
      "\u001b[1;32m/usr/local/lib/python2.7/dist-packages/pandas/core/frame.pyc\u001b[0m in \u001b[0;36m__getitem__\u001b[1;34m(self, key)\u001b[0m\n\u001b[0;32m   1967\u001b[0m             \u001b[1;32mreturn\u001b[0m \u001b[0mself\u001b[0m\u001b[1;33m.\u001b[0m\u001b[0m_getitem_multilevel\u001b[0m\u001b[1;33m(\u001b[0m\u001b[0mkey\u001b[0m\u001b[1;33m)\u001b[0m\u001b[1;33m\u001b[0m\u001b[0m\n\u001b[0;32m   1968\u001b[0m         \u001b[1;32melse\u001b[0m\u001b[1;33m:\u001b[0m\u001b[1;33m\u001b[0m\u001b[0m\n\u001b[1;32m-> 1969\u001b[1;33m             \u001b[1;32mreturn\u001b[0m \u001b[0mself\u001b[0m\u001b[1;33m.\u001b[0m\u001b[0m_getitem_column\u001b[0m\u001b[1;33m(\u001b[0m\u001b[0mkey\u001b[0m\u001b[1;33m)\u001b[0m\u001b[1;33m\u001b[0m\u001b[0m\n\u001b[0m\u001b[0;32m   1970\u001b[0m \u001b[1;33m\u001b[0m\u001b[0m\n\u001b[0;32m   1971\u001b[0m     \u001b[1;32mdef\u001b[0m \u001b[0m_getitem_column\u001b[0m\u001b[1;33m(\u001b[0m\u001b[0mself\u001b[0m\u001b[1;33m,\u001b[0m \u001b[0mkey\u001b[0m\u001b[1;33m)\u001b[0m\u001b[1;33m:\u001b[0m\u001b[1;33m\u001b[0m\u001b[0m\n",
      "\u001b[1;32m/usr/local/lib/python2.7/dist-packages/pandas/core/frame.pyc\u001b[0m in \u001b[0;36m_getitem_column\u001b[1;34m(self, key)\u001b[0m\n\u001b[0;32m   1974\u001b[0m         \u001b[1;31m# get column\u001b[0m\u001b[1;33m\u001b[0m\u001b[1;33m\u001b[0m\u001b[0m\n\u001b[0;32m   1975\u001b[0m         \u001b[1;32mif\u001b[0m \u001b[0mself\u001b[0m\u001b[1;33m.\u001b[0m\u001b[0mcolumns\u001b[0m\u001b[1;33m.\u001b[0m\u001b[0mis_unique\u001b[0m\u001b[1;33m:\u001b[0m\u001b[1;33m\u001b[0m\u001b[0m\n\u001b[1;32m-> 1976\u001b[1;33m             \u001b[1;32mreturn\u001b[0m \u001b[0mself\u001b[0m\u001b[1;33m.\u001b[0m\u001b[0m_get_item_cache\u001b[0m\u001b[1;33m(\u001b[0m\u001b[0mkey\u001b[0m\u001b[1;33m)\u001b[0m\u001b[1;33m\u001b[0m\u001b[0m\n\u001b[0m\u001b[0;32m   1977\u001b[0m \u001b[1;33m\u001b[0m\u001b[0m\n\u001b[0;32m   1978\u001b[0m         \u001b[1;31m# duplicate columns & possible reduce dimensionality\u001b[0m\u001b[1;33m\u001b[0m\u001b[1;33m\u001b[0m\u001b[0m\n",
      "\u001b[1;32m/usr/local/lib/python2.7/dist-packages/pandas/core/generic.pyc\u001b[0m in \u001b[0;36m_get_item_cache\u001b[1;34m(self, item)\u001b[0m\n\u001b[0;32m   1089\u001b[0m         \u001b[0mres\u001b[0m \u001b[1;33m=\u001b[0m \u001b[0mcache\u001b[0m\u001b[1;33m.\u001b[0m\u001b[0mget\u001b[0m\u001b[1;33m(\u001b[0m\u001b[0mitem\u001b[0m\u001b[1;33m)\u001b[0m\u001b[1;33m\u001b[0m\u001b[0m\n\u001b[0;32m   1090\u001b[0m         \u001b[1;32mif\u001b[0m \u001b[0mres\u001b[0m \u001b[1;32mis\u001b[0m \u001b[0mNone\u001b[0m\u001b[1;33m:\u001b[0m\u001b[1;33m\u001b[0m\u001b[0m\n\u001b[1;32m-> 1091\u001b[1;33m             \u001b[0mvalues\u001b[0m \u001b[1;33m=\u001b[0m \u001b[0mself\u001b[0m\u001b[1;33m.\u001b[0m\u001b[0m_data\u001b[0m\u001b[1;33m.\u001b[0m\u001b[0mget\u001b[0m\u001b[1;33m(\u001b[0m\u001b[0mitem\u001b[0m\u001b[1;33m)\u001b[0m\u001b[1;33m\u001b[0m\u001b[0m\n\u001b[0m\u001b[0;32m   1092\u001b[0m             \u001b[0mres\u001b[0m \u001b[1;33m=\u001b[0m \u001b[0mself\u001b[0m\u001b[1;33m.\u001b[0m\u001b[0m_box_item_values\u001b[0m\u001b[1;33m(\u001b[0m\u001b[0mitem\u001b[0m\u001b[1;33m,\u001b[0m \u001b[0mvalues\u001b[0m\u001b[1;33m)\u001b[0m\u001b[1;33m\u001b[0m\u001b[0m\n\u001b[0;32m   1093\u001b[0m             \u001b[0mcache\u001b[0m\u001b[1;33m[\u001b[0m\u001b[0mitem\u001b[0m\u001b[1;33m]\u001b[0m \u001b[1;33m=\u001b[0m \u001b[0mres\u001b[0m\u001b[1;33m\u001b[0m\u001b[0m\n",
      "\u001b[1;32m/usr/local/lib/python2.7/dist-packages/pandas/core/internals.pyc\u001b[0m in \u001b[0;36mget\u001b[1;34m(self, item, fastpath)\u001b[0m\n\u001b[0;32m   3209\u001b[0m \u001b[1;33m\u001b[0m\u001b[0m\n\u001b[0;32m   3210\u001b[0m             \u001b[1;32mif\u001b[0m \u001b[1;32mnot\u001b[0m \u001b[0misnull\u001b[0m\u001b[1;33m(\u001b[0m\u001b[0mitem\u001b[0m\u001b[1;33m)\u001b[0m\u001b[1;33m:\u001b[0m\u001b[1;33m\u001b[0m\u001b[0m\n\u001b[1;32m-> 3211\u001b[1;33m                 \u001b[0mloc\u001b[0m \u001b[1;33m=\u001b[0m \u001b[0mself\u001b[0m\u001b[1;33m.\u001b[0m\u001b[0mitems\u001b[0m\u001b[1;33m.\u001b[0m\u001b[0mget_loc\u001b[0m\u001b[1;33m(\u001b[0m\u001b[0mitem\u001b[0m\u001b[1;33m)\u001b[0m\u001b[1;33m\u001b[0m\u001b[0m\n\u001b[0m\u001b[0;32m   3212\u001b[0m             \u001b[1;32melse\u001b[0m\u001b[1;33m:\u001b[0m\u001b[1;33m\u001b[0m\u001b[0m\n\u001b[0;32m   3213\u001b[0m                 \u001b[0mindexer\u001b[0m \u001b[1;33m=\u001b[0m \u001b[0mnp\u001b[0m\u001b[1;33m.\u001b[0m\u001b[0marange\u001b[0m\u001b[1;33m(\u001b[0m\u001b[0mlen\u001b[0m\u001b[1;33m(\u001b[0m\u001b[0mself\u001b[0m\u001b[1;33m.\u001b[0m\u001b[0mitems\u001b[0m\u001b[1;33m)\u001b[0m\u001b[1;33m)\u001b[0m\u001b[1;33m[\u001b[0m\u001b[0misnull\u001b[0m\u001b[1;33m(\u001b[0m\u001b[0mself\u001b[0m\u001b[1;33m.\u001b[0m\u001b[0mitems\u001b[0m\u001b[1;33m)\u001b[0m\u001b[1;33m]\u001b[0m\u001b[1;33m\u001b[0m\u001b[0m\n",
      "\u001b[1;32m/usr/local/lib/python2.7/dist-packages/pandas/core/index.pyc\u001b[0m in \u001b[0;36mget_loc\u001b[1;34m(self, key, method, tolerance)\u001b[0m\n\u001b[0;32m   1757\u001b[0m                                  'backfill or nearest lookups')\n\u001b[0;32m   1758\u001b[0m             \u001b[0mkey\u001b[0m \u001b[1;33m=\u001b[0m \u001b[0m_values_from_object\u001b[0m\u001b[1;33m(\u001b[0m\u001b[0mkey\u001b[0m\u001b[1;33m)\u001b[0m\u001b[1;33m\u001b[0m\u001b[0m\n\u001b[1;32m-> 1759\u001b[1;33m             \u001b[1;32mreturn\u001b[0m \u001b[0mself\u001b[0m\u001b[1;33m.\u001b[0m\u001b[0m_engine\u001b[0m\u001b[1;33m.\u001b[0m\u001b[0mget_loc\u001b[0m\u001b[1;33m(\u001b[0m\u001b[0mkey\u001b[0m\u001b[1;33m)\u001b[0m\u001b[1;33m\u001b[0m\u001b[0m\n\u001b[0m\u001b[0;32m   1760\u001b[0m \u001b[1;33m\u001b[0m\u001b[0m\n\u001b[0;32m   1761\u001b[0m         indexer = self.get_indexer([key], method=method,\n",
      "\u001b[1;32mpandas/index.pyx\u001b[0m in \u001b[0;36mpandas.index.IndexEngine.get_loc (pandas/index.c:3979)\u001b[1;34m()\u001b[0m\n",
      "\u001b[1;32mpandas/index.pyx\u001b[0m in \u001b[0;36mpandas.index.IndexEngine.get_loc (pandas/index.c:3843)\u001b[1;34m()\u001b[0m\n",
      "\u001b[1;32mpandas/hashtable.pyx\u001b[0m in \u001b[0;36mpandas.hashtable.PyObjectHashTable.get_item (pandas/hashtable.c:12265)\u001b[1;34m()\u001b[0m\n",
      "\u001b[1;32mpandas/hashtable.pyx\u001b[0m in \u001b[0;36mpandas.hashtable.PyObjectHashTable.get_item (pandas/hashtable.c:12216)\u001b[1;34m()\u001b[0m\n",
      "\u001b[1;31mKeyError\u001b[0m: 'epoch'"
     ]
    }
   ],
   "source": [
    "files =[\n",
    "\"msg_2016-1-12_test.log\",\n",
    "]\n",
    "map(index_file, files)"
   ]
  }
 ],
 "metadata": {
  "kernelspec": {
   "display_name": "Python 2",
   "language": "python",
   "name": "python2"
  },
  "language_info": {
   "codemirror_mode": {
    "name": "ipython",
    "version": 2
   },
   "file_extension": ".py",
   "mimetype": "text/x-python",
   "name": "python",
   "nbconvert_exporter": "python",
   "pygments_lexer": "ipython2",
   "version": "2.7.6"
  }
 },
 "nbformat": 4,
 "nbformat_minor": 0
}
