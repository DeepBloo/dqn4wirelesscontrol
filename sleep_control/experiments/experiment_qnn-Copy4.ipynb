{
 "cells": [
  {
   "cell_type": "code",
   "execution_count": 1,
   "metadata": {
    "collapsed": false
   },
   "outputs": [
    {
     "name": "stderr",
     "output_type": "stream",
     "text": [
      "Using gpu device 0: GeForce GTX TITAN X (CNMeM is disabled, CuDNN 4007)\n",
      "/usr/local/lib/python2.7/dist-packages/theano/tensor/signal/downsample.py:5: UserWarning: downsample module has been moved to the pool module.\n",
      "  warnings.warn(\"downsample module has been moved to the pool module.\")\n"
     ]
    },
    {
     "name": "stdout",
     "output_type": "stream",
     "text": [
      "/home/admin-326/Data/ipython-notebook/dqn4wirelesscontrol\n"
     ]
    }
   ],
   "source": [
    "%cd ~/ipython-notebook/dqn4wirelesscontrol/\n",
    "import sys\n",
    "import time\n",
    "import pandas as pd\n",
    "import lasagne\n",
    "pd.set_option('mode.chained_assignment', None)  # block warnings due to DataFrame value assignment\n",
    "# Project modules\n",
    "from sleep_control.integration import Emulation\n",
    "import sleep_control.traffic_emulator\n",
    "import sleep_control.traffic_server\n",
    "from sleep_control.controller import QController, DummyController\n",
    "import qlearning.qtable\n",
    "import qlearning.qnn\n",
    "from qlearning.qtable import QAgent\n",
    "from qlearning.qnn import QAgentNN\n",
    "from qlearning.mixin import PhiMixin\n",
    "std_out = sys.stdout\n",
    "class QAgentNNPhi(PhiMixin, QAgentNN):\n",
    "    def __init__(self, **kwargs):\n",
    "        super(QAgentNNPhi, self).__init__(**kwargs)"
   ]
  },
  {
   "cell_type": "code",
   "execution_count": 2,
   "metadata": {
    "collapsed": true
   },
   "outputs": [],
   "source": [
    "sys_stdout = std_out"
   ]
  },
  {
   "cell_type": "markdown",
   "metadata": {},
   "source": [
    "# Setting-up data"
   ]
  },
  {
   "cell_type": "code",
   "execution_count": 3,
   "metadata": {
    "collapsed": false
   },
   "outputs": [
    {
     "name": "stderr",
     "output_type": "stream",
     "text": [
      "/usr/local/lib/python2.7/dist-packages/ipykernel/__main__.py:10: FutureWarning: sort(columns=....) is deprecated, use sort_values(by=.....)\n"
     ]
    }
   ],
   "source": [
    "session_df = pd.read_csv(filepath_or_buffer='./sleep_control/data/net_traffic_nonull.dat', \n",
    "                         sep=',', \n",
    "                         names=['uid','location','startTime_unix','duration_ms','domainProviders','domainTypes','domains','bytesByDomain','requestsByDomain'])\n",
    "session_df.index.name = 'sessionID'\n",
    "session_df['endTime_unix'] = session_df['startTime_unix'] + session_df['duration_ms']\n",
    "session_df['startTime_datetime'] = pd.to_datetime(session_df['startTime_unix'], unit='ms')  # convert start time to readible date_time strings\n",
    "session_df['endTime_datetime'] = pd.to_datetime(session_df['endTime_unix'], unit='ms')\n",
    "session_df['totalBytes'] = session_df['bytesByDomain'].apply(lambda x: x.split(';')).map(lambda x: sum(map(float, x)))  # sum bytes across domains\n",
    "session_df['totalRequests'] = session_df['requestsByDomain'].apply(lambda x: x.split(';')).map(lambda x: sum(map(float, x)))  # sum requests across domains\n",
    "session_df.sort(['startTime_datetime'], ascending=True, inplace=True)  # get it sorted\n",
    "session_df['interArrivalDuration_datetime'] = session_df.groupby('location')['startTime_datetime'].diff()  # group-wise diff\n",
    "session_df['interArrivalDuration_ms'] = session_df.groupby('location')['startTime_unix'].diff()  # group-wise diff\n",
    "session_df = session_df[session_df['location']=='第三食堂']"
   ]
  },
  {
   "cell_type": "markdown",
   "metadata": {},
   "source": [
    "---"
   ]
  },
  {
   "cell_type": "code",
   "execution_count": 7,
   "metadata": {
    "collapsed": false
   },
   "outputs": [],
   "source": [
    "#1 BUF1 Start=2014-09-25 09:20:31.474000, test if a single buffer will stuck\n",
    "gamma, alpha = 0.9, 0.9\n",
    "explore_strategy, epsilon = 'epsilon', 0.02\n",
    "reward_scaling, reward_scaling_update, rs_period = 1, 'adaptive', 32\n",
    "phi_length = 5\n",
    "range_state_slice = [(0, 10), (0, 10), (0, 10), (0, 1), (0, 1)]\n",
    "momentum, learning_rate, update_period = 0.9, 0.01, 16\n",
    "num_buffer, memory_size, batch_size, freeze_period  = 1, 200, 100, 4\n",
    "log_file = \"sleep_control/experiments/log/message_2016-6-9_1315_BUF1_G9.log\"\n",
    "time_step, n_days = pd.Timedelta(seconds=2), 7\n",
    "TOTAL_EPOCHS = 3600*24*n_days/2\n",
    "backoff = num_buffer*memory_size+phi_length\n",
    "head_datetime = pd.to_datetime(\"2014-09-25 09:20:31.474000\") # - time_step*backoff"
   ]
  },
  {
   "cell_type": "code",
   "execution_count": 8,
   "metadata": {
    "collapsed": false
   },
   "outputs": [
    {
     "name": "stdout",
     "output_type": "stream",
     "text": [
      "New TrafficEmulator with parameters:\n",
      "  head=2014-09-25 09:20:31.474000\n",
      "  tail=2014-10-30 09:20:31.474000\n",
      "  time_step=0 days 00:00:02\n",
      "  epoch=0\n",
      "  verbose=2\n"
     ]
    },
    {
     "data": {
      "text/plain": [
       "3635.799090862274"
      ]
     },
     "execution_count": 8,
     "metadata": {},
     "output_type": "execute_result"
    }
   ],
   "source": [
    "log_file = open(log_file,\"w\")\n",
    "dim_state = (1, phi_length, 3+2)\n",
    "actions = [(True, None), (False, 'serve_all')]\n",
    "tail_datetime = head_datetime + pd.Timedelta(days=1)*n_days*5\n",
    "te = sleep_control.traffic_emulator.TrafficEmulator(session_df=session_df, \n",
    "                                                    head_datetime=head_datetime, tail_datetime=tail_datetime, \n",
    "                                                    time_step=time_step, verbose=2)\n",
    "ts = sleep_control.traffic_server.TrafficServer(cost=5, verbose=2)\n",
    "agent = QAgentNNPhi(phi_length=phi_length, dim_state=dim_state, range_state=[[range_state_slice]*phi_length], actions=actions,\n",
    "        alpha=alpha, learning_rate=learning_rate, momentum=momentum, update_period=update_period,\n",
    "        reward_scaling=reward_scaling, reward_scaling_update=reward_scaling_update,\n",
    "        memory_size=memory_size, num_buffer=num_buffer, freeze_period=freeze_period, batch_size=batch_size,\n",
    "        gamma=gamma, explore_strategy=explore_strategy, epsilon=epsilon,\n",
    "        verbose=2)\n",
    "c = QController(agent=agent)\n",
    "emu = sleep_control.integration.Emulation(te=te, ts=ts, c=c)\n",
    "t = time.time()\n",
    "sys.stdout = log_file\n",
    "while emu.epoch is not None and emu.epoch<TOTAL_EPOCHS:\n",
    "    # log time\n",
    "    print \"Epoch {}, \".format(emu.epoch),\n",
    "    left = emu.te.head_datetime + emu.te.epoch*emu.te.time_step\n",
    "    right = left + emu.te.time_step\n",
    "    print \"{} - {}\".format(left.strftime(\"%Y-%m-%d %H:%M:%S\"), right.strftime(\"%Y-%m-%d %H:%M:%S\"))\n",
    "    emu.step()\n",
    "    print\n",
    "sys.stdout = std_out\n",
    "log_file.close()\n",
    "time.time()-t"
   ]
  },
  {
   "cell_type": "markdown",
   "metadata": {},
   "source": [
    "---"
   ]
  },
  {
   "cell_type": "code",
   "execution_count": 4,
   "metadata": {
    "collapsed": false
   },
   "outputs": [],
   "source": [
    "#2 Fixed RS tests\n",
    "gamma, alpha = 0.5, 0.9\n",
    "explore_strategy, epsilon = 'epsilon', 0.02\n",
    "reward_scaling, reward_scaling_update, rs_period = 1000, 'fixed', 32\n",
    "phi_length = 5\n",
    "range_state_slice = [(0, 10), (0, 10), (0, 10), (0, 1), (0, 1)]\n",
    "momentum, learning_rate, update_period = 0.9, 0.01, 16\n",
    "num_buffer, memory_size, batch_size, freeze_period  = 2, 200, 100, 4\n",
    "log_file = \"sleep_control/experiments/log/message_2016-6-11_1230_FR1000_G5.log\"\n",
    "time_step, n_days = pd.Timedelta(seconds=2), 7\n",
    "TOTAL_EPOCHS = 3600*24*n_days/2\n",
    "backoff = num_buffer*memory_size+phi_length\n",
    "head_datetime = pd.to_datetime(\"2014-09-25 09:20:31.474000\") # - time_step*backoff"
   ]
  },
  {
   "cell_type": "code",
   "execution_count": 6,
   "metadata": {
    "collapsed": false
   },
   "outputs": [
    {
     "ename": "TypeError",
     "evalue": "coercing to Unicode: need string or buffer, file found",
     "output_type": "error",
     "traceback": [
      "\u001b[1;31m---------------------------------------------------------------------------\u001b[0m",
      "\u001b[1;31mTypeError\u001b[0m                                 Traceback (most recent call last)",
      "\u001b[1;32m<ipython-input-6-e8e9fba2cd8b>\u001b[0m in \u001b[0;36m<module>\u001b[1;34m()\u001b[0m\n\u001b[1;32m----> 1\u001b[1;33m \u001b[0mlog_file\u001b[0m \u001b[1;33m=\u001b[0m \u001b[0mopen\u001b[0m\u001b[1;33m(\u001b[0m\u001b[0mlog_file\u001b[0m\u001b[1;33m,\u001b[0m\u001b[1;34m\"w\"\u001b[0m\u001b[1;33m)\u001b[0m\u001b[1;33m\u001b[0m\u001b[0m\n\u001b[0m\u001b[0;32m      2\u001b[0m \u001b[0mdim_state\u001b[0m \u001b[1;33m=\u001b[0m \u001b[1;33m(\u001b[0m\u001b[1;36m1\u001b[0m\u001b[1;33m,\u001b[0m \u001b[0mphi_length\u001b[0m\u001b[1;33m,\u001b[0m \u001b[1;36m3\u001b[0m\u001b[1;33m+\u001b[0m\u001b[1;36m2\u001b[0m\u001b[1;33m)\u001b[0m\u001b[1;33m\u001b[0m\u001b[0m\n\u001b[0;32m      3\u001b[0m \u001b[0mactions\u001b[0m \u001b[1;33m=\u001b[0m \u001b[1;33m[\u001b[0m\u001b[1;33m(\u001b[0m\u001b[0mTrue\u001b[0m\u001b[1;33m,\u001b[0m \u001b[0mNone\u001b[0m\u001b[1;33m)\u001b[0m\u001b[1;33m,\u001b[0m \u001b[1;33m(\u001b[0m\u001b[0mFalse\u001b[0m\u001b[1;33m,\u001b[0m \u001b[1;34m'serve_all'\u001b[0m\u001b[1;33m)\u001b[0m\u001b[1;33m]\u001b[0m\u001b[1;33m\u001b[0m\u001b[0m\n\u001b[0;32m      4\u001b[0m \u001b[0mtail_datetime\u001b[0m \u001b[1;33m=\u001b[0m \u001b[0mhead_datetime\u001b[0m \u001b[1;33m+\u001b[0m \u001b[0mpd\u001b[0m\u001b[1;33m.\u001b[0m\u001b[0mTimedelta\u001b[0m\u001b[1;33m(\u001b[0m\u001b[0mdays\u001b[0m\u001b[1;33m=\u001b[0m\u001b[1;36m1\u001b[0m\u001b[1;33m)\u001b[0m\u001b[1;33m*\u001b[0m\u001b[0mn_days\u001b[0m\u001b[1;33m*\u001b[0m\u001b[1;36m5\u001b[0m\u001b[1;33m\u001b[0m\u001b[0m\n\u001b[0;32m      5\u001b[0m te = sleep_control.traffic_emulator.TrafficEmulator(session_df=session_df, \n",
      "\u001b[1;31mTypeError\u001b[0m: coercing to Unicode: need string or buffer, file found"
     ]
    }
   ],
   "source": [
    "log_file = open(log_file,\"w\")\n",
    "dim_state = (1, phi_length, 3+2)\n",
    "actions = [(True, None), (False, 'serve_all')]\n",
    "tail_datetime = head_datetime + pd.Timedelta(days=1)*n_days*5\n",
    "te = sleep_control.traffic_emulator.TrafficEmulator(session_df=session_df, \n",
    "                                                    head_datetime=head_datetime, tail_datetime=tail_datetime, \n",
    "                                                    time_step=time_step, verbose=2)\n",
    "ts = sleep_control.traffic_server.TrafficServer(cost=5, verbose=2)\n",
    "agent = QAgentNNPhi(phi_length=phi_length, dim_state=dim_state, range_state=[[range_state_slice]*phi_length], actions=actions,\n",
    "        alpha=alpha, learning_rate=learning_rate, momentum=momentum, update_period=update_period,\n",
    "        reward_scaling=reward_scaling, reward_scaling_update=reward_scaling_update,\n",
    "        memory_size=memory_size, num_buffer=num_buffer, freeze_period=freeze_period, batch_size=batch_size,\n",
    "        gamma=gamma, explore_strategy=explore_strategy, epsilon=epsilon,\n",
    "        verbose=2)\n",
    "c = QController(agent=agent)\n",
    "emu = sleep_control.integration.Emulation(te=te, ts=ts, c=c)\n",
    "t = time.time()\n",
    "sys.stdout = log_file\n",
    "while emu.epoch is not None and emu.epoch<TOTAL_EPOCHS:\n",
    "    # log time\n",
    "    print \"Epoch {}, \".format(emu.epoch),\n",
    "    left = emu.te.head_datetime + emu.te.epoch*emu.te.time_step\n",
    "    right = left + emu.te.time_step\n",
    "    print \"{} - {}\".format(left.strftime(\"%Y-%m-%d %H:%M:%S\"), right.strftime(\"%Y-%m-%d %H:%M:%S\"))\n",
    "    emu.step()\n",
    "    print\n",
    "sys.stdout = std_out\n",
    "log_file.close()\n",
    "time.time()-t"
   ]
  }
 ],
 "metadata": {
  "kernelspec": {
   "display_name": "Python 2",
   "language": "python",
   "name": "python2"
  },
  "language_info": {
   "codemirror_mode": {
    "name": "ipython",
    "version": 2
   },
   "file_extension": ".py",
   "mimetype": "text/x-python",
   "name": "python",
   "nbconvert_exporter": "python",
   "pygments_lexer": "ipython2",
   "version": "2.7.6"
  }
 },
 "nbformat": 4,
 "nbformat_minor": 0
}
