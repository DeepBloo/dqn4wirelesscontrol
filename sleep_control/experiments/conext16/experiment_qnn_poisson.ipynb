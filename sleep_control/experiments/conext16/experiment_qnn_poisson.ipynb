{
 "cells": [
  {
   "cell_type": "code",
   "execution_count": 1,
   "metadata": {
    "collapsed": false
   },
   "outputs": [
    {
     "name": "stderr",
     "output_type": "stream",
     "text": [
      "Using gpu device 0: GeForce GTX TITAN X (CNMeM is disabled, CuDNN 4007)\n",
      "/usr/local/lib/python2.7/dist-packages/theano/tensor/signal/downsample.py:5: UserWarning: downsample module has been moved to the pool module.\n",
      "  warnings.warn(\"downsample module has been moved to the pool module.\")\n"
     ]
    },
    {
     "name": "stdout",
     "output_type": "stream",
     "text": [
      "/home/admin-326/Data/ipython-notebook/dqn4wirelesscontrol\n"
     ]
    }
   ],
   "source": [
    "%cd ~/ipython-notebook/dqn4wirelesscontrol/\n",
    "import sys\n",
    "import time\n",
    "import pandas as pd\n",
    "pd.set_option('mode.chained_assignment', None)  # block warnings due to DataFrame value assignment\n",
    "# Project modules\n",
    "from sleep_control.integration import Emulation\n",
    "import sleep_control.traffic_emulator\n",
    "import sleep_control.traffic_server\n",
    "from sleep_control.controller import QController, DummyController\n",
    "import qlearning.qtable\n",
    "import qlearning.qnn\n",
    "from qlearning.qtable import QAgent\n",
    "from qlearning.qnn import QAgentNN\n",
    "from qlearning.mixin import PhiMixin"
   ]
  },
  {
   "cell_type": "markdown",
   "metadata": {},
   "source": [
    "# Setting-up data"
   ]
  },
  {
   "cell_type": "code",
   "execution_count": 2,
   "metadata": {
    "collapsed": true
   },
   "outputs": [],
   "source": [
    "std_out = sys.stdout"
   ]
  },
  {
   "cell_type": "code",
   "execution_count": 3,
   "metadata": {
    "collapsed": false
   },
   "outputs": [],
   "source": [
    "fake_df = pd.DataFrame()\n",
    "head_dt = pd.to_datetime(\"2014-09-25 09:20:31.474000\")\n",
    "tail_dt = pd.to_datetime(\"2015-01-31 15:36:36.279000\") "
   ]
  },
  {
   "cell_type": "code",
   "execution_count": 4,
   "metadata": {
    "collapsed": false
   },
   "outputs": [],
   "source": [
    "class QAgentNNPhi(PhiMixin, QAgentNN):\n",
    "    def __init__(self, **kwargs):\n",
    "        super(QAgentNNPhi, self).__init__(**kwargs)"
   ]
  },
  {
   "cell_type": "markdown",
   "metadata": {},
   "source": [
    "# Exp1 mu5 phi5"
   ]
  },
  {
   "cell_type": "code",
   "execution_count": null,
   "metadata": {
    "collapsed": true
   },
   "outputs": [],
   "source": [
    "mu = 5\n",
    "phi_length = 5\n",
    "range_state_slice = [(0, 10), (0, 10), (0, 10), (0, 1), (0, 1)]\n",
    "alpha, learning_rate = 0.9, 0.01\n",
    "reward_scaling, reward_scaling_update = 20, 'fixed'\n",
    "memory_size, num_buffer = 200, 2\n",
    "freeze_period, batch_size = 10, 100\n",
    "gamma=0.5\n",
    "explore_strategy, epsilon = 'epsilon', 0.02\n",
    "log_file = open(\"sleep_control/experiments/log/message_2016-6-5_1509_PoissonQNN.log\",\"w\")\n",
    "n_days=7"
   ]
  },
  {
   "cell_type": "code",
   "execution_count": null,
   "metadata": {
    "collapsed": false
   },
   "outputs": [],
   "source": [
    "dim_state = (1, phi_length, 3+2)\n",
    "actions = [(True, None), (False, 'serve_all')]\n",
    "te = sleep_control.traffic_emulator.PoissonEmulator(session_df=fake_df, \n",
    "                                                    head_datetime=head_dt, tail_datetime=tail_dt, time_step=pd.Timedelta(seconds=2), \n",
    "                                                    mu=mu,\n",
    "                                                    verbose=2)\n",
    "ts = sleep_control.traffic_server.TrafficServer(cost=5, verbose=2)\n",
    "agent = QAgentNNPhi(phi_length=phi_length, dim_state=dim_state, range_state=[[range_state_slice]*phi_length], actions=actions,\n",
    "        alpha=alpha, learning_rate=learning_rate, \n",
    "        reward_scaling=reward_scaling, reward_scaling_update=reward_scaling_update,\n",
    "        memory_size=memory_size, num_buffer=num_buffer, freeze_period=freeze_period, batch_size=batch_size,\n",
    "        gamma=gamma, explore_strategy=explore_strategy, epsilon=epsilon,\n",
    "        verbose=2)\n",
    "c = QController(agent=agent)\n",
    "emu = sleep_control.integration.Emulation(te=te, ts=ts, c=c)\n",
    "t = time.time()\n",
    "sys.stdout = log_file\n",
    "TOTAL_EPOCHS = 3600*24*n_days/2  # 7 days\n",
    "while emu.epoch is not None and emu.epoch<TOTAL_EPOCHS:\n",
    "    # log time\n",
    "    print \"Epoch {}, \".format(emu.epoch),\n",
    "    left = emu.te.head_datetime + emu.te.epoch*emu.te.time_step\n",
    "    right = left + emu.te.time_step\n",
    "    print \"{} - {}\".format(left.strftime(\"%Y-%m-%d %H:%M:%S\"), right.strftime(\"%Y-%m-%d %H:%M:%S\"))\n",
    "    emu.step()\n",
    "    print\n",
    "sys.stdout = std_out\n",
    "log_file.close\n",
    "time.time()-t"
   ]
  },
  {
   "cell_type": "markdown",
   "metadata": {},
   "source": [
    "# Exp2 mu0.1 phi5"
   ]
  },
  {
   "cell_type": "code",
   "execution_count": null,
   "metadata": {
    "collapsed": true
   },
   "outputs": [],
   "source": [
    "mu = 0.1\n",
    "phi_length = 5\n",
    "range_state_slice = [(0, 10), (0, 10), (0, 10), (0, 1), (0, 1)]\n",
    "alpha, learning_rate = 0.9, 0.01\n",
    "reward_scaling, reward_scaling_update = 20, 'fixed'\n",
    "memory_size, num_buffer = 200, 2\n",
    "freeze_period, batch_size = 10, 100\n",
    "gamma=0.5\n",
    "explore_strategy, epsilon = 'epsilon', 0.02\n",
    "log_file = open(\"sleep_control/experiments/log/message_2016-6-5_1549_PoissonQNN.log\",\"w\")\n",
    "n_days=7"
   ]
  },
  {
   "cell_type": "code",
   "execution_count": null,
   "metadata": {
    "collapsed": false
   },
   "outputs": [],
   "source": [
    "dim_state = (1, phi_length, 3+2)\n",
    "actions = [(True, None), (False, 'serve_all')]\n",
    "te = sleep_control.traffic_emulator.PoissonEmulator(session_df=fake_df, \n",
    "                                                    head_datetime=head_dt, tail_datetime=tail_dt, time_step=pd.Timedelta(seconds=2), \n",
    "                                                    mu=mu,\n",
    "                                                    verbose=2)\n",
    "ts = sleep_control.traffic_server.TrafficServer(cost=5, verbose=2)\n",
    "agent = QAgentNNPhi(phi_length=phi_length, dim_state=dim_state, range_state=[[range_state_slice]*phi_length], actions=actions,\n",
    "        alpha=alpha, learning_rate=learning_rate, \n",
    "        reward_scaling=reward_scaling, reward_scaling_update=reward_scaling_update,\n",
    "        memory_size=memory_size, num_buffer=num_buffer, freeze_period=freeze_period, batch_size=batch_size,\n",
    "        gamma=gamma, explore_strategy=explore_strategy, epsilon=epsilon,\n",
    "        verbose=2)\n",
    "c = QController(agent=agent)\n",
    "emu = sleep_control.integration.Emulation(te=te, ts=ts, c=c)\n",
    "t = time.time()\n",
    "sys.stdout = log_file\n",
    "TOTAL_EPOCHS = 3600*24*n_days/2  # 7 days\n",
    "while emu.epoch is not None and emu.epoch<TOTAL_EPOCHS:\n",
    "    # log time\n",
    "    print \"Epoch {}, \".format(emu.epoch),\n",
    "    left = emu.te.head_datetime + emu.te.epoch*emu.te.time_step\n",
    "    right = left + emu.te.time_step\n",
    "    print \"{} - {}\".format(left.strftime(\"%Y-%m-%d %H:%M:%S\"), right.strftime(\"%Y-%m-%d %H:%M:%S\"))\n",
    "    emu.step()\n",
    "    print\n",
    "sys.stdout = std_out\n",
    "log_file.close\n",
    "time.time()-t"
   ]
  }
 ],
 "metadata": {
  "kernelspec": {
   "display_name": "Python 2",
   "language": "python",
   "name": "python2"
  },
  "language_info": {
   "codemirror_mode": {
    "name": "ipython",
    "version": 2
   },
   "file_extension": ".py",
   "mimetype": "text/x-python",
   "name": "python",
   "nbconvert_exporter": "python",
   "pygments_lexer": "ipython2",
   "version": "2.7.6"
  }
 },
 "nbformat": 4,
 "nbformat_minor": 0
}
