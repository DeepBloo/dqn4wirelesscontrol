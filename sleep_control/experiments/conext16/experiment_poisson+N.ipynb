{
 "cells": [
  {
   "cell_type": "code",
   "execution_count": 75,
   "metadata": {
    "collapsed": false
   },
   "outputs": [],
   "source": [
    "%cd ~/ipython-notebook/dqn4wirelesscontrol/\n",
    "import sys\n",
    "import time\n",
    "import pandas as pd\n",
    "pd.set_option('mode.chained_assignment', None)  # block warnings due to DataFrame value assignment\n",
    "# Project modules\n",
    "from sleep_control.integration import Emulation\n",
    "import sleep_control.traffic_emulator\n",
    "import sleep_control.traffic_server\n",
    "from sleep_control.controller import NController"
   ]
  },
  {
   "cell_type": "markdown",
   "metadata": {},
   "source": [
    "Setting-up data"
   ]
  },
  {
   "cell_type": "code",
   "execution_count": 76,
   "metadata": {
    "collapsed": true
   },
   "outputs": [],
   "source": [
    "std_out = sys.stdout"
   ]
  },
  {
   "cell_type": "code",
   "execution_count": 77,
   "metadata": {
    "collapsed": true
   },
   "outputs": [],
   "source": [
    "fake_df = pd.DataFrame()\n",
    "head_dt = pd.to_datetime(\"2014-09-25 09:20:31.474000\")\n",
    "tail_dt = pd.to_datetime(\"2015-01-31 15:36:36.279000\") "
   ]
  },
  {
   "cell_type": "markdown",
   "metadata": {},
   "source": [
    "# EXP1 N=(0,1), mu=1"
   ]
  },
  {
   "cell_type": "code",
   "execution_count": 78,
   "metadata": {
    "collapsed": true
   },
   "outputs": [],
   "source": [
    "mu = 0.89\n",
    "N_off, N_on = 0, 1\n",
    "n_days = 1\n",
    "log_file = open(\"sleep_control/experiments/log/message_2016-6-5_1645_P.log\",\"w\")"
   ]
  },
  {
   "cell_type": "code",
   "execution_count": 79,
   "metadata": {
    "collapsed": false
   },
   "outputs": [
    {
     "data": {
      "text/plain": [
       "326.97801208496094"
      ]
     },
     "execution_count": 79,
     "metadata": {},
     "output_type": "execute_result"
    }
   ],
   "source": [
    "te = sleep_control.traffic_emulator.PoissonEmulator(session_df=fake_df, \n",
    "                                                    head_datetime=head_dt, tail_datetime=tail_dt, time_step=pd.Timedelta(seconds=2), \n",
    "                                                    mu=mu,\n",
    "                                                    verbose=2)\n",
    "ts = sleep_control.traffic_server.TrafficServer(cost=5, verbose=2)\n",
    "c = NController(N_off=N_off, N_on=N_on)\n",
    "emu = sleep_control.integration.Emulation(te=te, ts=ts, c=c)\n",
    "t = time.time()\n",
    "sys.stdout = log_file\n",
    "TOTAL_EPOCHS = 3600*24*n_days/2\n",
    "while emu.te.epoch is not None and emu.epoch<TOTAL_EPOCHS:\n",
    "    # log time\n",
    "    print \"Epoch {}, \".format(emu.epoch),\n",
    "    left = emu.te.head_datetime + emu.te.epoch*emu.te.time_step\n",
    "    right = left + emu.te.time_step\n",
    "    print \"{} - {}\".format(left.strftime(\"%Y-%m-%d %H:%M:%S\"), right.strftime(\"%Y-%m-%d %H:%M:%S\"))\n",
    "    emu.step()\n",
    "    print\n",
    "sys.stdoutd = std_out\n",
    "time.time()-t"
   ]
  },
  {
   "cell_type": "markdown",
   "metadata": {},
   "source": [
    "# EXP2 N=(0,2), mu=1"
   ]
  },
  {
   "cell_type": "code",
   "execution_count": 80,
   "metadata": {
    "collapsed": true
   },
   "outputs": [],
   "source": [
    "mu = 0.89\n",
    "N_off, N_on = 0, 2\n",
    "n_days = 1\n",
    "log_file = open(\"sleep_control/experiments/log/message_2016-6-5_1650_P.log\",\"w\")"
   ]
  },
  {
   "cell_type": "code",
   "execution_count": 81,
   "metadata": {
    "collapsed": false
   },
   "outputs": [
    {
     "data": {
      "text/plain": [
       "326.703439950943"
      ]
     },
     "execution_count": 81,
     "metadata": {},
     "output_type": "execute_result"
    }
   ],
   "source": [
    "te = sleep_control.traffic_emulator.PoissonEmulator(session_df=fake_df, \n",
    "                                                    head_datetime=head_dt, tail_datetime=tail_dt, time_step=pd.Timedelta(seconds=2), \n",
    "                                                    mu=mu,\n",
    "                                                    verbose=2)\n",
    "ts = sleep_control.traffic_server.TrafficServer(cost=5, verbose=2)\n",
    "c = NController(N_off=N_off, N_on=N_on)\n",
    "emu = sleep_control.integration.Emulation(te=te, ts=ts, c=c)\n",
    "t = time.time()\n",
    "sys.stdout = log_file\n",
    "TOTAL_EPOCHS = 3600*24*n_days/2\n",
    "while emu.te.epoch is not None and emu.epoch<TOTAL_EPOCHS:\n",
    "    # log time\n",
    "    print \"Epoch {}, \".format(emu.epoch),\n",
    "    left = emu.te.head_datetime + emu.te.epoch*emu.te.time_step\n",
    "    right = left + emu.te.time_step\n",
    "    print \"{} - {}\".format(left.strftime(\"%Y-%m-%d %H:%M:%S\"), right.strftime(\"%Y-%m-%d %H:%M:%S\"))\n",
    "    emu.step()\n",
    "    print\n",
    "sys.stdoutd = std_out\n",
    "time.time()-t"
   ]
  },
  {
   "cell_type": "markdown",
   "metadata": {},
   "source": [
    "# EXP3 N=(0,3), mu=1"
   ]
  },
  {
   "cell_type": "code",
   "execution_count": 82,
   "metadata": {
    "collapsed": true
   },
   "outputs": [],
   "source": [
    "mu = 0.89\n",
    "N_off, N_on = 0, 3\n",
    "n_days = 1\n",
    "log_file = open(\"sleep_control/experiments/log/message_2016-6-5_1655_P.log\",\"w\")"
   ]
  },
  {
   "cell_type": "code",
   "execution_count": 83,
   "metadata": {
    "collapsed": false
   },
   "outputs": [
    {
     "data": {
      "text/plain": [
       "345.3759460449219"
      ]
     },
     "execution_count": 83,
     "metadata": {},
     "output_type": "execute_result"
    }
   ],
   "source": [
    "te = sleep_control.traffic_emulator.PoissonEmulator(session_df=fake_df, \n",
    "                                                    head_datetime=head_dt, tail_datetime=tail_dt, time_step=pd.Timedelta(seconds=2), \n",
    "                                                    mu=mu,\n",
    "                                                    verbose=2)\n",
    "ts = sleep_control.traffic_server.TrafficServer(cost=5, verbose=2)\n",
    "c = NController(N_off=N_off, N_on=N_on)\n",
    "emu = sleep_control.integration.Emulation(te=te, ts=ts, c=c)\n",
    "t = time.time()\n",
    "sys.stdout = log_file\n",
    "TOTAL_EPOCHS = 3600*24*n_days/2\n",
    "while emu.te.epoch is not None and emu.epoch<TOTAL_EPOCHS:\n",
    "    # log time\n",
    "    print \"Epoch {}, \".format(emu.epoch),\n",
    "    left = emu.te.head_datetime + emu.te.epoch*emu.te.time_step\n",
    "    right = left + emu.te.time_step\n",
    "    print \"{} - {}\".format(left.strftime(\"%Y-%m-%d %H:%M:%S\"), right.strftime(\"%Y-%m-%d %H:%M:%S\"))\n",
    "    emu.step()\n",
    "    print\n",
    "sys.stdoutd = std_out\n",
    "time.time()-t"
   ]
  },
  {
   "cell_type": "markdown",
   "metadata": {},
   "source": [
    "# EXP4 N=(0,4), mu=1"
   ]
  },
  {
   "cell_type": "code",
   "execution_count": 84,
   "metadata": {
    "collapsed": true
   },
   "outputs": [],
   "source": [
    "mu = 0.89\n",
    "N_off, N_on = 0, 4\n",
    "n_days = 1\n",
    "log_file = open(\"sleep_control/experiments/log/message_2016-6-5_1700_P.log\",\"w\")"
   ]
  },
  {
   "cell_type": "code",
   "execution_count": 85,
   "metadata": {
    "collapsed": false
   },
   "outputs": [
    {
     "data": {
      "text/plain": [
       "362.8187909126282"
      ]
     },
     "execution_count": 85,
     "metadata": {},
     "output_type": "execute_result"
    }
   ],
   "source": [
    "te = sleep_control.traffic_emulator.PoissonEmulator(session_df=fake_df, \n",
    "                                                    head_datetime=head_dt, tail_datetime=tail_dt, time_step=pd.Timedelta(seconds=2), \n",
    "                                                    mu=mu,\n",
    "                                                    verbose=2)\n",
    "ts = sleep_control.traffic_server.TrafficServer(cost=5, verbose=2)\n",
    "c = NController(N_off=N_off, N_on=N_on)\n",
    "emu = sleep_control.integration.Emulation(te=te, ts=ts, c=c)\n",
    "t = time.time()\n",
    "sys.stdout = log_file\n",
    "TOTAL_EPOCHS = 3600*24*n_days/2\n",
    "while emu.te.epoch is not None and emu.epoch<TOTAL_EPOCHS:\n",
    "    # log time\n",
    "    print \"Epoch {}, \".format(emu.epoch),\n",
    "    left = emu.te.head_datetime + emu.te.epoch*emu.te.time_step\n",
    "    right = left + emu.te.time_step\n",
    "    print \"{} - {}\".format(left.strftime(\"%Y-%m-%d %H:%M:%S\"), right.strftime(\"%Y-%m-%d %H:%M:%S\"))\n",
    "    emu.step()\n",
    "    print\n",
    "sys.stdoutd = std_out\n",
    "time.time()-t"
   ]
  },
  {
   "cell_type": "markdown",
   "metadata": {},
   "source": [
    "# EXP5 N=(0,5), mu=1"
   ]
  },
  {
   "cell_type": "code",
   "execution_count": 86,
   "metadata": {
    "collapsed": true
   },
   "outputs": [],
   "source": [
    "mu = 0.89\n",
    "N_off, N_on = 0, 5\n",
    "n_days = 1\n",
    "log_file = open(\"sleep_control/experiments/log/message_2016-6-5_1705_P.log\",\"w\")"
   ]
  },
  {
   "cell_type": "code",
   "execution_count": 87,
   "metadata": {
    "collapsed": false
   },
   "outputs": [
    {
     "data": {
      "text/plain": [
       "353.83320784568787"
      ]
     },
     "execution_count": 87,
     "metadata": {},
     "output_type": "execute_result"
    }
   ],
   "source": [
    "te = sleep_control.traffic_emulator.PoissonEmulator(session_df=fake_df, \n",
    "                                                    head_datetime=head_dt, tail_datetime=tail_dt, time_step=pd.Timedelta(seconds=2), \n",
    "                                                    mu=mu,\n",
    "                                                    verbose=2)\n",
    "ts = sleep_control.traffic_server.TrafficServer(cost=5, verbose=2)\n",
    "c = NController(N_off=N_off, N_on=N_on)\n",
    "emu = sleep_control.integration.Emulation(te=te, ts=ts, c=c)\n",
    "t = time.time()\n",
    "sys.stdout = log_file\n",
    "TOTAL_EPOCHS = 3600*24*n_days/2\n",
    "while emu.te.epoch is not None and emu.epoch<TOTAL_EPOCHS:\n",
    "    # log time\n",
    "    print \"Epoch {}, \".format(emu.epoch),\n",
    "    left = emu.te.head_datetime + emu.te.epoch*emu.te.time_step\n",
    "    right = left + emu.te.time_step\n",
    "    print \"{} - {}\".format(left.strftime(\"%Y-%m-%d %H:%M:%S\"), right.strftime(\"%Y-%m-%d %H:%M:%S\"))\n",
    "    emu.step()\n",
    "    print\n",
    "sys.stdoutd = std_out\n",
    "time.time()-t"
   ]
  }
 ],
 "metadata": {
  "kernelspec": {
   "display_name": "Python 2",
   "language": "python",
   "name": "python2"
  },
  "language_info": {
   "codemirror_mode": {
    "name": "ipython",
    "version": 2
   },
   "file_extension": ".py",
   "mimetype": "text/x-python",
   "name": "python",
   "nbconvert_exporter": "python",
   "pygments_lexer": "ipython2",
   "version": "2.7.6"
  }
 },
 "nbformat": 4,
 "nbformat_minor": 0
}
