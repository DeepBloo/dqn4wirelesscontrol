{
 "cells": [
  {
   "cell_type": "code",
   "execution_count": 1,
   "metadata": {
    "collapsed": false
   },
   "outputs": [
    {
     "name": "stderr",
     "output_type": "stream",
     "text": [
      "Using gpu device 0: GeForce GTX TITAN X (CNMeM is disabled, CuDNN 4007)\n",
      "/usr/local/lib/python2.7/dist-packages/theano/tensor/signal/downsample.py:5: UserWarning: downsample module has been moved to the pool module.\n",
      "  warnings.warn(\"downsample module has been moved to the pool module.\")\n"
     ]
    },
    {
     "name": "stdout",
     "output_type": "stream",
     "text": [
      "/home/admin-326/Data/ipython-notebook/dqn4wirelesscontrol\n"
     ]
    }
   ],
   "source": [
    "%cd ~/ipython-notebook/dqn4wirelesscontrol/\n",
    "import sys\n",
    "import time\n",
    "import pandas as pd\n",
    "import lasagne\n",
    "pd.set_option('mode.chained_assignment', None)  # block warnings due to DataFrame value assignment\n",
    "# Project modules\n",
    "from sleep_control.integration import Emulation\n",
    "import sleep_control.traffic_emulator\n",
    "import sleep_control.traffic_server\n",
    "from sleep_control.controller import QController, DummyController\n",
    "import qlearning.qtable\n",
    "import qlearning.qnn\n",
    "from qlearning.qtable import QAgent\n",
    "from qlearning.qnn import QAgentNN\n",
    "from qlearning.mixin import PhiMixin\n",
    "std_out = sys.stdout\n",
    "class QAgentNNPhi(PhiMixin, QAgentNN):\n",
    "    def __init__(self, **kwargs):\n",
    "        super(QAgentNNPhi, self).__init__(**kwargs)"
   ]
  },
  {
   "cell_type": "code",
   "execution_count": 2,
   "metadata": {
    "collapsed": false
   },
   "outputs": [],
   "source": [
    "fake_df = pd.DataFrame()\n",
    "head_dt = pd.to_datetime(\"2014-9-15 09:40:00\")\n",
    "tail_dt = pd.to_datetime(\"2015-01-31 15:36:36\") "
   ]
  },
  {
   "cell_type": "markdown",
   "metadata": {},
   "source": [
    "---"
   ]
  },
  {
   "cell_type": "code",
   "execution_count": 9,
   "metadata": {
    "collapsed": false
   },
   "outputs": [],
   "source": [
    "gamma, alpha = 0.5, 0.9\n",
    "explore_strategy, epsilon = 'epsilon', 0.02\n",
    "reward_scaling, reward_scaling_update, rs_period = 1, 'adaptive', 32\n",
    "phi_length = 5\n",
    "range_state_slice = [(0, 10), (0, 10), (0, 10), (0, 1), (0, 1)]\n",
    "momentum, learning_rate, update_period = 0.9, 0.01, 16\n",
    "num_buffer, memory_size, batch_size, freeze_period  = 2, 200, 100, 4\n",
    "log_file = \"sleep_control/experiments/log/message_2016-6-17_Poisson1_G5_BUF2_AR1_1.log\"\n",
    "time_step, n_days = pd.Timedelta(seconds=2), 7\n",
    "TOTAL_EPOCHS = 3600*24*n_days/2\n",
    "backoff = num_buffer*memory_size+phi_length\n",
    "head_datetime = pd.to_datetime(\"2014-9-15 09:40:00\") - time_step*backoff\n",
    "beta=0.5\n",
    "mu = 1"
   ]
  },
  {
   "cell_type": "code",
   "execution_count": 10,
   "metadata": {
    "collapsed": false
   },
   "outputs": [
    {
     "name": "stdout",
     "output_type": "stream",
     "text": [
      "New TrafficEmulator with parameters:\n",
      "  head=2014-09-15 09:40:00\n",
      "  tail=2015-01-31 15:36:36\n",
      "  time_step=0 days 00:00:02\n",
      "  epoch=0\n",
      "  verbose=2\n"
     ]
    },
    {
     "data": {
      "text/plain": [
       "1715.228019952774"
      ]
     },
     "execution_count": 10,
     "metadata": {},
     "output_type": "execute_result"
    }
   ],
   "source": [
    "log_file = open(log_file,\"w\")\n",
    "dim_state = (1, phi_length, 3+2)\n",
    "actions = [(True, None), (False, 'serve_all')]\n",
    "tail_datetime = head_datetime + pd.Timedelta(days=1)*n_days*5\n",
    "te = sleep_control.traffic_emulator.PoissonEmulator(session_df=fake_df, head_datetime=head_dt, tail_datetime=tail_dt, time_step=time_step, \n",
    "                                                    mu=mu, verbose=2)\n",
    "ts = sleep_control.traffic_server.TrafficServer(cost=5, verbose=2)\n",
    "agent = QAgentNNPhi(phi_length=phi_length, dim_state=dim_state, range_state=[[range_state_slice]*phi_length], actions=actions,\n",
    "        alpha=alpha, learning_rate=learning_rate, momentum=momentum, update_period=update_period,\n",
    "        reward_scaling=reward_scaling, reward_scaling_update=reward_scaling_update, rs_period=rs_period,\n",
    "        memory_size=memory_size, num_buffer=num_buffer, freeze_period=freeze_period, batch_size=batch_size,\n",
    "        gamma=gamma, explore_strategy=explore_strategy, epsilon=epsilon,\n",
    "        verbose=2)\n",
    "c = QController(agent=agent)\n",
    "emu = sleep_control.integration.Emulation(te=te, ts=ts, c=c, beta=beta)\n",
    "t = time.time()\n",
    "sys.stdout = log_file\n",
    "while emu.epoch is not None and emu.epoch<TOTAL_EPOCHS:\n",
    "    # log time\n",
    "    print \"Epoch {}, \".format(emu.epoch),\n",
    "    left = emu.te.head_datetime + emu.te.epoch*emu.te.time_step\n",
    "    right = left + emu.te.time_step\n",
    "    print \"{} - {}\".format(left.strftime(\"%Y-%m-%d %H:%M:%S\"), right.strftime(\"%Y-%m-%d %H:%M:%S\"))\n",
    "    emu.step()\n",
    "    print\n",
    "sys.stdout = std_out\n",
    "log_file.close()\n",
    "time.time()-t"
   ]
  },
  {
   "cell_type": "markdown",
   "metadata": {},
   "source": [
    "---"
   ]
  },
  {
   "cell_type": "code",
   "execution_count": 11,
   "metadata": {
    "collapsed": false
   },
   "outputs": [],
   "source": [
    "gamma, alpha = 0.5, 0.9\n",
    "explore_strategy, epsilon = 'epsilon', 0.02\n",
    "reward_scaling, reward_scaling_update, rs_period = 1, 'adaptive', 32\n",
    "phi_length = 5\n",
    "range_state_slice = [(0, 10), (0, 10), (0, 10), (0, 1), (0, 1)]\n",
    "momentum, learning_rate, update_period = 0.9, 0.01, 16\n",
    "num_buffer, memory_size, batch_size, freeze_period  = 2, 200, 100, 4\n",
    "log_file = \"sleep_control/experiments/log/message_2016-6-17_Poisson1_G5_BUF2_AR1_2.log\"\n",
    "time_step, n_days = pd.Timedelta(seconds=2), 7\n",
    "TOTAL_EPOCHS = 3600*24*n_days/2\n",
    "backoff = num_buffer*memory_size+phi_length\n",
    "head_datetime = pd.to_datetime(\"2014-9-15 09:40:00\") - time_step*backoff\n",
    "beta=0.5\n",
    "mu = 1"
   ]
  },
  {
   "cell_type": "code",
   "execution_count": 12,
   "metadata": {
    "collapsed": false
   },
   "outputs": [
    {
     "name": "stdout",
     "output_type": "stream",
     "text": [
      "New TrafficEmulator with parameters:\n",
      "  head=2014-09-15 09:40:00\n",
      "  tail=2015-01-31 15:36:36\n",
      "  time_step=0 days 00:00:02\n",
      "  epoch=0\n",
      "  verbose=2\n"
     ]
    },
    {
     "data": {
      "text/plain": [
       "1721.2680809497833"
      ]
     },
     "execution_count": 12,
     "metadata": {},
     "output_type": "execute_result"
    }
   ],
   "source": [
    "log_file = open(log_file,\"w\")\n",
    "dim_state = (1, phi_length, 3+2)\n",
    "actions = [(True, None), (False, 'serve_all')]\n",
    "tail_datetime = head_datetime + pd.Timedelta(days=1)*n_days*5\n",
    "te = sleep_control.traffic_emulator.PoissonEmulator(session_df=fake_df, head_datetime=head_dt, tail_datetime=tail_dt, time_step=time_step, \n",
    "                                                    mu=mu, verbose=2)\n",
    "ts = sleep_control.traffic_server.TrafficServer(cost=5, verbose=2)\n",
    "agent = QAgentNNPhi(phi_length=phi_length, dim_state=dim_state, range_state=[[range_state_slice]*phi_length], actions=actions,\n",
    "        alpha=alpha, learning_rate=learning_rate, momentum=momentum, update_period=update_period,\n",
    "        reward_scaling=reward_scaling, reward_scaling_update=reward_scaling_update, rs_period=rs_period,\n",
    "        memory_size=memory_size, num_buffer=num_buffer, freeze_period=freeze_period, batch_size=batch_size,\n",
    "        gamma=gamma, explore_strategy=explore_strategy, epsilon=epsilon,\n",
    "        verbose=2)\n",
    "c = QController(agent=agent)\n",
    "emu = sleep_control.integration.Emulation(te=te, ts=ts, c=c, beta=beta)\n",
    "t = time.time()\n",
    "sys.stdout = log_file\n",
    "while emu.epoch is not None and emu.epoch<TOTAL_EPOCHS:\n",
    "    # log time\n",
    "    print \"Epoch {}, \".format(emu.epoch),\n",
    "    left = emu.te.head_datetime + emu.te.epoch*emu.te.time_step\n",
    "    right = left + emu.te.time_step\n",
    "    print \"{} - {}\".format(left.strftime(\"%Y-%m-%d %H:%M:%S\"), right.strftime(\"%Y-%m-%d %H:%M:%S\"))\n",
    "    emu.step()\n",
    "    print\n",
    "sys.stdout = std_out\n",
    "log_file.close()\n",
    "time.time()-t"
   ]
  },
  {
   "cell_type": "markdown",
   "metadata": {},
   "source": [
    "---"
   ]
  },
  {
   "cell_type": "code",
   "execution_count": 13,
   "metadata": {
    "collapsed": false
   },
   "outputs": [],
   "source": [
    "gamma, alpha = 0.5, 0.9\n",
    "explore_strategy, epsilon = 'epsilon', 0.02\n",
    "reward_scaling, reward_scaling_update, rs_period = 1, 'adaptive', 32\n",
    "phi_length = 5\n",
    "range_state_slice = [(0, 10), (0, 10), (0, 10), (0, 1), (0, 1)]\n",
    "momentum, learning_rate, update_period = 0.9, 0.01, 16\n",
    "num_buffer, memory_size, batch_size, freeze_period  = 2, 200, 100, 4\n",
    "log_file = \"sleep_control/experiments/log/message_2016-6-17_Poisson1_G5_BUF2_AR1_3.log\"\n",
    "time_step, n_days = pd.Timedelta(seconds=2), 7\n",
    "TOTAL_EPOCHS = 3600*24*n_days/2\n",
    "backoff = num_buffer*memory_size+phi_length\n",
    "head_datetime = pd.to_datetime(\"2014-9-15 09:40:00\") - time_step*backoff\n",
    "beta=0.5\n",
    "mu = 1"
   ]
  },
  {
   "cell_type": "code",
   "execution_count": 14,
   "metadata": {
    "collapsed": false
   },
   "outputs": [
    {
     "name": "stdout",
     "output_type": "stream",
     "text": [
      "New TrafficEmulator with parameters:\n",
      "  head=2014-09-15 09:40:00\n",
      "  tail=2015-01-31 15:36:36\n",
      "  time_step=0 days 00:00:02\n",
      "  epoch=0\n",
      "  verbose=2\n"
     ]
    },
    {
     "data": {
      "text/plain": [
       "1718.028095960617"
      ]
     },
     "execution_count": 14,
     "metadata": {},
     "output_type": "execute_result"
    }
   ],
   "source": [
    "log_file = open(log_file,\"w\")\n",
    "dim_state = (1, phi_length, 3+2)\n",
    "actions = [(True, None), (False, 'serve_all')]\n",
    "tail_datetime = head_datetime + pd.Timedelta(days=1)*n_days*5\n",
    "te = sleep_control.traffic_emulator.PoissonEmulator(session_df=fake_df, head_datetime=head_dt, tail_datetime=tail_dt, time_step=time_step, \n",
    "                                                    mu=mu, verbose=2)\n",
    "ts = sleep_control.traffic_server.TrafficServer(cost=5, verbose=2)\n",
    "agent = QAgentNNPhi(phi_length=phi_length, dim_state=dim_state, range_state=[[range_state_slice]*phi_length], actions=actions,\n",
    "        alpha=alpha, learning_rate=learning_rate, momentum=momentum, update_period=update_period,\n",
    "        reward_scaling=reward_scaling, reward_scaling_update=reward_scaling_update, rs_period=rs_period,\n",
    "        memory_size=memory_size, num_buffer=num_buffer, freeze_period=freeze_period, batch_size=batch_size,\n",
    "        gamma=gamma, explore_strategy=explore_strategy, epsilon=epsilon,\n",
    "        verbose=2)\n",
    "c = QController(agent=agent)\n",
    "emu = sleep_control.integration.Emulation(te=te, ts=ts, c=c, beta=beta)\n",
    "t = time.time()\n",
    "sys.stdout = log_file\n",
    "while emu.epoch is not None and emu.epoch<TOTAL_EPOCHS:\n",
    "    # log time\n",
    "    print \"Epoch {}, \".format(emu.epoch),\n",
    "    left = emu.te.head_datetime + emu.te.epoch*emu.te.time_step\n",
    "    right = left + emu.te.time_step\n",
    "    print \"{} - {}\".format(left.strftime(\"%Y-%m-%d %H:%M:%S\"), right.strftime(\"%Y-%m-%d %H:%M:%S\"))\n",
    "    emu.step()\n",
    "    print\n",
    "sys.stdout = std_out\n",
    "log_file.close()\n",
    "time.time()-t"
   ]
  }
 ],
 "metadata": {
  "kernelspec": {
   "display_name": "Python 2",
   "language": "python",
   "name": "python2"
  },
  "language_info": {
   "codemirror_mode": {
    "name": "ipython",
    "version": 2
   },
   "file_extension": ".py",
   "mimetype": "text/x-python",
   "name": "python",
   "nbconvert_exporter": "python",
   "pygments_lexer": "ipython2",
   "version": "2.7.6"
  }
 },
 "nbformat": 4,
 "nbformat_minor": 0
}
