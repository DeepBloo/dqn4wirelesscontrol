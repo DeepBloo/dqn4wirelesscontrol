{
 "cells": [
  {
   "cell_type": "code",
   "execution_count": 1,
   "metadata": {
    "collapsed": false
   },
   "outputs": [
    {
     "name": "stdout",
     "output_type": "stream",
     "text": [
      "/home/admin-326/Data/ipython-notebook/dqn4wirelesscontrol\n"
     ]
    }
   ],
   "source": [
    "%cd ~/ipython-notebook/dqn4wirelesscontrol/\n",
    "import sys\n",
    "import time\n",
    "import pandas as pd\n",
    "pd.set_option('mode.chained_assignment', None)  # block warnings due to DataFrame value assignment\n",
    "# Project modules\n",
    "from sleep_control.integration import Emulation\n",
    "import sleep_control.traffic_emulator\n",
    "import sleep_control.traffic_server\n",
    "from sleep_control.controller import NController"
   ]
  },
  {
   "cell_type": "code",
   "execution_count": 2,
   "metadata": {
    "collapsed": false
   },
   "outputs": [],
   "source": [
    "fake_df = pd.DataFrame()\n",
    "head_dt = pd.to_datetime(\"2014-9-15 09:40:00\")\n",
    "tail_dt = pd.to_datetime(\"2015-01-31 15:36:36\") "
   ]
  },
  {
   "cell_type": "code",
   "execution_count": 3,
   "metadata": {
    "collapsed": true
   },
   "outputs": [],
   "source": [
    "phi_length = 5\n",
    "num_buffer, memory_size, batch_size, freeze_period  = 2, 200, 100, 4"
   ]
  },
  {
   "cell_type": "code",
   "execution_count": 4,
   "metadata": {
    "collapsed": false
   },
   "outputs": [],
   "source": [
    "std_out = sys.stdout"
   ]
  },
  {
   "cell_type": "markdown",
   "metadata": {},
   "source": [
    "---"
   ]
  },
  {
   "cell_type": "code",
   "execution_count": 5,
   "metadata": {
    "collapsed": false
   },
   "outputs": [],
   "source": [
    "#1 N(0,1)\n",
    "N_off, N_on = 0, 1\n",
    "log_file = \"sleep_control/experiments/log/message_2016-6-17_Poisson1_N01.log\"\n",
    "time_step, n_days = pd.Timedelta(seconds=2), 7\n",
    "TOTAL_EPOCHS = 3600*24*n_days/2\n",
    "backoff = num_buffer*memory_size+phi_length\n",
    "head_datetime = pd.to_datetime(\"2014-10-15 09:40:00\") - time_step*backoff\n",
    "beta=0.5\n",
    "mu = 1"
   ]
  },
  {
   "cell_type": "code",
   "execution_count": 6,
   "metadata": {
    "collapsed": false
   },
   "outputs": [
    {
     "name": "stdout",
     "output_type": "stream",
     "text": [
      "New TrafficEmulator with parameters:\n",
      "  head=2014-09-15 09:40:00\n",
      "  tail=2015-01-31 15:36:36\n",
      "  time_step=0 days 00:00:02\n",
      "  epoch=0\n",
      "  verbose=2\n"
     ]
    },
    {
     "data": {
      "text/plain": [
       "1646.1026809215546"
      ]
     },
     "execution_count": 6,
     "metadata": {},
     "output_type": "execute_result"
    }
   ],
   "source": [
    "log_file = open(log_file,\"w\")\n",
    "dim_state = (1, phi_length, 3+2)\n",
    "actions = [(True, None), (False, 'serve_all')]\n",
    "tail_datetime = head_datetime + pd.Timedelta(days=1)*n_days*5\n",
    "te = sleep_control.traffic_emulator.PoissonEmulator(session_df=fake_df, head_datetime=head_dt, tail_datetime=tail_dt, time_step=time_step, \n",
    "                                                    mu=mu, verbose=2)\n",
    "ts = sleep_control.traffic_server.TrafficServer(cost=5, verbose=2)\n",
    "c = NController(N_off=N_off, N_on=N_on)\n",
    "emu = sleep_control.integration.Emulation(te=te, ts=ts, c=c, beta=beta)\n",
    "t = time.time()\n",
    "sys.stdout = log_file\n",
    "while emu.epoch is not None and emu.epoch<TOTAL_EPOCHS:\n",
    "    # log time\n",
    "    print \"Epoch {}, \".format(emu.epoch),\n",
    "    left = emu.te.head_datetime + emu.te.epoch*emu.te.time_step\n",
    "    right = left + emu.te.time_step\n",
    "    print \"{} - {}\".format(left.strftime(\"%Y-%m-%d %H:%M:%S\"), right.strftime(\"%Y-%m-%d %H:%M:%S\"))\n",
    "    emu.step()\n",
    "    print\n",
    "sys.stdout = std_out\n",
    "log_file.close()\n",
    "time.time()-t"
   ]
  },
  {
   "cell_type": "markdown",
   "metadata": {},
   "source": [
    "---"
   ]
  },
  {
   "cell_type": "code",
   "execution_count": 7,
   "metadata": {
    "collapsed": false
   },
   "outputs": [],
   "source": [
    "#1 N(0,2)\n",
    "N_off, N_on = 0, 2\n",
    "log_file = \"sleep_control/experiments/log/message_2016-6-17_Poisson1_N02.log\"\n",
    "time_step, n_days = pd.Timedelta(seconds=2), 7\n",
    "TOTAL_EPOCHS = 3600*24*n_days/2\n",
    "backoff = num_buffer*memory_size+phi_length\n",
    "head_datetime = pd.to_datetime(\"2014-10-15 09:40:00\") - time_step*backoff\n",
    "beta=0.5\n",
    "mu = 1"
   ]
  },
  {
   "cell_type": "code",
   "execution_count": 8,
   "metadata": {
    "collapsed": false
   },
   "outputs": [
    {
     "name": "stdout",
     "output_type": "stream",
     "text": [
      "New TrafficEmulator with parameters:\n",
      "  head=2014-09-15 09:40:00\n",
      "  tail=2015-01-31 15:36:36\n",
      "  time_step=0 days 00:00:02\n",
      "  epoch=0\n",
      "  verbose=2\n"
     ]
    },
    {
     "data": {
      "text/plain": [
       "1609.0132811069489"
      ]
     },
     "execution_count": 8,
     "metadata": {},
     "output_type": "execute_result"
    }
   ],
   "source": [
    "log_file = open(log_file,\"w\")\n",
    "dim_state = (1, phi_length, 3+2)\n",
    "actions = [(True, None), (False, 'serve_all')]\n",
    "tail_datetime = head_datetime + pd.Timedelta(days=1)*n_days*5\n",
    "te = sleep_control.traffic_emulator.PoissonEmulator(session_df=fake_df, head_datetime=head_dt, tail_datetime=tail_dt, time_step=time_step, \n",
    "                                                    mu=mu, verbose=2)\n",
    "ts = sleep_control.traffic_server.TrafficServer(cost=5, verbose=2)\n",
    "c = NController(N_off=N_off, N_on=N_on)\n",
    "emu = sleep_control.integration.Emulation(te=te, ts=ts, c=c, beta=beta)\n",
    "t = time.time()\n",
    "sys.stdout = log_file\n",
    "while emu.epoch is not None and emu.epoch<TOTAL_EPOCHS:\n",
    "    # log time\n",
    "    print \"Epoch {}, \".format(emu.epoch),\n",
    "    left = emu.te.head_datetime + emu.te.epoch*emu.te.time_step\n",
    "    right = left + emu.te.time_step\n",
    "    print \"{} - {}\".format(left.strftime(\"%Y-%m-%d %H:%M:%S\"), right.strftime(\"%Y-%m-%d %H:%M:%S\"))\n",
    "    emu.step()\n",
    "    print\n",
    "sys.stdout = std_out\n",
    "log_file.close()\n",
    "time.time()-t"
   ]
  },
  {
   "cell_type": "markdown",
   "metadata": {},
   "source": [
    "---"
   ]
  },
  {
   "cell_type": "code",
   "execution_count": 9,
   "metadata": {
    "collapsed": false
   },
   "outputs": [],
   "source": [
    "#1 N(0,1)\n",
    "N_off, N_on = 0, 3\n",
    "log_file = \"sleep_control/experiments/log/message_2016-6-17_Poisson1_N03.log\"\n",
    "time_step, n_days = pd.Timedelta(seconds=2), 7\n",
    "TOTAL_EPOCHS = 3600*24*n_days/2\n",
    "backoff = num_buffer*memory_size+phi_length\n",
    "head_datetime = pd.to_datetime(\"2014-10-15 09:40:00\") - time_step*backoff\n",
    "beta=0.5\n",
    "mu = 1"
   ]
  },
  {
   "cell_type": "code",
   "execution_count": 10,
   "metadata": {
    "collapsed": false
   },
   "outputs": [
    {
     "name": "stdout",
     "output_type": "stream",
     "text": [
      "New TrafficEmulator with parameters:\n",
      "  head=2014-09-15 09:40:00\n",
      "  tail=2015-01-31 15:36:36\n",
      "  time_step=0 days 00:00:02\n",
      "  epoch=0\n",
      "  verbose=2\n"
     ]
    },
    {
     "data": {
      "text/plain": [
       "1677.743458032608"
      ]
     },
     "execution_count": 10,
     "metadata": {},
     "output_type": "execute_result"
    }
   ],
   "source": [
    "log_file = open(log_file,\"w\")\n",
    "dim_state = (1, phi_length, 3+2)\n",
    "actions = [(True, None), (False, 'serve_all')]\n",
    "tail_datetime = head_datetime + pd.Timedelta(days=1)*n_days*5\n",
    "te = sleep_control.traffic_emulator.PoissonEmulator(session_df=fake_df, head_datetime=head_dt, tail_datetime=tail_dt, time_step=time_step, \n",
    "                                                    mu=mu, verbose=2)\n",
    "ts = sleep_control.traffic_server.TrafficServer(cost=5, verbose=2)\n",
    "c = NController(N_off=N_off, N_on=N_on)\n",
    "emu = sleep_control.integration.Emulation(te=te, ts=ts, c=c, beta=beta)\n",
    "t = time.time()\n",
    "sys.stdout = log_file\n",
    "while emu.epoch is not None and emu.epoch<TOTAL_EPOCHS:\n",
    "    # log time\n",
    "    print \"Epoch {}, \".format(emu.epoch),\n",
    "    left = emu.te.head_datetime + emu.te.epoch*emu.te.time_step\n",
    "    right = left + emu.te.time_step\n",
    "    print \"{} - {}\".format(left.strftime(\"%Y-%m-%d %H:%M:%S\"), right.strftime(\"%Y-%m-%d %H:%M:%S\"))\n",
    "    emu.step()\n",
    "    print\n",
    "sys.stdout = std_out\n",
    "log_file.close()\n",
    "time.time()-t"
   ]
  },
  {
   "cell_type": "markdown",
   "metadata": {},
   "source": [
    "---"
   ]
  },
  {
   "cell_type": "code",
   "execution_count": 11,
   "metadata": {
    "collapsed": false
   },
   "outputs": [],
   "source": [
    "#1 N(0,1)\n",
    "N_off, N_on = 0, 4\n",
    "log_file = \"sleep_control/experiments/log/message_2016-6-17_Poisson1_N04.log\"\n",
    "time_step, n_days = pd.Timedelta(seconds=2), 7\n",
    "TOTAL_EPOCHS = 3600*24*n_days/2\n",
    "backoff = num_buffer*memory_size+phi_length\n",
    "head_datetime = pd.to_datetime(\"2014-10-15 09:40:00\") - time_step*backoff\n",
    "beta=0.5\n",
    "mu = 1"
   ]
  },
  {
   "cell_type": "code",
   "execution_count": 12,
   "metadata": {
    "collapsed": false
   },
   "outputs": [
    {
     "name": "stdout",
     "output_type": "stream",
     "text": [
      "New TrafficEmulator with parameters:\n",
      "  head=2014-09-15 09:40:00\n",
      "  tail=2015-01-31 15:36:36\n",
      "  time_step=0 days 00:00:02\n",
      "  epoch=0\n",
      "  verbose=2\n"
     ]
    },
    {
     "data": {
      "text/plain": [
       "1686.718092918396"
      ]
     },
     "execution_count": 12,
     "metadata": {},
     "output_type": "execute_result"
    }
   ],
   "source": [
    "log_file = open(log_file,\"w\")\n",
    "dim_state = (1, phi_length, 3+2)\n",
    "actions = [(True, None), (False, 'serve_all')]\n",
    "tail_datetime = head_datetime + pd.Timedelta(days=1)*n_days*5\n",
    "te = sleep_control.traffic_emulator.PoissonEmulator(session_df=fake_df, head_datetime=head_dt, tail_datetime=tail_dt, time_step=time_step, \n",
    "                                                    mu=mu, verbose=2)\n",
    "ts = sleep_control.traffic_server.TrafficServer(cost=5, verbose=2)\n",
    "c = NController(N_off=N_off, N_on=N_on)\n",
    "emu = sleep_control.integration.Emulation(te=te, ts=ts, c=c, beta=beta)\n",
    "t = time.time()\n",
    "sys.stdout = log_file\n",
    "while emu.epoch is not None and emu.epoch<TOTAL_EPOCHS:\n",
    "    # log time\n",
    "    print \"Epoch {}, \".format(emu.epoch),\n",
    "    left = emu.te.head_datetime + emu.te.epoch*emu.te.time_step\n",
    "    right = left + emu.te.time_step\n",
    "    print \"{} - {}\".format(left.strftime(\"%Y-%m-%d %H:%M:%S\"), right.strftime(\"%Y-%m-%d %H:%M:%S\"))\n",
    "    emu.step()\n",
    "    print\n",
    "sys.stdout = std_out\n",
    "log_file.close()\n",
    "time.time()-t"
   ]
  }
 ],
 "metadata": {
  "kernelspec": {
   "display_name": "Python 2",
   "language": "python",
   "name": "python2"
  },
  "language_info": {
   "codemirror_mode": {
    "name": "ipython",
    "version": 2
   },
   "file_extension": ".py",
   "mimetype": "text/x-python",
   "name": "python",
   "nbconvert_exporter": "python",
   "pygments_lexer": "ipython2",
   "version": "2.7.6"
  }
 },
 "nbformat": 4,
 "nbformat_minor": 0
}
