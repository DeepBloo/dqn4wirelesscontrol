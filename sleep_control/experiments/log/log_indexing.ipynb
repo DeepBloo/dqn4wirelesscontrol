{
 "cells": [
  {
   "cell_type": "code",
   "execution_count": 13,
   "metadata": {
    "collapsed": true
   },
   "outputs": [],
   "source": [
    "import re\n",
    "import pandas as pd"
   ]
  },
  {
   "cell_type": "code",
   "execution_count": 14,
   "metadata": {
    "collapsed": false
   },
   "outputs": [],
   "source": [
    "re_epoch_msg = re.compile(\n",
    "'Epoch (?P<epoch>\\d+),  (?P<start_ts>\\d{4}-\\d{2}-\\d{2} \\d{2}:\\d{2}:\\d{2}) - (?P<end_ts>\\d{4}-\\d{2}-\\d{2} \\d{2}:\\d{2}:\\d{2})\\n'  # epoch & time stamp\n",
    "'Last reward: ((?P<last_reward>[-]*\\d+)|(None))\\n'  # reward\n",
    "'  TrafficEmulator.generate_traffic\\(\\): located (?P<session_in>\\d+), droped (?P<session_out>\\d+), left (?P<session_net>\\d+) sessions in epoch \\d+.\\n'  # session dynamics\n",
    "'  TrafficEmulator.generate_requests_\\(\\): generated (?P<req_generated>\\d+) requests at epoch \\d+.\\n'  # how many requests generated?\n",
    "'Observation: \\((?P<ob_last_q>\\d+), (?P<ob_last_t>\\d+), (?P<ob_new_q>\\d+)\\)\\n'  # current observation slice\n",
    "'(    QAgentNN:  batch action distribution: (?P<batch_dist>\\{\\(False, \\'serve_all\\'\\): (?P<batch_dist_wake>[a-zA-Z\\d\\.-]+), \\(True, None\\): (?P<batch_dist_sleep>[a-zA-Z\\d\\.-]+)\\})\\n){0,1}'  # batch distribution\n",
    "'  QAgentNN:  '\n",
    "    '(?P<agent_update_msg>(last_reward is None, agent not updated.)|'\n",
    "    '(state is None, agent not updated.)|(unfull memory.)|'\n",
    "    '(frozen net at counter (?P<counter>\\d+).)|(update loss is (?P<loss>[\\d\\.]+) at counter \\d+, reward_scaling is (?P<reward_scaling>[a-zA-Z\\d\\.-]+))'\n",
    "    ')\\n'  # agent update message: reason, counter, & loss\n",
    "'  QAgent:  (?P<agent_act_msg>'\n",
    "             '((randomly choose action( \\([a-zA-Z,_ \\']+\\)){0,1})|(choose best q among (?P<q_vals>\\{\\(False, \\'serve_all\\'\\): (?P<q_wake>[a-zA-Z\\d\\.-]+), \\(True, None\\): (?P<q_sleep>[a-zA-Z\\d\\.-]+)\\})))'\n",
    "             ' \\((?P<agent_act_basis>[a-zA-Z ]+)\\).)\\n'\n",
    "'Control: (?P<agent_action>\\([a-zA-Z,_ \\']+\\)), Agent update: [a-zA-Z\\d\\.-]+\\n'\n",
    "'(  TrafficServer: Serving all \\d+ requests in queue.\\n    TrafficServer: Dropped \\d+ q entries to deduplicate\\n  TrafficServer:  \\(False, \\'serve_all\\'\\)\\n){0,1}'\n",
    "'  TrafficEmulator.evaluate_service_\\(\\): '\n",
    "    'served (?P<req_served>\\d+), queued (?P<req_queued>\\d+), '\n",
    "    'rejected (?P<req_rejected>\\d+) \\((?P<req_retried>\\d+), (?P<req_canceled>\\d+)\\), unattended (?P<req_unattended>\\d+) at epoch \\d+, '\n",
    "    'reward [-]*\\d+ \\((?P<tr_reward_serve>[-]*\\d+), (?P<tr_reward_wait>[-]*\\d+), (?P<tr_reward_fail>[-]*\\d+)\\)\\n'\n",
    "'  TrafficEmulator.evaluate_service_\\(\\): buffer info: pending (?P<req_pending_all>\\d+), waiting (?P<req_waiting_all>\\d+), served (?P<req_served_all>\\d+), failed (?P<req_failed_all>\\d+)\\n'\n",
    "'Cost: (?P<op_cost>[-]*\\d+), Reward: (?P<tr_reward>[-]*\\d+)\\n{0,1}'\n",
    ")"
   ]
  },
  {
   "cell_type": "code",
   "execution_count": 15,
   "metadata": {
    "collapsed": false
   },
   "outputs": [],
   "source": [
    "def index_file(file):\n",
    "    with open(file, \"r\") as f_log:\n",
    "        all_log = \"\".join(f_log.readlines()).split('\\n\\n')\n",
    "        extract = [re_epoch_msg.search(piece) for piece in all_log]\n",
    "        df = pd.DataFrame.from_dict([piece.groupdict() for piece in extract if piece is not None])\n",
    "        df.set_index('epoch')\n",
    "        df.index.name = 'epoch'\n",
    "    with open(\"index_\"+file+\".csv\", \"w\") as f_ind:\n",
    "        df.to_csv(f_ind, sep=';', index=True, header=True)"
   ]
  },
  {
   "cell_type": "code",
   "execution_count": 20,
   "metadata": {
    "collapsed": false
   },
   "outputs": [
    {
     "ename": "IOError",
     "evalue": "[Errno 2] No such file or directory: 'message_2016-6-4_1641.log'",
     "output_type": "error",
     "traceback": [
      "\u001b[1;31m---------------------------------------------------------------------------\u001b[0m",
      "\u001b[1;31mIOError\u001b[0m                                   Traceback (most recent call last)",
      "\u001b[1;32m<ipython-input-20-4fcda41c54bd>\u001b[0m in \u001b[0;36m<module>\u001b[1;34m()\u001b[0m\n\u001b[0;32m      1\u001b[0m files = [\"message_2016-6-4_1641.log\",\n\u001b[0;32m      2\u001b[0m  ]\n\u001b[1;32m----> 3\u001b[1;33m \u001b[0mmap\u001b[0m\u001b[1;33m(\u001b[0m\u001b[0mindex_file\u001b[0m\u001b[1;33m,\u001b[0m \u001b[0mfiles\u001b[0m\u001b[1;33m)\u001b[0m\u001b[1;33m\u001b[0m\u001b[0m\n\u001b[0m",
      "\u001b[1;32m<ipython-input-15-abc8c089e22d>\u001b[0m in \u001b[0;36mindex_file\u001b[1;34m(file)\u001b[0m\n\u001b[0;32m      1\u001b[0m \u001b[1;32mdef\u001b[0m \u001b[0mindex_file\u001b[0m\u001b[1;33m(\u001b[0m\u001b[0mfile\u001b[0m\u001b[1;33m)\u001b[0m\u001b[1;33m:\u001b[0m\u001b[1;33m\u001b[0m\u001b[0m\n\u001b[1;32m----> 2\u001b[1;33m     \u001b[1;32mwith\u001b[0m \u001b[0mopen\u001b[0m\u001b[1;33m(\u001b[0m\u001b[0mfile\u001b[0m\u001b[1;33m,\u001b[0m \u001b[1;34m\"r\"\u001b[0m\u001b[1;33m)\u001b[0m \u001b[1;32mas\u001b[0m \u001b[0mf_log\u001b[0m\u001b[1;33m:\u001b[0m\u001b[1;33m\u001b[0m\u001b[0m\n\u001b[0m\u001b[0;32m      3\u001b[0m         \u001b[0mall_log\u001b[0m \u001b[1;33m=\u001b[0m \u001b[1;34m\"\"\u001b[0m\u001b[1;33m.\u001b[0m\u001b[0mjoin\u001b[0m\u001b[1;33m(\u001b[0m\u001b[0mf_log\u001b[0m\u001b[1;33m.\u001b[0m\u001b[0mreadlines\u001b[0m\u001b[1;33m(\u001b[0m\u001b[1;33m)\u001b[0m\u001b[1;33m)\u001b[0m\u001b[1;33m.\u001b[0m\u001b[0msplit\u001b[0m\u001b[1;33m(\u001b[0m\u001b[1;34m'\\n\\n'\u001b[0m\u001b[1;33m)\u001b[0m\u001b[1;33m\u001b[0m\u001b[0m\n\u001b[0;32m      4\u001b[0m         \u001b[0mextract\u001b[0m \u001b[1;33m=\u001b[0m \u001b[1;33m[\u001b[0m\u001b[0mre_epoch_msg\u001b[0m\u001b[1;33m.\u001b[0m\u001b[0msearch\u001b[0m\u001b[1;33m(\u001b[0m\u001b[0mpiece\u001b[0m\u001b[1;33m)\u001b[0m \u001b[1;32mfor\u001b[0m \u001b[0mpiece\u001b[0m \u001b[1;32min\u001b[0m \u001b[0mall_log\u001b[0m\u001b[1;33m]\u001b[0m\u001b[1;33m\u001b[0m\u001b[0m\n\u001b[0;32m      5\u001b[0m         \u001b[0mdf\u001b[0m \u001b[1;33m=\u001b[0m \u001b[0mpd\u001b[0m\u001b[1;33m.\u001b[0m\u001b[0mDataFrame\u001b[0m\u001b[1;33m.\u001b[0m\u001b[0mfrom_dict\u001b[0m\u001b[1;33m(\u001b[0m\u001b[1;33m[\u001b[0m\u001b[0mpiece\u001b[0m\u001b[1;33m.\u001b[0m\u001b[0mgroupdict\u001b[0m\u001b[1;33m(\u001b[0m\u001b[1;33m)\u001b[0m \u001b[1;32mfor\u001b[0m \u001b[0mpiece\u001b[0m \u001b[1;32min\u001b[0m \u001b[0mextract\u001b[0m \u001b[1;32mif\u001b[0m \u001b[0mpiece\u001b[0m \u001b[1;32mis\u001b[0m \u001b[1;32mnot\u001b[0m \u001b[0mNone\u001b[0m\u001b[1;33m]\u001b[0m\u001b[1;33m)\u001b[0m\u001b[1;33m\u001b[0m\u001b[0m\n",
      "\u001b[1;31mIOError\u001b[0m: [Errno 2] No such file or directory: 'message_2016-6-4_1641.log'"
     ]
    }
   ],
   "source": [
    "files = [\"message_2016-6-4_1641.log\",\n",
    " ]\n",
    "map(index_file, files)"
   ]
  }
 ],
 "metadata": {
  "kernelspec": {
   "display_name": "Python 2",
   "language": "python",
   "name": "python2"
  },
  "language_info": {
   "codemirror_mode": {
    "name": "ipython",
    "version": 2
   },
   "file_extension": ".py",
   "mimetype": "text/x-python",
   "name": "python",
   "nbconvert_exporter": "python",
   "pygments_lexer": "ipython2",
   "version": "2.7.6"
  }
 },
 "nbformat": 4,
 "nbformat_minor": 0
}
