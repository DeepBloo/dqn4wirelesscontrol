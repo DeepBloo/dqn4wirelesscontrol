{
 "cells": [
  {
   "cell_type": "code",
   "execution_count": 4,
   "metadata": {
    "collapsed": false
   },
   "outputs": [
    {
     "name": "stdout",
     "output_type": "stream",
     "text": [
      "Automatically created module for IPython interactive environment\n",
      "Populating the interactive namespace from numpy and matplotlib\n"
     ]
    }
   ],
   "source": [
    "print(__doc__)\n",
    "\n",
    "import numpy as np\n",
    "import matplotlib.pyplot as plt\n",
    "%pylab inline\n",
    "\n",
    "from hmmlearn import hmm"
   ]
  },
  {
   "cell_type": "code",
   "execution_count": 786,
   "metadata": {
    "collapsed": true
   },
   "outputs": [],
   "source": [
    "model = hmm.MultinomialHMM(n_components=2, n_iter=100, init_params='st', verbose=False)\n",
    "model.startprob_ = np.array([.5, .5])\n",
    "model.transmat_ = np.array([[0.7, 0.3], [0.3, 0.7]])\n",
    "model.emissionprob_ = np.array([[0.8, 0.2], [1.0, 0.0]])"
   ]
  },
  {
   "cell_type": "code",
   "execution_count": 787,
   "metadata": {
    "collapsed": false
   },
   "outputs": [
    {
     "name": "stdout",
     "output_type": "stream",
     "text": [
      "[  7.57300795e-09   9.99999992e-01]\n",
      "[[ 0.34357728  0.65642272]\n",
      " [ 0.21949885  0.78050115]]\n",
      "[[ 0.64618221  0.35381779]\n",
      " [ 0.98739604  0.01260396]]\n"
     ]
    }
   ],
   "source": [
    "model.emissionprob_ = np.array([[0.8, 0.2], [1.0, 0.0]])\n",
    "X, Z = model.sample(10000)\n",
    "model.emissionprob_ = np.array([[0.2, 0.8], [0.9, 0.1]])\n",
    "model.fit(X)\n",
    "print model.startprob_\n",
    "print model.transmat_\n",
    "print model.emissionprob_"
   ]
  },
  {
   "cell_type": "code",
   "execution_count": 788,
   "metadata": {
    "collapsed": true
   },
   "outputs": [],
   "source": [
    "framelogprob = model._compute_log_likelihood(X)\n",
    "logprob, fwdlattice = model._do_forward_pass(framelogprob)"
   ]
  },
  {
   "cell_type": "code",
   "execution_count": 789,
   "metadata": {
    "collapsed": false
   },
   "outputs": [
    {
     "data": {
      "text/plain": [
       "[<matplotlib.lines.Line2D at 0x7f0b64faa7d0>]"
      ]
     },
     "execution_count": 789,
     "metadata": {},
     "output_type": "execute_result"
    },
    {
     "data": {
      "image/png": "[encoded data removed]",
      "text/plain": [
       "<matplotlib.figure.Figure at 0x7f0b6505dd10>"
      ]
     },
     "metadata": {},
     "output_type": "display_data"
    }
   ],
   "source": [
    "plt.plot(np.sum(fwdlattice, axis=1))"
   ]
  },
  {
   "cell_type": "code",
   "execution_count": 785,
   "metadata": {
    "collapsed": false
   },
   "outputs": [
    {
     "data": {
      "text/plain": [
       "array([-162.12374327, -160.61244473])"
      ]
     },
     "execution_count": 785,
     "metadata": {},
     "output_type": "execute_result"
    }
   ],
   "source": [
    "fwdlattice[-1]"
   ]
  },
  {
   "cell_type": "code",
   "execution_count": 783,
   "metadata": {
    "collapsed": false
   },
   "outputs": [
    {
     "data": {
      "text/plain": [
       "-160.41308309797549"
      ]
     },
     "execution_count": 783,
     "metadata": {},
     "output_type": "execute_result"
    }
   ],
   "source": [
    "logprob"
   ]
  },
  {
   "cell_type": "code",
   "execution_count": 794,
   "metadata": {
    "collapsed": false
   },
   "outputs": [
    {
     "data": {
      "text/plain": [
       "array([[[1]],\n",
       "\n",
       "       [[2]],\n",
       "\n",
       "       [[3]]])"
      ]
     },
     "execution_count": 794,
     "metadata": {},
     "output_type": "execute_result"
    }
   ],
   "source": [
    "np.array([1,2,3])[:, np.newaxis,np.newaxis]"
   ]
  },
  {
   "cell_type": "code",
   "execution_count": null,
   "metadata": {
    "collapsed": true
   },
   "outputs": [],
   "source": [
    "from hmmlearn.base import _BaseHMM"
   ]
  },
  {
   "cell_type": "code",
   "execution_count": 811,
   "metadata": {
    "collapsed": false
   },
   "outputs": [
    {
     "data": {
      "text/plain": [
       "array([ 1.17054266,  0.08625259])"
      ]
     },
     "execution_count": 811,
     "metadata": {},
     "output_type": "execute_result"
    }
   ],
   "source": [
    "model.random_state.randn(2)**2"
   ]
  },
  {
   "cell_type": "code",
   "execution_count": 833,
   "metadata": {
    "collapsed": false
   },
   "outputs": [],
   "source": [
    "from scipy.stats import poisson"
   ]
  },
  {
   "cell_type": "code",
   "execution_count": 912,
   "metadata": {
    "collapsed": false
   },
   "outputs": [
    {
     "data": {
      "text/plain": [
       "(-3203.8934674794095, array([[  4.70171035e-09,   9.99999995e-01],\n",
       "        [  1.48652016e-01,   8.51347984e-01],\n",
       "        [  1.63070529e-01,   8.36929471e-01],\n",
       "        ..., \n",
       "        [  2.35560796e-01,   7.64439204e-01],\n",
       "        [  1.72131345e-01,   8.27868655e-01],\n",
       "        [  1.72599044e-01,   8.27400956e-01]]))"
      ]
     },
     "execution_count": 912,
     "metadata": {},
     "output_type": "execute_result"
    }
   ],
   "source": [
    "model.score_samples(X)"
   ]
  },
  {
   "cell_type": "code",
   "execution_count": 1,
   "metadata": {
    "collapsed": false
   },
   "outputs": [],
   "source": [
    "import sys\n",
    "import numpy as np\n",
    "sys.path.append('../')\n",
    "from rl.mmpp import MMPP"
   ]
  },
  {
   "cell_type": "code",
   "execution_count": 74,
   "metadata": {
    "collapsed": false
   },
   "outputs": [],
   "source": [
    "model = MMPP(n_components=2, n_iter=2000, init_params='s', verbose=False)\n",
    "model.startprob_ = np.array([.2, .2])"
   ]
  },
  {
   "cell_type": "code",
   "execution_count": null,
   "metadata": {
    "collapsed": true
   },
   "outputs": [],
   "source": [
    "model.emissionrates_ = np.array([1.0, 0.0])\n",
    "model.transmat_ = np.array([[0.9, 0.1], [0.5, 0.5]])"
   ]
  },
  {
   "cell_type": "code",
   "execution_count": 87,
   "metadata": {
    "collapsed": false
   },
   "outputs": [
    {
     "name": "stdout",
     "output_type": "stream",
     "text": [
      "[  1.53171018e-46   1.00000000e+00]\n",
      "[[ 0.88405664  0.11594336]\n",
      " [ 0.55086673  0.44913327]]\n",
      "[ 1.01580837  0.00671605]\n"
     ]
    }
   ],
   "source": [
    "X, Z = model.sample(1000)\n",
    "# model.emissionrates_ = np.array([2.0, 1.0])\n",
    "# model.transmat_ = np.array([[0.5, 0.5], [0.5, 0.5]])\n",
    "model.fit(X)\n",
    "print model.startprob_\n",
    "print model.transmat_\n",
    "print model.emissionrates_"
   ]
  }
 ],
 "metadata": {
  "kernelspec": {
   "display_name": "Python 2",
   "language": "python",
   "name": "python2"
  },
  "language_info": {
   "codemirror_mode": {
    "name": "ipython",
    "version": 2
   },
   "file_extension": ".py",
   "mimetype": "text/x-python",
   "name": "python",
   "nbconvert_exporter": "python",
   "pygments_lexer": "ipython2",
   "version": "2.7.6"
  }
 },
 "nbformat": 4,
 "nbformat_minor": 0
}
